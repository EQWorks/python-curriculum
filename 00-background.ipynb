{
 "cells": [
  {
   "cell_type": "markdown",
   "metadata": {},
   "source": [
    "# Part 00 - Background"
   ]
  },
  {
   "cell_type": "markdown",
   "metadata": {},
   "source": [
    "## From Voltage to Language\n",
    "\n",
    "From a technical perspective, the journey from electrical voltage to programming language is complex.\n",
    "But for the purpose of understanding the background of how \"programming\" came to be, it roughly goes through 3 stages."
   ]
  },
  {
   "cell_type": "markdown",
   "metadata": {},
   "source": [
    "### Stage 1 - Digitization\n",
    "\n",
    "Programming is formed on a chain of clever abstractions. Digitization lays the foundation for them -- a process which quantizes analog/continuous signals into digital/discrete signals (binaries, or 0s and 1s).\n",
    "\n",
    "![digitization](https://i.imgur.com/4jijPSp.png)\n",
    "\n",
    "Abstraction is not the only scientific/engineering concept applied in the realm of computer science and programming. Another concept which would be helpful to understand is the various trade-offs made which made programming (at any given stage of abstractions) possible, or can be made in the practice of programming itself.\n",
    "\n",
    "One example of such trade-offs is the digitization of photography/videography. It loses the theoretically infinite resolution scalability and closer to human eyes-perception of real world provided by the photonic and chemical based solution (film). In return it gains a lot of advantages, to name a few:\n",
    "* Easier to manipulate, post and live (such as camera filters)\n",
    "* Cheaper and easier to store and distribute\n",
    "* Much faster feedback/viewability of the products (instantaneous in most cases)\n",
    "\n",
    "The key advantages of film is losing its appeal by the day, due to the development of more powerful camera sensors and image processors that give us higher (often more than enough) pxiel-count and better capability that tones colors, depths and contrast ever more closely to our eyes, and the growing capability in machine-learning based post-processing, etc."
   ]
  },
  {
   "cell_type": "markdown",
   "metadata": {},
   "source": [
    "### Stage 2 - Encoding\n",
    "\n",
    "Binaries allow us to manipulate and command computer hardware to do our bidding, but not with ease.\n",
    "\n",
    "![encoding](https://i.imgur.com/kbya2PT.png)\n",
    "\n",
    "In this scenario, encoding provides a path between the two parties so that machines and humans can understand each other better.\n",
    "\n",
    "Across the chain of abstractions, arguably the most important form of encoding exists in the form of Instruction Set Architectures (ISA). These architectures encode hardware instructions that map into combinations of binaries.\n",
    "\n",
    "The same concept has been applied successfully in the fantasy realm too:\n",
    "\n",
    "![alohomora](https://i.imgur.com/XzkGbOC.png)\n",
    "\n",
    "One representation of ISAs is in the form of assembly languages. An example from the MIPS (Microprocessor without Interlocked Pipelined Stages) 32-bit architecture looks like such:\n",
    "\n",
    "![MIPS32 addi](https://upload.wikimedia.org/wikipedia/commons/thumb/2/2a/Mips32_addi.svg/370px-Mips32_addi.svg.png)\n",
    "\n",
    "The above assembly instruction (`addi $r1 $r2 350`) takes the value stored in a register (`$r1`), performs the operation (`addi`, or \"add immediate\") to the immediate value (`350`), then store the result into another register (`$r2`).\n",
    "\n",
    "These instructions are about the first layer of near-natural programming languages that humans _can_ program with. But humans generally don't _want_ to program with them, because they are too verbose and lengthy to achieve even the simplest operations. They are also easy for humans to make mistakes because humans are not best at being consistent. For these reasons, computer scientists and engineers come up with solutions such as compilers and virtual machines that translate simpler languages into patterns and series of instructions that are known to be working with given architecture(s)."
   ]
  },
  {
   "cell_type": "markdown",
   "metadata": {},
   "source": [
    "### Stage 3 - Programming languages\n",
    "\n",
    "These languages map a subset of logical human natural languages, sometimes through one or many layers of other programming languages, eventually into hardware instructions of one or many suitable ISAs, all through aforementioned abstractions enabled by encodings.\n",
    "\n",
    "According to Stack Overflow Developer Survey 2020 (from 65,000 participants), these are the actively used/asked-about (25) languages by popularity:\n",
    "![languages](https://i.imgur.com/CE2ZX8W.png)\n",
    "\n",
    "Each of these programming languages have their distinct features and strengths that make them suitable over others for certain areas of tasks. Many of them also have overlapping strengths (or weaknesses). So the choice of programming languages for the job often comes down to:\n",
    "1. Trade-offs between apparent strengths needed, and weakness that can be overlooked\n",
    "2. Ecosystem of community, reusable libraries and packages\n",
    "3. Personal or collective preferences\n",
    "\n",
    "Like natural (human) languages, they come in various shapes and forms. In the realm of computer science, some of the key variances are classified as language paradigms. These abstracted concepts are important, but they are better acquired through actual practice -- programming. Much like stating perfectly grammatically correct sentences doesn't automatically win you a debate, knowing all aspects of the programming language doesn't automatically write itself and makes you the next Mark Zuckerberg. As natural languages are a toolbox to convey ideas, programming languages are a toolbox to solve problems and accomplish objectives. In such context, ideas, problems, and objectives are more valuable than tools themselves. Therefore in this series, we will ease-in some of the abstracted concepts from various aspects when it matters, but only briefly mention or outright skip many that do not matter."
   ]
  },
  {
   "cell_type": "markdown",
   "metadata": {},
   "source": [
    "## Natures of Programming\n",
    "\n",
    "A program is a set of instructions defined through a programming language. They can often be visualized through a flowchart such as:\n",
    "\n",
    "![euclid](https://upload.wikimedia.org/wikipedia/commons/thumb/d/db/Euclid_flowchart.svg/800px-Euclid_flowchart.svg.png)\n",
    "\n",
    "In mathematics and computer science, the technical term for above example is called an \"algorithm\". And they are usually re-usable/applicable to other problems that are in the similar class. They are usually also implementable through many different programming languages. Algorithms can also be represented in the form of mathematical equations and pseudocode."
   ]
  },
  {
   "cell_type": "markdown",
   "metadata": {},
   "source": [
    "### Objective Centric\n",
    "\n",
    "It's always helpful to define goals which the program intends to accomplish. Since the development cycles are often variable, it's also helpful to break larger problems down to smaller chunks which would be resembling the [_Digitization_](#Stage-1---Digitization) process so you can get smaller sets of more manageable problems to solve and have more focused perspectives on what kind of trade-offs need to be taken."
   ]
  },
  {
   "cell_type": "markdown",
   "metadata": {},
   "source": [
    "### Logical\n",
    "\n",
    "Programming is highly logical because it's built on top of \"logic gates\" that toggle the binary bits (0s and 1s) to form meaningful combinations that translate to hardware instructions. Programmers have to follow specific rules (syntax and semantics) of a given programming language and/or the target platforms the program is intended to run on. Like LEGO® blocks, there are only a finite shape of them to be utilized, and they all follow certain \"system\" to be effectively bound together."
   ]
  },
  {
   "cell_type": "markdown",
   "metadata": {},
   "source": [
    "### Creative\n",
    "Programming is also highly creative because it can be expressed in many ways for the same objectives, much like human languages.\n",
    "\n",
    "```\n",
    "#include <time.h> //  Robert Nystrom\n",
    "#include <stdio.h> // @munificentbob\n",
    "#include <stdlib.h> //     for Ginny\n",
    "#define  r return    //    2008-2019\n",
    "#define  l(a, b, c, d) for (i y=a;y\\\n",
    "<b; y++) for (int x = c; x < d; x++)\n",
    "typedef int i;const i H=40;const i W\n",
    "=80;i m[40][80];i g(i x){r rand()%x;\n",
    "}void cave(i s){i w=g(10)+5;i h=g(6)\n",
    "+3;i t=g(W-w-2)+1;i u=g(H-h-2)+1;l(u\n",
    "-1,u+h+2,t-1            ,t+w+2)if(m[\n",
    "y][x]=='.'                  )r;i d=0\n",
    ";i e,f        ;if(!s){l(      u-1,u+\n",
    "h+2,t-    1,t+w+2){i s=x<t     ||x>t\n",
    "+w;i    t=y<u||           y>    u+h;\n",
    "if(s    ^t&&              m[      y]\n",
    "[x    ]=='#'    ){d++;    if(g    (d\n",
    ")     ==0)    e=x,f=y;    }}if    (d\n",
    "==    0)r;    }l(u-1,u    +h+2    ,t\n",
    "-1    ,t+w    +2){i s=    x< t    ||\n",
    "x>    t+w;    i t= y<u    ||y>    u+\n",
    "h;    m[y]      [x]= s    &&t?   '!'\n",
    ":s^t    ?'#'                    :'.'\n",
    ";}if    (d>0)m                  [f][\n",
    "e]=g(2    )?'\\'':'+';for(i j=0;j<(s?\n",
    "1:g(6)        +1);j++)m[g(h)+u][g(w)\n",
    "+t]=s?'@'                 :g(4) ==0?\n",
    "'$':65+g(62)              ;}i main(i\n",
    "argc, const char* argv[]) {srand((i)\n",
    "time(NULL));l(0, H, 0,W)m[y][x]=' ';\n",
    "for(i j=0;j<1000;j++)cave(j==0);l(0,\n",
    "H,0,W) {i c=m[y][x]; putchar(c=='!'?\n",
    "'#':c);if(x==W-1)printf(\"\\n\");}r 0;}\n",
    "```\n",
    "\n",
    "([A random dungeon generator that fits on a business card](https://gist.github.com/munificent/b1bcd969063da3e6c298be070a22b604))\n",
    "\n",
    "To achieve certain objectives, programmers often need to work around constraints imposed by the programming language, target platforms, and lower-level abstractions that form up the programming language itself. Again, like LEGO® blocks, even with finite shapes, people with fantastic _ideas_ can achieve things like:\n",
    "\n",
    "![lego pharaoh](https://ideascdn.lego.com/media/generate/lego_ci/e4f583c4-d0b5-4d44-8e49-e3eae077e1a4/resize:800:450/webp)"
   ]
  },
  {
   "cell_type": "code",
   "execution_count": null,
   "metadata": {},
   "outputs": [],
   "source": []
  }
 ],
 "metadata": {
  "kernelspec": {
   "display_name": "Python 3",
   "language": "python",
   "name": "python3"
  },
  "language_info": {
   "codemirror_mode": {
    "name": "ipython",
    "version": 3
   },
   "file_extension": ".py",
   "mimetype": "text/x-python",
   "name": "python",
   "nbconvert_exporter": "python",
   "pygments_lexer": "ipython3",
   "version": "3.8.2"
  }
 },
 "nbformat": 4,
 "nbformat_minor": 4
}
