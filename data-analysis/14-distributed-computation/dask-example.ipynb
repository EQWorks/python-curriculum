{
 "cells": [
  {
   "cell_type": "markdown",
   "id": "3132706e",
   "metadata": {},
   "source": [
    "# Dask \n",
    "\n",
    "An open-source software tool with the intended purpose: \n",
    "\n",
    "* *to scale computational libraries like Numpy, Pandas, and Scikit-Learn* \n",
    "* *to scale to multi-core machines and distributed clusters within Python ecosystem*\n",
    "\n",
    "\n",
    "### The uses of Dask generally fall into two categories:\n",
    "    1. Analysis of large datasets with common/familiar libraries (similar to Spark)\n",
    "    \n",
    "    2. Custom task scheduling (parallelization of custom workflows)"
   ]
  },
  {
   "cell_type": "markdown",
   "id": "80007731",
   "metadata": {},
   "source": [
    "## Analysis of Large Dataset\n",
    "### Dask can accelerate existing Python ecosystem\n",
    "\n",
    "### For comparison of the existing system and Dask we will be utilizing the libraries `Numpy`\n",
    "\n",
    "This comparison can also be done using the  `Pandas`, and `Scikit-Learn` libraries. "
   ]
  },
  {
   "cell_type": "code",
   "execution_count": 1,
   "id": "cae6ebd2",
   "metadata": {},
   "outputs": [],
   "source": [
    "import numpy as np\n",
    "import dask\n",
    "# Dask equivalent\n",
    "import dask.array as da"
   ]
  },
  {
   "cell_type": "markdown",
   "id": "04e95d47",
   "metadata": {},
   "source": [
    "Not originally designed to scale or beyond a single cpu or for data that doesn't fit memory. This often causes memory errors, or the need for switching library"
   ]
  },
  {
   "cell_type": "code",
   "execution_count": 2,
   "id": "34281a4e",
   "metadata": {},
   "outputs": [
    {
     "data": {
      "text/plain": [
       "array([[[1., 1., 1., 1., 1.],\n",
       "        [1., 1., 1., 1., 1.],\n",
       "        [1., 1., 1., 1., 1.],\n",
       "        [1., 1., 1., 1., 1.],\n",
       "        [1., 1., 1., 1., 1.]],\n",
       "\n",
       "       [[1., 1., 1., 1., 1.],\n",
       "        [1., 1., 1., 1., 1.],\n",
       "        [1., 1., 1., 1., 1.],\n",
       "        [1., 1., 1., 1., 1.],\n",
       "        [1., 1., 1., 1., 1.]],\n",
       "\n",
       "       [[1., 1., 1., 1., 1.],\n",
       "        [1., 1., 1., 1., 1.],\n",
       "        [1., 1., 1., 1., 1.],\n",
       "        [1., 1., 1., 1., 1.],\n",
       "        [1., 1., 1., 1., 1.]],\n",
       "\n",
       "       [[1., 1., 1., 1., 1.],\n",
       "        [1., 1., 1., 1., 1.],\n",
       "        [1., 1., 1., 1., 1.],\n",
       "        [1., 1., 1., 1., 1.],\n",
       "        [1., 1., 1., 1., 1.]],\n",
       "\n",
       "       [[1., 1., 1., 1., 1.],\n",
       "        [1., 1., 1., 1., 1.],\n",
       "        [1., 1., 1., 1., 1.],\n",
       "        [1., 1., 1., 1., 1.],\n",
       "        [1., 1., 1., 1., 1.]],\n",
       "\n",
       "       [[1., 1., 1., 1., 1.],\n",
       "        [1., 1., 1., 1., 1.],\n",
       "        [1., 1., 1., 1., 1.],\n",
       "        [1., 1., 1., 1., 1.],\n",
       "        [1., 1., 1., 1., 1.]],\n",
       "\n",
       "       [[1., 1., 1., 1., 1.],\n",
       "        [1., 1., 1., 1., 1.],\n",
       "        [1., 1., 1., 1., 1.],\n",
       "        [1., 1., 1., 1., 1.],\n",
       "        [1., 1., 1., 1., 1.]],\n",
       "\n",
       "       [[1., 1., 1., 1., 1.],\n",
       "        [1., 1., 1., 1., 1.],\n",
       "        [1., 1., 1., 1., 1.],\n",
       "        [1., 1., 1., 1., 1.],\n",
       "        [1., 1., 1., 1., 1.]],\n",
       "\n",
       "       [[1., 1., 1., 1., 1.],\n",
       "        [1., 1., 1., 1., 1.],\n",
       "        [1., 1., 1., 1., 1.],\n",
       "        [1., 1., 1., 1., 1.],\n",
       "        [1., 1., 1., 1., 1.]],\n",
       "\n",
       "       [[1., 1., 1., 1., 1.],\n",
       "        [1., 1., 1., 1., 1.],\n",
       "        [1., 1., 1., 1., 1.],\n",
       "        [1., 1., 1., 1., 1.],\n",
       "        [1., 1., 1., 1., 1.]]])"
      ]
     },
     "execution_count": 2,
     "metadata": {},
     "output_type": "execute_result"
    }
   ],
   "source": [
    "# Numpy\n",
    "x = np.ones((10, 5,5))\n",
    "x"
   ]
  },
  {
   "cell_type": "code",
   "execution_count": 3,
   "id": "f0c7dacd",
   "metadata": {},
   "outputs": [
    {
     "ename": "MemoryError",
     "evalue": "Unable to allocate 6.94 EiB for an array with shape (1000000, 1000000, 1000000) and data type float64",
     "output_type": "error",
     "traceback": [
      "\u001b[0;31m---------------------------------------------------------------------------\u001b[0m",
      "\u001b[0;31mMemoryError\u001b[0m                               Traceback (most recent call last)",
      "\u001b[0;32m<ipython-input-3-c2a7718898a2>\u001b[0m in \u001b[0;36m<module>\u001b[0;34m\u001b[0m\n\u001b[1;32m      1\u001b[0m \u001b[0;31m# Creates memory error because there isn't enough RAM available for it to store this data in memory\u001b[0m\u001b[0;34m\u001b[0m\u001b[0;34m\u001b[0m\u001b[0;34m\u001b[0m\u001b[0m\n\u001b[0;32m----> 2\u001b[0;31m \u001b[0mx\u001b[0m \u001b[0;34m=\u001b[0m \u001b[0mnp\u001b[0m\u001b[0;34m.\u001b[0m\u001b[0mones\u001b[0m\u001b[0;34m(\u001b[0m\u001b[0;34m(\u001b[0m\u001b[0;36m1000000\u001b[0m\u001b[0;34m,\u001b[0m \u001b[0;36m1000000\u001b[0m\u001b[0;34m,\u001b[0m\u001b[0;36m1000000\u001b[0m\u001b[0;34m)\u001b[0m\u001b[0;34m)\u001b[0m\u001b[0;34m\u001b[0m\u001b[0;34m\u001b[0m\u001b[0m\n\u001b[0m\u001b[1;32m      3\u001b[0m \u001b[0mx\u001b[0m\u001b[0;34m\u001b[0m\u001b[0;34m\u001b[0m\u001b[0m\n",
      "\u001b[0;32m/usr/local/lib/python3.9/site-packages/numpy/core/numeric.py\u001b[0m in \u001b[0;36mones\u001b[0;34m(shape, dtype, order, like)\u001b[0m\n\u001b[1;32m    202\u001b[0m         \u001b[0;32mreturn\u001b[0m \u001b[0m_ones_with_like\u001b[0m\u001b[0;34m(\u001b[0m\u001b[0mshape\u001b[0m\u001b[0;34m,\u001b[0m \u001b[0mdtype\u001b[0m\u001b[0;34m=\u001b[0m\u001b[0mdtype\u001b[0m\u001b[0;34m,\u001b[0m \u001b[0morder\u001b[0m\u001b[0;34m=\u001b[0m\u001b[0morder\u001b[0m\u001b[0;34m,\u001b[0m \u001b[0mlike\u001b[0m\u001b[0;34m=\u001b[0m\u001b[0mlike\u001b[0m\u001b[0;34m)\u001b[0m\u001b[0;34m\u001b[0m\u001b[0;34m\u001b[0m\u001b[0m\n\u001b[1;32m    203\u001b[0m \u001b[0;34m\u001b[0m\u001b[0m\n\u001b[0;32m--> 204\u001b[0;31m     \u001b[0ma\u001b[0m \u001b[0;34m=\u001b[0m \u001b[0mempty\u001b[0m\u001b[0;34m(\u001b[0m\u001b[0mshape\u001b[0m\u001b[0;34m,\u001b[0m \u001b[0mdtype\u001b[0m\u001b[0;34m,\u001b[0m \u001b[0morder\u001b[0m\u001b[0;34m)\u001b[0m\u001b[0;34m\u001b[0m\u001b[0;34m\u001b[0m\u001b[0m\n\u001b[0m\u001b[1;32m    205\u001b[0m     \u001b[0mmultiarray\u001b[0m\u001b[0;34m.\u001b[0m\u001b[0mcopyto\u001b[0m\u001b[0;34m(\u001b[0m\u001b[0ma\u001b[0m\u001b[0;34m,\u001b[0m \u001b[0;36m1\u001b[0m\u001b[0;34m,\u001b[0m \u001b[0mcasting\u001b[0m\u001b[0;34m=\u001b[0m\u001b[0;34m'unsafe'\u001b[0m\u001b[0;34m)\u001b[0m\u001b[0;34m\u001b[0m\u001b[0;34m\u001b[0m\u001b[0m\n\u001b[1;32m    206\u001b[0m     \u001b[0;32mreturn\u001b[0m \u001b[0ma\u001b[0m\u001b[0;34m\u001b[0m\u001b[0;34m\u001b[0m\u001b[0m\n",
      "\u001b[0;31mMemoryError\u001b[0m: Unable to allocate 6.94 EiB for an array with shape (1000000, 1000000, 1000000) and data type float64"
     ]
    }
   ],
   "source": [
    "# Creates memory error because there isn't enough RAM available for it to store this data in memory\n",
    "x = np.ones((1000000, 1000000,1000000))\n",
    "x"
   ]
  },
  {
   "cell_type": "markdown",
   "id": "fda6bd59",
   "metadata": {},
   "source": [
    "Here we create a 3D array of the same dimensions we saw previously.\n",
    "\n",
    "And the output shows the properties of the overall array, along with the properties of the chucks the array has been divided into. \n",
    "\n",
    "PiB = $1024^5$\n",
    "\n",
    "MiB = $1024^2$"
   ]
  },
  {
   "cell_type": "code",
   "execution_count": 4,
   "id": "f9cc9c6a",
   "metadata": {},
   "outputs": [
    {
     "data": {
      "text/html": [
       "<table>\n",
       "<tr>\n",
       "<td>\n",
       "<table>\n",
       "  <thead>\n",
       "    <tr><td> </td><th> Array </th><th> Chunk </th></tr>\n",
       "  </thead>\n",
       "  <tbody>\n",
       "    <tr><th> Bytes </th><td> 7105.43 PiB </td> <td> 119.21 MiB </td></tr>\n",
       "    <tr><th> Shape </th><td> (1000000, 1000000, 1000000) </td> <td> (250, 250, 250) </td></tr>\n",
       "    <tr><th> Count </th><td> 64000000000 Tasks </td><td> 64000000000 Chunks </td></tr>\n",
       "    <tr><th> Type </th><td> float64 </td><td> numpy.ndarray </td></tr>\n",
       "  </tbody>\n",
       "</table>\n",
       "</td>\n",
       "<td>\n",
       "<svg width=\"250\" height=\"240\" style=\"stroke:rgb(0,0,0);stroke-width:1\" >\n",
       "\n",
       "  <!-- Horizontal lines -->\n",
       "  <line x1=\"10\" y1=\"0\" x2=\"80\" y2=\"70\" style=\"stroke-width:2\" />\n",
       "  <line x1=\"10\" y1=\"6\" x2=\"80\" y2=\"76\" />\n",
       "  <line x1=\"10\" y1=\"12\" x2=\"80\" y2=\"83\" />\n",
       "  <line x1=\"10\" y1=\"18\" x2=\"80\" y2=\"89\" />\n",
       "  <line x1=\"10\" y1=\"25\" x2=\"80\" y2=\"95\" />\n",
       "  <line x1=\"10\" y1=\"31\" x2=\"80\" y2=\"102\" />\n",
       "  <line x1=\"10\" y1=\"37\" x2=\"80\" y2=\"108\" />\n",
       "  <line x1=\"10\" y1=\"44\" x2=\"80\" y2=\"114\" />\n",
       "  <line x1=\"10\" y1=\"50\" x2=\"80\" y2=\"121\" />\n",
       "  <line x1=\"10\" y1=\"56\" x2=\"80\" y2=\"127\" />\n",
       "  <line x1=\"10\" y1=\"63\" x2=\"80\" y2=\"133\" />\n",
       "  <line x1=\"10\" y1=\"69\" x2=\"80\" y2=\"140\" />\n",
       "  <line x1=\"10\" y1=\"75\" x2=\"80\" y2=\"146\" />\n",
       "  <line x1=\"10\" y1=\"82\" x2=\"80\" y2=\"152\" />\n",
       "  <line x1=\"10\" y1=\"88\" x2=\"80\" y2=\"158\" />\n",
       "  <line x1=\"10\" y1=\"94\" x2=\"80\" y2=\"165\" />\n",
       "  <line x1=\"10\" y1=\"101\" x2=\"80\" y2=\"171\" />\n",
       "  <line x1=\"10\" y1=\"107\" x2=\"80\" y2=\"177\" />\n",
       "  <line x1=\"10\" y1=\"113\" x2=\"80\" y2=\"184\" />\n",
       "  <line x1=\"10\" y1=\"120\" x2=\"80\" y2=\"190\" style=\"stroke-width:2\" />\n",
       "\n",
       "  <!-- Vertical lines -->\n",
       "  <line x1=\"10\" y1=\"0\" x2=\"10\" y2=\"120\" style=\"stroke-width:2\" />\n",
       "  <line x1=\"13\" y1=\"3\" x2=\"13\" y2=\"123\" />\n",
       "  <line x1=\"17\" y1=\"7\" x2=\"17\" y2=\"127\" />\n",
       "  <line x1=\"21\" y1=\"11\" x2=\"21\" y2=\"131\" />\n",
       "  <line x1=\"24\" y1=\"14\" x2=\"24\" y2=\"134\" />\n",
       "  <line x1=\"28\" y1=\"18\" x2=\"28\" y2=\"138\" />\n",
       "  <line x1=\"32\" y1=\"22\" x2=\"32\" y2=\"142\" />\n",
       "  <line x1=\"35\" y1=\"25\" x2=\"35\" y2=\"145\" />\n",
       "  <line x1=\"39\" y1=\"29\" x2=\"39\" y2=\"149\" />\n",
       "  <line x1=\"43\" y1=\"33\" x2=\"43\" y2=\"153\" />\n",
       "  <line x1=\"47\" y1=\"37\" x2=\"47\" y2=\"157\" />\n",
       "  <line x1=\"50\" y1=\"40\" x2=\"50\" y2=\"160\" />\n",
       "  <line x1=\"54\" y1=\"44\" x2=\"54\" y2=\"164\" />\n",
       "  <line x1=\"58\" y1=\"48\" x2=\"58\" y2=\"168\" />\n",
       "  <line x1=\"62\" y1=\"52\" x2=\"62\" y2=\"172\" />\n",
       "  <line x1=\"65\" y1=\"55\" x2=\"65\" y2=\"175\" />\n",
       "  <line x1=\"69\" y1=\"59\" x2=\"69\" y2=\"179\" />\n",
       "  <line x1=\"73\" y1=\"63\" x2=\"73\" y2=\"183\" />\n",
       "  <line x1=\"76\" y1=\"66\" x2=\"76\" y2=\"186\" />\n",
       "  <line x1=\"80\" y1=\"70\" x2=\"80\" y2=\"190\" style=\"stroke-width:2\" />\n",
       "\n",
       "  <!-- Colored Rectangle -->\n",
       "  <polygon points=\"10.0,0.0 80.58823529411765,70.58823529411765 80.58823529411765,190.58823529411765 10.0,120.0\" style=\"fill:#8B4903A0;stroke-width:0\"/>\n",
       "\n",
       "  <!-- Horizontal lines -->\n",
       "  <line x1=\"10\" y1=\"0\" x2=\"130\" y2=\"0\" style=\"stroke-width:2\" />\n",
       "  <line x1=\"13\" y1=\"3\" x2=\"133\" y2=\"3\" />\n",
       "  <line x1=\"17\" y1=\"7\" x2=\"137\" y2=\"7\" />\n",
       "  <line x1=\"21\" y1=\"11\" x2=\"141\" y2=\"11\" />\n",
       "  <line x1=\"24\" y1=\"14\" x2=\"144\" y2=\"14\" />\n",
       "  <line x1=\"28\" y1=\"18\" x2=\"148\" y2=\"18\" />\n",
       "  <line x1=\"32\" y1=\"22\" x2=\"152\" y2=\"22\" />\n",
       "  <line x1=\"35\" y1=\"25\" x2=\"155\" y2=\"25\" />\n",
       "  <line x1=\"39\" y1=\"29\" x2=\"159\" y2=\"29\" />\n",
       "  <line x1=\"43\" y1=\"33\" x2=\"163\" y2=\"33\" />\n",
       "  <line x1=\"47\" y1=\"37\" x2=\"167\" y2=\"37\" />\n",
       "  <line x1=\"50\" y1=\"40\" x2=\"170\" y2=\"40\" />\n",
       "  <line x1=\"54\" y1=\"44\" x2=\"174\" y2=\"44\" />\n",
       "  <line x1=\"58\" y1=\"48\" x2=\"178\" y2=\"48\" />\n",
       "  <line x1=\"62\" y1=\"52\" x2=\"182\" y2=\"52\" />\n",
       "  <line x1=\"65\" y1=\"55\" x2=\"185\" y2=\"55\" />\n",
       "  <line x1=\"69\" y1=\"59\" x2=\"189\" y2=\"59\" />\n",
       "  <line x1=\"73\" y1=\"63\" x2=\"193\" y2=\"63\" />\n",
       "  <line x1=\"76\" y1=\"66\" x2=\"196\" y2=\"66\" />\n",
       "  <line x1=\"80\" y1=\"70\" x2=\"200\" y2=\"70\" style=\"stroke-width:2\" />\n",
       "\n",
       "  <!-- Vertical lines -->\n",
       "  <line x1=\"10\" y1=\"0\" x2=\"80\" y2=\"70\" style=\"stroke-width:2\" />\n",
       "  <line x1=\"16\" y1=\"0\" x2=\"86\" y2=\"70\" />\n",
       "  <line x1=\"22\" y1=\"0\" x2=\"93\" y2=\"70\" />\n",
       "  <line x1=\"28\" y1=\"0\" x2=\"99\" y2=\"70\" />\n",
       "  <line x1=\"35\" y1=\"0\" x2=\"105\" y2=\"70\" />\n",
       "  <line x1=\"41\" y1=\"0\" x2=\"112\" y2=\"70\" />\n",
       "  <line x1=\"47\" y1=\"0\" x2=\"118\" y2=\"70\" />\n",
       "  <line x1=\"54\" y1=\"0\" x2=\"124\" y2=\"70\" />\n",
       "  <line x1=\"60\" y1=\"0\" x2=\"131\" y2=\"70\" />\n",
       "  <line x1=\"66\" y1=\"0\" x2=\"137\" y2=\"70\" />\n",
       "  <line x1=\"73\" y1=\"0\" x2=\"143\" y2=\"70\" />\n",
       "  <line x1=\"79\" y1=\"0\" x2=\"150\" y2=\"70\" />\n",
       "  <line x1=\"85\" y1=\"0\" x2=\"156\" y2=\"70\" />\n",
       "  <line x1=\"92\" y1=\"0\" x2=\"162\" y2=\"70\" />\n",
       "  <line x1=\"98\" y1=\"0\" x2=\"168\" y2=\"70\" />\n",
       "  <line x1=\"104\" y1=\"0\" x2=\"175\" y2=\"70\" />\n",
       "  <line x1=\"111\" y1=\"0\" x2=\"181\" y2=\"70\" />\n",
       "  <line x1=\"117\" y1=\"0\" x2=\"187\" y2=\"70\" />\n",
       "  <line x1=\"123\" y1=\"0\" x2=\"194\" y2=\"70\" />\n",
       "  <line x1=\"130\" y1=\"0\" x2=\"200\" y2=\"70\" style=\"stroke-width:2\" />\n",
       "\n",
       "  <!-- Colored Rectangle -->\n",
       "  <polygon points=\"10.0,0.0 130.0,0.0 200.58823529411765,70.58823529411765 80.58823529411765,70.58823529411765\" style=\"fill:#8B4903A0;stroke-width:0\"/>\n",
       "\n",
       "  <!-- Horizontal lines -->\n",
       "  <line x1=\"80\" y1=\"70\" x2=\"200\" y2=\"70\" style=\"stroke-width:2\" />\n",
       "  <line x1=\"80\" y1=\"76\" x2=\"200\" y2=\"76\" />\n",
       "  <line x1=\"80\" y1=\"83\" x2=\"200\" y2=\"83\" />\n",
       "  <line x1=\"80\" y1=\"89\" x2=\"200\" y2=\"89\" />\n",
       "  <line x1=\"80\" y1=\"95\" x2=\"200\" y2=\"95\" />\n",
       "  <line x1=\"80\" y1=\"102\" x2=\"200\" y2=\"102\" />\n",
       "  <line x1=\"80\" y1=\"108\" x2=\"200\" y2=\"108\" />\n",
       "  <line x1=\"80\" y1=\"114\" x2=\"200\" y2=\"114\" />\n",
       "  <line x1=\"80\" y1=\"121\" x2=\"200\" y2=\"121\" />\n",
       "  <line x1=\"80\" y1=\"127\" x2=\"200\" y2=\"127\" />\n",
       "  <line x1=\"80\" y1=\"133\" x2=\"200\" y2=\"133\" />\n",
       "  <line x1=\"80\" y1=\"140\" x2=\"200\" y2=\"140\" />\n",
       "  <line x1=\"80\" y1=\"146\" x2=\"200\" y2=\"146\" />\n",
       "  <line x1=\"80\" y1=\"152\" x2=\"200\" y2=\"152\" />\n",
       "  <line x1=\"80\" y1=\"158\" x2=\"200\" y2=\"158\" />\n",
       "  <line x1=\"80\" y1=\"165\" x2=\"200\" y2=\"165\" />\n",
       "  <line x1=\"80\" y1=\"171\" x2=\"200\" y2=\"171\" />\n",
       "  <line x1=\"80\" y1=\"177\" x2=\"200\" y2=\"177\" />\n",
       "  <line x1=\"80\" y1=\"184\" x2=\"200\" y2=\"184\" />\n",
       "  <line x1=\"80\" y1=\"190\" x2=\"200\" y2=\"190\" style=\"stroke-width:2\" />\n",
       "\n",
       "  <!-- Vertical lines -->\n",
       "  <line x1=\"80\" y1=\"70\" x2=\"80\" y2=\"190\" style=\"stroke-width:2\" />\n",
       "  <line x1=\"86\" y1=\"70\" x2=\"86\" y2=\"190\" />\n",
       "  <line x1=\"93\" y1=\"70\" x2=\"93\" y2=\"190\" />\n",
       "  <line x1=\"99\" y1=\"70\" x2=\"99\" y2=\"190\" />\n",
       "  <line x1=\"105\" y1=\"70\" x2=\"105\" y2=\"190\" />\n",
       "  <line x1=\"112\" y1=\"70\" x2=\"112\" y2=\"190\" />\n",
       "  <line x1=\"118\" y1=\"70\" x2=\"118\" y2=\"190\" />\n",
       "  <line x1=\"124\" y1=\"70\" x2=\"124\" y2=\"190\" />\n",
       "  <line x1=\"131\" y1=\"70\" x2=\"131\" y2=\"190\" />\n",
       "  <line x1=\"137\" y1=\"70\" x2=\"137\" y2=\"190\" />\n",
       "  <line x1=\"143\" y1=\"70\" x2=\"143\" y2=\"190\" />\n",
       "  <line x1=\"150\" y1=\"70\" x2=\"150\" y2=\"190\" />\n",
       "  <line x1=\"156\" y1=\"70\" x2=\"156\" y2=\"190\" />\n",
       "  <line x1=\"162\" y1=\"70\" x2=\"162\" y2=\"190\" />\n",
       "  <line x1=\"168\" y1=\"70\" x2=\"168\" y2=\"190\" />\n",
       "  <line x1=\"175\" y1=\"70\" x2=\"175\" y2=\"190\" />\n",
       "  <line x1=\"181\" y1=\"70\" x2=\"181\" y2=\"190\" />\n",
       "  <line x1=\"187\" y1=\"70\" x2=\"187\" y2=\"190\" />\n",
       "  <line x1=\"194\" y1=\"70\" x2=\"194\" y2=\"190\" />\n",
       "  <line x1=\"200\" y1=\"70\" x2=\"200\" y2=\"190\" style=\"stroke-width:2\" />\n",
       "\n",
       "  <!-- Colored Rectangle -->\n",
       "  <polygon points=\"80.58823529411765,70.58823529411765 200.58823529411765,70.58823529411765 200.58823529411765,190.58823529411765 80.58823529411765,190.58823529411765\" style=\"fill:#8B4903A0;stroke-width:0\"/>\n",
       "\n",
       "  <!-- Text -->\n",
       "  <text x=\"140.588235\" y=\"210.588235\" font-size=\"1.0rem\" font-weight=\"100\" text-anchor=\"middle\" >1000000</text>\n",
       "  <text x=\"220.588235\" y=\"130.588235\" font-size=\"1.0rem\" font-weight=\"100\" text-anchor=\"middle\" transform=\"rotate(-90,220.588235,130.588235)\">1000000</text>\n",
       "  <text x=\"35.294118\" y=\"175.294118\" font-size=\"1.0rem\" font-weight=\"100\" text-anchor=\"middle\" transform=\"rotate(45,35.294118,175.294118)\">1000000</text>\n",
       "</svg>\n",
       "</td>\n",
       "</tr>\n",
       "</table>"
      ],
      "text/plain": [
       "dask.array<ones, shape=(1000000, 1000000, 1000000), dtype=float64, chunksize=(250, 250, 250), chunktype=numpy.ndarray>"
      ]
     },
     "execution_count": 4,
     "metadata": {},
     "output_type": "execute_result"
    }
   ],
   "source": [
    "# this is where dask comes in \n",
    "x = da.ones((1000000, 1000000,1000000))\n",
    "x"
   ]
  },
  {
   "cell_type": "markdown",
   "id": "f6c63e40",
   "metadata": {},
   "source": [
    "We can look at different shapes of arrays, and test the data quantity to fulfill the quanity requirements of to create uniform chunks"
   ]
  },
  {
   "cell_type": "code",
   "execution_count": 5,
   "id": "f32d68f6",
   "metadata": {},
   "outputs": [
    {
     "data": {
      "text/html": [
       "<table>\n",
       "<tr>\n",
       "<td>\n",
       "<table>\n",
       "  <thead>\n",
       "    <tr><td> </td><th> Array </th><th> Chunk </th></tr>\n",
       "  </thead>\n",
       "  <tbody>\n",
       "    <tr><th> Bytes </th><td> 190.73 MiB </td> <td> 47.68 MiB </td></tr>\n",
       "    <tr><th> Shape </th><td> (5000, 5000) </td> <td> (2500, 2500) </td></tr>\n",
       "    <tr><th> Count </th><td> 4 Tasks </td><td> 4 Chunks </td></tr>\n",
       "    <tr><th> Type </th><td> float64 </td><td> numpy.ndarray </td></tr>\n",
       "  </tbody>\n",
       "</table>\n",
       "</td>\n",
       "<td>\n",
       "<svg width=\"170\" height=\"170\" style=\"stroke:rgb(0,0,0);stroke-width:1\" >\n",
       "\n",
       "  <!-- Horizontal lines -->\n",
       "  <line x1=\"0\" y1=\"0\" x2=\"120\" y2=\"0\" style=\"stroke-width:2\" />\n",
       "  <line x1=\"0\" y1=\"60\" x2=\"120\" y2=\"60\" />\n",
       "  <line x1=\"0\" y1=\"120\" x2=\"120\" y2=\"120\" style=\"stroke-width:2\" />\n",
       "\n",
       "  <!-- Vertical lines -->\n",
       "  <line x1=\"0\" y1=\"0\" x2=\"0\" y2=\"120\" style=\"stroke-width:2\" />\n",
       "  <line x1=\"60\" y1=\"0\" x2=\"60\" y2=\"120\" />\n",
       "  <line x1=\"120\" y1=\"0\" x2=\"120\" y2=\"120\" style=\"stroke-width:2\" />\n",
       "\n",
       "  <!-- Colored Rectangle -->\n",
       "  <polygon points=\"0.0,0.0 120.0,0.0 120.0,120.0 0.0,120.0\" style=\"fill:#ECB172A0;stroke-width:0\"/>\n",
       "\n",
       "  <!-- Text -->\n",
       "  <text x=\"60.000000\" y=\"140.000000\" font-size=\"1.0rem\" font-weight=\"100\" text-anchor=\"middle\" >5000</text>\n",
       "  <text x=\"140.000000\" y=\"60.000000\" font-size=\"1.0rem\" font-weight=\"100\" text-anchor=\"middle\" transform=\"rotate(-90,140.000000,60.000000)\">5000</text>\n",
       "</svg>\n",
       "</td>\n",
       "</tr>\n",
       "</table>"
      ],
      "text/plain": [
       "dask.array<ones, shape=(5000, 5000), dtype=float64, chunksize=(2500, 2500), chunktype=numpy.ndarray>"
      ]
     },
     "execution_count": 5,
     "metadata": {},
     "output_type": "execute_result"
    }
   ],
   "source": [
    "# this is where dask comes in \n",
    "# (100,100) one chunk\n",
    "x = da.ones((5000,5000))\n",
    "x"
   ]
  },
  {
   "cell_type": "markdown",
   "id": "bfea1f79",
   "metadata": {},
   "source": [
    "We can also specify a `chunk` argument for breaking up the array into chunks. "
   ]
  },
  {
   "cell_type": "code",
   "execution_count": 6,
   "id": "407badcd",
   "metadata": {},
   "outputs": [
    {
     "data": {
      "text/html": [
       "<table>\n",
       "<tr>\n",
       "<td>\n",
       "<table>\n",
       "  <thead>\n",
       "    <tr><td> </td><th> Array </th><th> Chunk </th></tr>\n",
       "  </thead>\n",
       "  <tbody>\n",
       "    <tr><th> Bytes </th><td> 800 B </td> <td> 160 B </td></tr>\n",
       "    <tr><th> Shape </th><td> (100,) </td> <td> (20,) </td></tr>\n",
       "    <tr><th> Count </th><td> 5 Tasks </td><td> 5 Chunks </td></tr>\n",
       "    <tr><th> Type </th><td> float64 </td><td> numpy.ndarray </td></tr>\n",
       "  </tbody>\n",
       "</table>\n",
       "</td>\n",
       "<td>\n",
       "<svg width=\"170\" height=\"75\" style=\"stroke:rgb(0,0,0);stroke-width:1\" >\n",
       "\n",
       "  <!-- Horizontal lines -->\n",
       "  <line x1=\"0\" y1=\"0\" x2=\"120\" y2=\"0\" style=\"stroke-width:2\" />\n",
       "  <line x1=\"0\" y1=\"25\" x2=\"120\" y2=\"25\" style=\"stroke-width:2\" />\n",
       "\n",
       "  <!-- Vertical lines -->\n",
       "  <line x1=\"0\" y1=\"0\" x2=\"0\" y2=\"25\" style=\"stroke-width:2\" />\n",
       "  <line x1=\"24\" y1=\"0\" x2=\"24\" y2=\"25\" />\n",
       "  <line x1=\"48\" y1=\"0\" x2=\"48\" y2=\"25\" />\n",
       "  <line x1=\"72\" y1=\"0\" x2=\"72\" y2=\"25\" />\n",
       "  <line x1=\"96\" y1=\"0\" x2=\"96\" y2=\"25\" />\n",
       "  <line x1=\"120\" y1=\"0\" x2=\"120\" y2=\"25\" style=\"stroke-width:2\" />\n",
       "\n",
       "  <!-- Colored Rectangle -->\n",
       "  <polygon points=\"0.0,0.0 120.0,0.0 120.0,25.412616514582485 0.0,25.412616514582485\" style=\"fill:#ECB172A0;stroke-width:0\"/>\n",
       "\n",
       "  <!-- Text -->\n",
       "  <text x=\"60.000000\" y=\"45.412617\" font-size=\"1.0rem\" font-weight=\"100\" text-anchor=\"middle\" >100</text>\n",
       "  <text x=\"140.000000\" y=\"12.706308\" font-size=\"1.0rem\" font-weight=\"100\" text-anchor=\"middle\" transform=\"rotate(0,140.000000,12.706308)\">1</text>\n",
       "</svg>\n",
       "</td>\n",
       "</tr>\n",
       "</table>"
      ],
      "text/plain": [
       "dask.array<array, shape=(100,), dtype=float64, chunksize=(20,), chunktype=numpy.ndarray>"
      ]
     },
     "execution_count": 6,
     "metadata": {},
     "output_type": "execute_result"
    }
   ],
   "source": [
    "da.from_array(np.random.randn(100), chunks=20)"
   ]
  },
  {
   "cell_type": "markdown",
   "id": "015d09a1",
   "metadata": {},
   "source": [
    "Or we can rechunk the already created array."
   ]
  },
  {
   "cell_type": "code",
   "execution_count": 7,
   "id": "776b2e7a",
   "metadata": {},
   "outputs": [
    {
     "data": {
      "text/html": [
       "<table>\n",
       "<tr>\n",
       "<td>\n",
       "<table>\n",
       "  <thead>\n",
       "    <tr><td> </td><th> Array </th><th> Chunk </th></tr>\n",
       "  </thead>\n",
       "  <tbody>\n",
       "    <tr><th> Bytes </th><td> 190.73 MiB </td> <td> 3.12 kiB </td></tr>\n",
       "    <tr><th> Shape </th><td> (5000, 5000) </td> <td> (20, 20) </td></tr>\n",
       "    <tr><th> Count </th><td> 125004 Tasks </td><td> 62500 Chunks </td></tr>\n",
       "    <tr><th> Type </th><td> float64 </td><td> numpy.ndarray </td></tr>\n",
       "  </tbody>\n",
       "</table>\n",
       "</td>\n",
       "<td>\n",
       "<svg width=\"170\" height=\"170\" style=\"stroke:rgb(0,0,0);stroke-width:1\" >\n",
       "\n",
       "  <!-- Horizontal lines -->\n",
       "  <line x1=\"0\" y1=\"0\" x2=\"120\" y2=\"0\" style=\"stroke-width:2\" />\n",
       "  <line x1=\"0\" y1=\"6\" x2=\"120\" y2=\"6\" />\n",
       "  <line x1=\"0\" y1=\"12\" x2=\"120\" y2=\"12\" />\n",
       "  <line x1=\"0\" y1=\"18\" x2=\"120\" y2=\"18\" />\n",
       "  <line x1=\"0\" y1=\"24\" x2=\"120\" y2=\"24\" />\n",
       "  <line x1=\"0\" y1=\"31\" x2=\"120\" y2=\"31\" />\n",
       "  <line x1=\"0\" y1=\"37\" x2=\"120\" y2=\"37\" />\n",
       "  <line x1=\"0\" y1=\"44\" x2=\"120\" y2=\"44\" />\n",
       "  <line x1=\"0\" y1=\"50\" x2=\"120\" y2=\"50\" />\n",
       "  <line x1=\"0\" y1=\"56\" x2=\"120\" y2=\"56\" />\n",
       "  <line x1=\"0\" y1=\"62\" x2=\"120\" y2=\"62\" />\n",
       "  <line x1=\"0\" y1=\"69\" x2=\"120\" y2=\"69\" />\n",
       "  <line x1=\"0\" y1=\"75\" x2=\"120\" y2=\"75\" />\n",
       "  <line x1=\"0\" y1=\"82\" x2=\"120\" y2=\"82\" />\n",
       "  <line x1=\"0\" y1=\"88\" x2=\"120\" y2=\"88\" />\n",
       "  <line x1=\"0\" y1=\"94\" x2=\"120\" y2=\"94\" />\n",
       "  <line x1=\"0\" y1=\"100\" x2=\"120\" y2=\"100\" />\n",
       "  <line x1=\"0\" y1=\"107\" x2=\"120\" y2=\"107\" />\n",
       "  <line x1=\"0\" y1=\"113\" x2=\"120\" y2=\"113\" />\n",
       "  <line x1=\"0\" y1=\"120\" x2=\"120\" y2=\"120\" style=\"stroke-width:2\" />\n",
       "\n",
       "  <!-- Vertical lines -->\n",
       "  <line x1=\"0\" y1=\"0\" x2=\"0\" y2=\"120\" style=\"stroke-width:2\" />\n",
       "  <line x1=\"6\" y1=\"0\" x2=\"6\" y2=\"120\" />\n",
       "  <line x1=\"12\" y1=\"0\" x2=\"12\" y2=\"120\" />\n",
       "  <line x1=\"18\" y1=\"0\" x2=\"18\" y2=\"120\" />\n",
       "  <line x1=\"24\" y1=\"0\" x2=\"24\" y2=\"120\" />\n",
       "  <line x1=\"31\" y1=\"0\" x2=\"31\" y2=\"120\" />\n",
       "  <line x1=\"37\" y1=\"0\" x2=\"37\" y2=\"120\" />\n",
       "  <line x1=\"44\" y1=\"0\" x2=\"44\" y2=\"120\" />\n",
       "  <line x1=\"50\" y1=\"0\" x2=\"50\" y2=\"120\" />\n",
       "  <line x1=\"56\" y1=\"0\" x2=\"56\" y2=\"120\" />\n",
       "  <line x1=\"62\" y1=\"0\" x2=\"62\" y2=\"120\" />\n",
       "  <line x1=\"69\" y1=\"0\" x2=\"69\" y2=\"120\" />\n",
       "  <line x1=\"75\" y1=\"0\" x2=\"75\" y2=\"120\" />\n",
       "  <line x1=\"82\" y1=\"0\" x2=\"82\" y2=\"120\" />\n",
       "  <line x1=\"88\" y1=\"0\" x2=\"88\" y2=\"120\" />\n",
       "  <line x1=\"94\" y1=\"0\" x2=\"94\" y2=\"120\" />\n",
       "  <line x1=\"100\" y1=\"0\" x2=\"100\" y2=\"120\" />\n",
       "  <line x1=\"107\" y1=\"0\" x2=\"107\" y2=\"120\" />\n",
       "  <line x1=\"113\" y1=\"0\" x2=\"113\" y2=\"120\" />\n",
       "  <line x1=\"120\" y1=\"0\" x2=\"120\" y2=\"120\" style=\"stroke-width:2\" />\n",
       "\n",
       "  <!-- Colored Rectangle -->\n",
       "  <polygon points=\"0.0,0.0 120.0,0.0 120.0,120.0 0.0,120.0\" style=\"fill:#8B4903A0;stroke-width:0\"/>\n",
       "\n",
       "  <!-- Text -->\n",
       "  <text x=\"60.000000\" y=\"140.000000\" font-size=\"1.0rem\" font-weight=\"100\" text-anchor=\"middle\" >5000</text>\n",
       "  <text x=\"140.000000\" y=\"60.000000\" font-size=\"1.0rem\" font-weight=\"100\" text-anchor=\"middle\" transform=\"rotate(-90,140.000000,60.000000)\">5000</text>\n",
       "</svg>\n",
       "</td>\n",
       "</tr>\n",
       "</table>"
      ],
      "text/plain": [
       "dask.array<rechunk-merge, shape=(5000, 5000), dtype=float64, chunksize=(20, 20), chunktype=numpy.ndarray>"
      ]
     },
     "execution_count": 7,
     "metadata": {},
     "output_type": "execute_result"
    }
   ],
   "source": [
    "x.rechunk(20)"
   ]
  },
  {
   "cell_type": "markdown",
   "id": "b20a529a",
   "metadata": {},
   "source": [
    "We are still implementing the `Numpy` library but by-passing the memory issue by cutting up large arrays into chunks and distributing them across multiple machines. OR it can leverage a single machines multi-core CPU to utilize parallel computations, similar to the [Apache Spark Example](https://github.com/EQWorks/python-curriculum/blob/14/data-analysis/14-distributed-computation/notebook.ipynb) previously seen. "
   ]
  },
  {
   "cell_type": "markdown",
   "id": "32aadce5",
   "metadata": {},
   "source": [
    "**In this next section we will see a simple implementation of parallel processing utilizing dask**\n",
    "We will be lookign at parallel processing in two different ways:\n",
    " - applying a single function to many pieces of data\n",
    " - parallelizing the use of different functions\n",
    "\n",
    "First we need to set-up a distributed scheduler, this is similar to creating a cluster. For this example we will be connecting to the local cluster by using `Client`.\n",
    "\n",
    "When creating the local Cluster, [parameters](https://docs.dask.org/en/latest/setup/single-distributed.html) can be specified to establish the scheduler and workers to be run on machine."
   ]
  },
  {
   "cell_type": "code",
   "execution_count": 8,
   "id": "e4962253",
   "metadata": {},
   "outputs": [
    {
     "data": {
      "text/html": [
       "\n",
       "            <div>\n",
       "                <div style=\"\n",
       "                    width: 24px;\n",
       "                    height: 24px;\n",
       "                    background-color: #e1e1e1;\n",
       "                    border: 3px solid #9D9D9D;\n",
       "                    border-radius: 5px;\n",
       "                    position: absolute;\"> </div>\n",
       "                <div style=\"margin-left: 48px;\">\n",
       "                    <h3 style=\"margin-bottom: 0px;\">Client</h3>\n",
       "                    <p style=\"color: #9D9D9D; margin-bottom: 0px;\">Client-cf8e7d46-e0dd-11eb-84a6-acde48001122</p>\n",
       "                    <table style=\"width: 100%; text-align: left;\">\n",
       "                    \n",
       "                <tr>\n",
       "                    <td style=\"text-align: left;\"><strong>Connection method:</strong> Cluster object</td>\n",
       "                    <td style=\"text-align: left;\"><strong>Cluster type:</strong> LocalCluster</td>\n",
       "                </tr>\n",
       "                \n",
       "                <tr>\n",
       "                    <td style=\"text-align: left;\">\n",
       "                        <strong>Dashboard: </strong>\n",
       "                        <a href=\"http://127.0.0.1:8787/status\">http://127.0.0.1:8787/status</a>\n",
       "                    </td>\n",
       "                    <td style=\"text-align: left;\"></td>\n",
       "                </tr>\n",
       "                \n",
       "                    </table>\n",
       "                    \n",
       "                <details>\n",
       "                <summary style=\"margin-bottom: 20px;\"><h3 style=\"display: inline;\">Cluster Info</h3></summary>\n",
       "                \n",
       "            <div class=\"jp-RenderedHTMLCommon jp-RenderedHTML jp-mod-trusted jp-OutputArea-output\">\n",
       "                <div style=\"\n",
       "                    width: 24px;\n",
       "                    height: 24px;\n",
       "                    background-color: #e1e1e1;\n",
       "                    border: 3px solid #9D9D9D;\n",
       "                    border-radius: 5px;\n",
       "                    position: absolute;\"> </div>\n",
       "                <div style=\"margin-left: 48px;\">\n",
       "                    <h3 style=\"margin-bottom: 0px; margin-top: 0px;\">LocalCluster</h3>\n",
       "                    <p style=\"color: #9D9D9D; margin-bottom: 0px;\">d9c2620b</p>\n",
       "                    <table style=\"width: 100%; text-align: left;\">\n",
       "                    \n",
       "            <tr>\n",
       "                <td style=\"text-align: left;\"><strong>Status:</strong> running</td>\n",
       "                <td style=\"text-align: left;\"><strong>Using processes:</strong> True</td>\n",
       "            </tr>\n",
       "        \n",
       "            <tr>\n",
       "                <td style=\"text-align: left;\">\n",
       "                    <strong>Dashboard:</strong> <a href=\"http://127.0.0.1:8787/status\">http://127.0.0.1:8787/status</a>\n",
       "                </td>\n",
       "                <td style=\"text-align: left;\"><strong>Workers:</strong> 1</td>\n",
       "            </tr>\n",
       "            <tr>\n",
       "                <td style=\"text-align: left;\">\n",
       "                    <strong>Total threads:</strong>\n",
       "                    4\n",
       "                </td>\n",
       "                <td style=\"text-align: left;\">\n",
       "                    <strong>Total memory:</strong>\n",
       "                    16.00 GiB\n",
       "                </td>\n",
       "            </tr>\n",
       "        \n",
       "                    </table>\n",
       "                    <details>\n",
       "                    <summary style=\"margin-bottom: 20px;\"><h3 style=\"display: inline;\">Scheduler Info</h3></summary>\n",
       "                    \n",
       "        <div style=\"\">\n",
       "            \n",
       "            <div>\n",
       "                <div style=\"\n",
       "                    width: 24px;\n",
       "                    height: 24px;\n",
       "                    background-color: #FFF7E5;\n",
       "                    border: 3px solid #FF6132;\n",
       "                    border-radius: 5px;\n",
       "                    position: absolute;\"> </div>\n",
       "                <div style=\"margin-left: 48px;\">\n",
       "                    <h3 style=\"margin-bottom: 0px;\">Scheduler</h3>\n",
       "                    <p style=\"color: #9D9D9D; margin-bottom: 0px;\">Scheduler-9f583dcb-d484-4b71-badf-af949ffe0b6a</p>\n",
       "                    <table style=\"width: 100%; text-align: left;\">\n",
       "                        <tr>\n",
       "                            <td style=\"text-align: left;\"><strong>Comm:</strong> tcp://127.0.0.1:50262</td>\n",
       "                            <td style=\"text-align: left;\"><strong>Workers:</strong> 1</td>\n",
       "                        </tr>\n",
       "                        <tr>\n",
       "                            <td style=\"text-align: left;\">\n",
       "                                <strong>Dashboard:</strong> <a href=\"http://127.0.0.1:8787/status\">http://127.0.0.1:8787/status</a>\n",
       "                            </td>\n",
       "                            <td style=\"text-align: left;\">\n",
       "                                <strong>Total threads:</strong>\n",
       "                                4\n",
       "                            </td>\n",
       "                        </tr>\n",
       "                        <tr>\n",
       "                            <td style=\"text-align: left;\">\n",
       "                                <strong>Started:</strong>\n",
       "                                Just now\n",
       "                            </td>\n",
       "                            <td style=\"text-align: left;\">\n",
       "                                <strong>Total memory:</strong>\n",
       "                                16.00 GiB\n",
       "                            </td>\n",
       "                        </tr>\n",
       "                    </table>\n",
       "                </div>\n",
       "            </div>\n",
       "        \n",
       "            <details style=\"margin-left: 48px;\">\n",
       "            <summary style=\"margin-bottom: 20px;\"><h3 style=\"display: inline;\">Workers</h3></summary>\n",
       "            \n",
       "            <div style=\"margin-bottom: 20px;\">\n",
       "                <div style=\"width: 24px;\n",
       "                            height: 24px;\n",
       "                            background-color: #DBF5FF;\n",
       "                            border: 3px solid #4CC9FF;\n",
       "                            border-radius: 5px;\n",
       "                            position: absolute;\"> </div>\n",
       "                <div style=\"margin-left: 48px;\">\n",
       "                <details>\n",
       "                    <summary>\n",
       "                        <h4 style=\"margin-bottom: 0px; display: inline;\">Worker: 0</h4>\n",
       "                    </summary>\n",
       "                    <table style=\"width: 100%; text-align: left;\">\n",
       "                        <tr>\n",
       "                            <td style=\"text-align: left;\"><strong>Comm: </strong> tcp://127.0.0.1:50265</td>\n",
       "                            <td style=\"text-align: left;\"><strong>Total threads: </strong> 4</td>\n",
       "                        </tr>\n",
       "                        <tr>\n",
       "                            <td style=\"text-align: left;\">\n",
       "                                <strong>Dashboard: </strong>\n",
       "                                <a href=\"http://127.0.0.1:50266/status\">http://127.0.0.1:50266/status</a>\n",
       "                            </td>\n",
       "                            <td style=\"text-align: left;\">\n",
       "                                <strong>Memory: </strong>\n",
       "                                16.00 GiB\n",
       "                            </td>\n",
       "                        </tr>\n",
       "                        <tr>\n",
       "                            <td style=\"text-align: left;\"><strong>Nanny: </strong> tcp://127.0.0.1:50264</td>\n",
       "                            <td style=\"text-align: left;\"></td>\n",
       "                        </tr>\n",
       "                        <tr>\n",
       "                            <td colspan=\"2\" style=\"text-align: left;\">\n",
       "                                <strong>Local directory: </strong>\n",
       "                                /Users/divyaselva/Notebooks/dask-worker-space/worker-661e4feb\n",
       "                            </td>\n",
       "                        </tr>\n",
       "                        \n",
       "                        \n",
       "                    </table>\n",
       "                </details>\n",
       "                </div>\n",
       "            </div>\n",
       "            \n",
       "            </details>\n",
       "        </div>\n",
       "        \n",
       "                    </details>\n",
       "                </div>\n",
       "            </div>\n",
       "        \n",
       "                </details>\n",
       "                \n",
       "                </div>\n",
       "            </div>\n",
       "        "
      ],
      "text/plain": [
       "<Client: 'tcp://127.0.0.1:50262' processes=1 threads=4, memory=16.00 GiB>"
      ]
     },
     "execution_count": 8,
     "metadata": {},
     "output_type": "execute_result"
    }
   ],
   "source": [
    "from dask.distributed import Client, progress\n",
    "client = Client(threads_per_worker=4, n_workers=1)\n",
    "client"
   ]
  },
  {
   "cell_type": "markdown",
   "id": "07e041d0",
   "metadata": {},
   "source": [
    "For comparison purposes we will execute utilizing the `pandas` library actions. "
   ]
  },
  {
   "cell_type": "code",
   "execution_count": 9,
   "id": "f4d86cd4",
   "metadata": {},
   "outputs": [],
   "source": [
    "import time\n",
    "import random\n",
    "import pandas as pd\n",
    "\n",
    "# Create a simple function that find average of list\n",
    "def average(l):\n",
    "    # to simulate \"real work\" being done\n",
    "    time.sleep(random.random())\n",
    "    return sum(l)/len(l)"
   ]
  },
  {
   "cell_type": "code",
   "execution_count": 10,
   "id": "fb154536",
   "metadata": {},
   "outputs": [
    {
     "name": "stdout",
     "output_type": "stream",
     "text": [
      "CPU times: user 3 µs, sys: 1 µs, total: 4 µs\n",
      "Wall time: 7.15 µs\n"
     ]
    },
    {
     "data": {
      "text/plain": [
       "12.25"
      ]
     },
     "execution_count": 10,
     "metadata": {},
     "output_type": "execute_result"
    }
   ],
   "source": [
    "%%time \n",
    "average([5,14,15,15])\n",
    "# Shows the time taken to produce a single result"
   ]
  },
  {
   "cell_type": "code",
   "execution_count": 11,
   "id": "e5e6330f",
   "metadata": {},
   "outputs": [
    {
     "data": {
      "text/html": [
       "<div>\n",
       "<style scoped>\n",
       "    .dataframe tbody tr th:only-of-type {\n",
       "        vertical-align: middle;\n",
       "    }\n",
       "\n",
       "    .dataframe tbody tr th {\n",
       "        vertical-align: top;\n",
       "    }\n",
       "\n",
       "    .dataframe thead th {\n",
       "        text-align: right;\n",
       "    }\n",
       "</style>\n",
       "<table border=\"1\" class=\"dataframe\">\n",
       "  <thead>\n",
       "    <tr style=\"text-align: right;\">\n",
       "      <th></th>\n",
       "      <th>a</th>\n",
       "      <th>b</th>\n",
       "      <th>c</th>\n",
       "      <th>d</th>\n",
       "    </tr>\n",
       "  </thead>\n",
       "  <tbody>\n",
       "    <tr>\n",
       "      <th>0</th>\n",
       "      <td>0.822251</td>\n",
       "      <td>0.062050</td>\n",
       "      <td>0.816852</td>\n",
       "      <td>0.101508</td>\n",
       "    </tr>\n",
       "    <tr>\n",
       "      <th>1</th>\n",
       "      <td>0.178037</td>\n",
       "      <td>0.673207</td>\n",
       "      <td>0.106689</td>\n",
       "      <td>0.438414</td>\n",
       "    </tr>\n",
       "    <tr>\n",
       "      <th>2</th>\n",
       "      <td>0.439442</td>\n",
       "      <td>0.382032</td>\n",
       "      <td>0.624583</td>\n",
       "      <td>0.369867</td>\n",
       "    </tr>\n",
       "    <tr>\n",
       "      <th>3</th>\n",
       "      <td>0.160418</td>\n",
       "      <td>0.090628</td>\n",
       "      <td>0.165610</td>\n",
       "      <td>0.853835</td>\n",
       "    </tr>\n",
       "    <tr>\n",
       "      <th>4</th>\n",
       "      <td>0.777771</td>\n",
       "      <td>0.856507</td>\n",
       "      <td>0.197978</td>\n",
       "      <td>0.912704</td>\n",
       "    </tr>\n",
       "    <tr>\n",
       "      <th>...</th>\n",
       "      <td>...</td>\n",
       "      <td>...</td>\n",
       "      <td>...</td>\n",
       "      <td>...</td>\n",
       "    </tr>\n",
       "    <tr>\n",
       "      <th>95</th>\n",
       "      <td>0.205326</td>\n",
       "      <td>0.040862</td>\n",
       "      <td>0.293697</td>\n",
       "      <td>0.508043</td>\n",
       "    </tr>\n",
       "    <tr>\n",
       "      <th>96</th>\n",
       "      <td>0.073476</td>\n",
       "      <td>0.606727</td>\n",
       "      <td>0.027932</td>\n",
       "      <td>0.228644</td>\n",
       "    </tr>\n",
       "    <tr>\n",
       "      <th>97</th>\n",
       "      <td>0.050889</td>\n",
       "      <td>0.939696</td>\n",
       "      <td>0.284906</td>\n",
       "      <td>0.107975</td>\n",
       "    </tr>\n",
       "    <tr>\n",
       "      <th>98</th>\n",
       "      <td>0.014935</td>\n",
       "      <td>0.902424</td>\n",
       "      <td>0.166057</td>\n",
       "      <td>0.332862</td>\n",
       "    </tr>\n",
       "    <tr>\n",
       "      <th>99</th>\n",
       "      <td>0.300879</td>\n",
       "      <td>0.579335</td>\n",
       "      <td>0.663259</td>\n",
       "      <td>0.726849</td>\n",
       "    </tr>\n",
       "  </tbody>\n",
       "</table>\n",
       "<p>100 rows × 4 columns</p>\n",
       "</div>"
      ],
      "text/plain": [
       "           a         b         c         d\n",
       "0   0.822251  0.062050  0.816852  0.101508\n",
       "1   0.178037  0.673207  0.106689  0.438414\n",
       "2   0.439442  0.382032  0.624583  0.369867\n",
       "3   0.160418  0.090628  0.165610  0.853835\n",
       "4   0.777771  0.856507  0.197978  0.912704\n",
       "..       ...       ...       ...       ...\n",
       "95  0.205326  0.040862  0.293697  0.508043\n",
       "96  0.073476  0.606727  0.027932  0.228644\n",
       "97  0.050889  0.939696  0.284906  0.107975\n",
       "98  0.014935  0.902424  0.166057  0.332862\n",
       "99  0.300879  0.579335  0.663259  0.726849\n",
       "\n",
       "[100 rows x 4 columns]"
      ]
     },
     "execution_count": 11,
     "metadata": {},
     "output_type": "execute_result"
    }
   ],
   "source": [
    "# Create a dataframe with random data\n",
    "df = pd.DataFrame(np.random.random(size=(100, 4)),\n",
    "                            columns=['a', 'b', 'c', 'd'])\n",
    "df"
   ]
  },
  {
   "cell_type": "code",
   "execution_count": 12,
   "id": "5172b191",
   "metadata": {},
   "outputs": [],
   "source": [
    "results = []"
   ]
  },
  {
   "cell_type": "code",
   "execution_count": 13,
   "id": "97dbf62f",
   "metadata": {},
   "outputs": [
    {
     "name": "stdout",
     "output_type": "stream",
     "text": [
      "CPU times: user 2 µs, sys: 1e+03 ns, total: 3 µs\n",
      "Wall time: 5.01 µs\n"
     ]
    }
   ],
   "source": [
    "# Will only use sample of data created\n",
    "%%time\n",
    "for p in df.values[:10]:\n",
    "    result = average(p)\n",
    "    results.append(result)"
   ]
  },
  {
   "cell_type": "code",
   "execution_count": null,
   "id": "f2d2a71d",
   "metadata": {},
   "outputs": [],
   "source": [
    "%%time\n",
    "results"
   ]
  },
  {
   "cell_type": "code",
   "execution_count": null,
   "id": "fcc2cf7b",
   "metadata": {},
   "outputs": [],
   "source": [
    "dask_results = []"
   ]
  },
  {
   "cell_type": "code",
   "execution_count": null,
   "id": "f1a79514",
   "metadata": {},
   "outputs": [],
   "source": [
    "# Utilizing dask, compare samples by time taken\n",
    "%%time\n",
    "for p in df.values[:10]:\n",
    "    lazy = dask.delayed(average)(p)\n",
    "    # Has not been run yet, \n",
    "    #this simply stores the information for calls made\n",
    "    dask_results.append(lazy)"
   ]
  },
  {
   "cell_type": "code",
   "execution_count": null,
   "id": "1136ea44",
   "metadata": {},
   "outputs": [],
   "source": [
    "# We will re-run for all 100 rows\n",
    "for p in df.values[:10]:\n",
    "    lazy = dask.delayed(average)(p)\n",
    "    dask_results.append(lazy)\n",
    "    \n",
    "f = dask.persist(*dask_results)  \n",
    "# triggers computation in the background"
   ]
  },
  {
   "cell_type": "code",
   "execution_count": null,
   "id": "654a9b93",
   "metadata": {},
   "outputs": [],
   "source": [
    "%%time\n",
    "dask.compute(*f)"
   ]
  },
  {
   "cell_type": "code",
   "execution_count": null,
   "id": "ea02f4a6",
   "metadata": {},
   "outputs": [],
   "source": [
    "# specifying the usage of ten 4-thread workers\n",
    "client.cluster.scale(10) "
   ]
  },
  {
   "cell_type": "code",
   "execution_count": null,
   "id": "b69cc210",
   "metadata": {},
   "outputs": [],
   "source": [
    "%%time\n",
    "dask.compute(*dask_results)"
   ]
  },
  {
   "cell_type": "code",
   "execution_count": null,
   "id": "31e00ee7",
   "metadata": {},
   "outputs": [],
   "source": [
    "lazy.visualize()"
   ]
  },
  {
   "cell_type": "markdown",
   "id": "3b58c49b",
   "metadata": {},
   "source": [
    "Similar to spark, where the process is being stored, and is executed when called using `.compute()`"
   ]
  },
  {
   "cell_type": "markdown",
   "id": "f05ea0f3",
   "metadata": {},
   "source": [
    "**We will now look at how `dask.delayed` simplifies the parallelized usage of several custom functions.**"
   ]
  },
  {
   "cell_type": "code",
   "execution_count": null,
   "id": "1b4a992f",
   "metadata": {},
   "outputs": [],
   "source": [
    "def one(x):\n",
    "    return x + 1\n",
    "\n",
    "def combine(x, y):\n",
    "    return x + y\n",
    "\n",
    "def half(x):\n",
    "    return x/2\n"
   ]
  },
  {
   "cell_type": "code",
   "execution_count": null,
   "id": "6a279c0e",
   "metadata": {},
   "outputs": [],
   "source": [
    "x = dask.delayed(one)(15)\n",
    "y = dask.delayed(one)(30)\n",
    "x2 = dask.delayed(half)(x)\n",
    "y2 = dask.delayed(half)(y)\n",
    "total = dask.delayed(combine)(x, y)\n",
    "\n",
    "total.compute()"
   ]
  },
  {
   "cell_type": "code",
   "execution_count": null,
   "id": "887f9edd",
   "metadata": {},
   "outputs": [],
   "source": [
    "total.visualize()"
   ]
  },
  {
   "cell_type": "markdown",
   "id": "a4b131a7",
   "metadata": {},
   "source": [
    "A visual to demonstrate how this would work with more functions and a heavier processing need. \n",
    "\n",
    "Each step is independently executed and can be run as long as dependents are executed first. "
   ]
  },
  {
   "cell_type": "markdown",
   "id": "ffb8fda6",
   "metadata": {},
   "source": [
    "![dask](https://tutorial.dask.org/_images/grid_search_schedule.gif)"
   ]
  },
  {
   "cell_type": "markdown",
   "id": "d3199085",
   "metadata": {},
   "source": [
    "This is a simple implementation using the `dask.delayed` method. There are other ways parallelization can be implemented,including the [Futures API](https://docs.dask.org/en/latest/futures.html) and [`dask.bag`](https://docs.dask.org/en/latest/bag.html). For further understanding on these topics, look through the documentation provided in the referenced links. \n",
    "\n",
    "[Dask](https://docs.dask.org/en/latest/) is not restricted to these use cases, but can be implemented in different ways depending on the users familiarity and needs. "
   ]
  }
 ],
 "metadata": {
  "kernelspec": {
   "display_name": "Python 3",
   "language": "python",
   "name": "python3"
  },
  "language_info": {
   "codemirror_mode": {
    "name": "ipython",
    "version": 3
   },
   "file_extension": ".py",
   "mimetype": "text/x-python",
   "name": "python",
   "nbconvert_exporter": "python",
   "pygments_lexer": "ipython3",
   "version": "3.9.6"
  }
 },
 "nbformat": 4,
 "nbformat_minor": 5
}
