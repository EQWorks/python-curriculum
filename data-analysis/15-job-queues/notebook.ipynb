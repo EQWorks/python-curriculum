{
 "cells": [
  {
   "cell_type": "markdown",
   "id": "2bc8bfa5-00e0-4c99-b20c-41b787245b85",
   "metadata": {},
   "source": [
    "# Job Queues\n",
    "\n",
    "Layout:\n",
    "\n",
    "- job queues\n",
    "    - Scraping example (main page of https://www.cnn.com/), bs4\n",
    "    - crawl to all `/YYYY/MM/DD/<entry>` links to extract text\n",
    "    - apply fasttext opinion-meter model\n",
    "    - persist into sqlite DB\n",
    "- concept, worker, pub/sub, implication of scales (maybe also intro Redis)"
   ]
  }
 ],
 "metadata": {
  "kernelspec": {
   "display_name": "Python 3 (ipykernel)",
   "language": "python",
   "name": "python3"
  },
  "language_info": {
   "codemirror_mode": {
    "name": "ipython",
    "version": 3
   },
   "file_extension": ".py",
   "mimetype": "text/x-python",
   "name": "python",
   "nbconvert_exporter": "python",
   "pygments_lexer": "ipython3",
   "version": "3.8.2"
  }
 },
 "nbformat": 4,
 "nbformat_minor": 5
}
