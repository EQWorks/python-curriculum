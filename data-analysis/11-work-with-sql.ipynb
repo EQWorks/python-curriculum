{
 "cells": [
  {
   "cell_type": "markdown",
   "id": "following-ribbon",
   "metadata": {},
   "source": [
    "# Work with SQL\n",
    "\n",
    "For most tabularly structured data, such as spreadsheets or CSVs, we can fit them into a database that implements Structured Query Language, or SQL.\n",
    "\n",
    "The Pandas `DataFrame` shares many similarities with SQL data tables in terms of functionalities, but it is bound to the application layer, which requires a properly configured Python runtime to function. On the other hand, SQL databases usually serve through their independent layer, thus not affected by application crashes on their own.\n",
    "\n",
    "The Pandas library implements a set of interfaces to work with SQL databases (through an underlying abstraction library called `sqlalchemy`) to recognize the flexibility and strengths (such as better data persistence, among others) these databases can provide to work with data, especially for those that prefer a declarative language.\n",
    "\n",
    "Among all the choices, SQLite is a fascinating one. It is a file-based SQL database solution with astonishing performance, near-zero configuration and maintenance, and comprehensive features. While it cannot compete with dedicated server-side SQL database solutions such as MySQL, Postgres, SQL Server, and others in a typical server/client application architecture, it excels at single-machine use cases. Usually, it performs faster than server-side solutions since there would be no network latency. It is widely available in UNIX/Linux-based systems due to its tiny footprints, such as in iOS and Android.\n",
    "\n",
    "Since we don't have to worry about database configurations, it's perfect for quick demonstrations and ad-hoc data queries and persistence."
   ]
  },
  {
   "cell_type": "markdown",
   "id": "residential-cargo",
   "metadata": {},
   "source": [
    "## Filter data\n",
    "\n",
    "Recall the first recipe from [`locussdk-collab`](https://github.com/EQWorks/locussdk-collab):"
   ]
  },
  {
   "cell_type": "code",
   "execution_count": 1,
   "id": "designed-essence",
   "metadata": {},
   "outputs": [],
   "source": [
    "# recipe from locussdk-collab\n",
    "from locussdk import get_avail_poi_lists\n",
    "from pandas import DataFrame\n",
    "\n",
    "\n",
    "def search_avail_poi_lists(name: str = '', **kwargs) -> DataFrame:\n",
    "    '''Search available POI lists based on locussdk.get_avail_poi_lists().\n",
    "\n",
    "    Args:\n",
    "        name (str): name to search in the available POI lists.\n",
    "        **kwargs:\n",
    "            All locussdk.get_avail_poi_lists() supported arguments.\n",
    "            All pandas.Series.str.contains() supported arguments.\n",
    "\n",
    "    Returns:\n",
    "        pandas.DataFrame that contain the search resulting POI lists.\n",
    "\n",
    "    Examples:\n",
    "    >>> search_avail_poi_lists('pizza')\n",
    "                name  poi_list_id whitelabelid customerid\n",
    "    67       Bostonpizza           71         None       None\n",
    "    113       Pizzapizza          118         None       None\n",
    "    116       Pizzaville          121         None       None\n",
    "    117     Pizzadelight          122         None       None\n",
    "    139        Pizzanova          144         None       None\n",
    "    157         Pizzahut          162         None       None\n",
    "    175  Neworleanspizza          180         None       None\n",
    "    327         241Pizza          332         None       None\n",
    "    422       Royalpizza          427         None       None\n",
    "    450       Ginospizza          455         None       None\n",
    "    730     Mammas Pizza          735         None       None\n",
    "    786      Doublepizza          791         None       None\n",
    "    '''\n",
    "    # build parameters we want to pass into get_avail_poi_lists()\n",
    "    params = {'list_type': 'global'}  # default search in global\n",
    "    for k in ['list_type', 'whitelabel', 'customer']:\n",
    "        if v := kwargs.pop(k, None):\n",
    "            params[k] = v\n",
    "\n",
    "    lists = get_avail_poi_lists(**params)\n",
    "\n",
    "    # return the full available POI lists if no search string given\n",
    "    if not name:\n",
    "        return lists\n",
    "\n",
    "    return lists[lists['name'].str.contains(name, **kwargs)]"
   ]
  },
  {
   "cell_type": "code",
   "execution_count": 2,
   "id": "employed-mining",
   "metadata": {},
   "outputs": [
    {
     "data": {
      "text/html": [
       "<div>\n",
       "<style scoped>\n",
       "    .dataframe tbody tr th:only-of-type {\n",
       "        vertical-align: middle;\n",
       "    }\n",
       "\n",
       "    .dataframe tbody tr th {\n",
       "        vertical-align: top;\n",
       "    }\n",
       "\n",
       "    .dataframe thead th {\n",
       "        text-align: right;\n",
       "    }\n",
       "</style>\n",
       "<table border=\"1\" class=\"dataframe\">\n",
       "  <thead>\n",
       "    <tr style=\"text-align: right;\">\n",
       "      <th></th>\n",
       "      <th>name</th>\n",
       "      <th>poi_list_id</th>\n",
       "      <th>whitelabelid</th>\n",
       "      <th>customerid</th>\n",
       "    </tr>\n",
       "  </thead>\n",
       "  <tbody>\n",
       "    <tr>\n",
       "      <th>0</th>\n",
       "      <td>Bostonpizza</td>\n",
       "      <td>71</td>\n",
       "      <td>None</td>\n",
       "      <td>None</td>\n",
       "    </tr>\n",
       "    <tr>\n",
       "      <th>1</th>\n",
       "      <td>Pizzapizza</td>\n",
       "      <td>118</td>\n",
       "      <td>None</td>\n",
       "      <td>None</td>\n",
       "    </tr>\n",
       "    <tr>\n",
       "      <th>2</th>\n",
       "      <td>Pizzaville</td>\n",
       "      <td>121</td>\n",
       "      <td>None</td>\n",
       "      <td>None</td>\n",
       "    </tr>\n",
       "    <tr>\n",
       "      <th>3</th>\n",
       "      <td>Pizzadelight</td>\n",
       "      <td>122</td>\n",
       "      <td>None</td>\n",
       "      <td>None</td>\n",
       "    </tr>\n",
       "    <tr>\n",
       "      <th>4</th>\n",
       "      <td>Pizzanova</td>\n",
       "      <td>144</td>\n",
       "      <td>None</td>\n",
       "      <td>None</td>\n",
       "    </tr>\n",
       "    <tr>\n",
       "      <th>5</th>\n",
       "      <td>Pizzahut</td>\n",
       "      <td>162</td>\n",
       "      <td>None</td>\n",
       "      <td>None</td>\n",
       "    </tr>\n",
       "    <tr>\n",
       "      <th>6</th>\n",
       "      <td>Neworleanspizza</td>\n",
       "      <td>180</td>\n",
       "      <td>None</td>\n",
       "      <td>None</td>\n",
       "    </tr>\n",
       "    <tr>\n",
       "      <th>7</th>\n",
       "      <td>241Pizza</td>\n",
       "      <td>332</td>\n",
       "      <td>None</td>\n",
       "      <td>None</td>\n",
       "    </tr>\n",
       "    <tr>\n",
       "      <th>8</th>\n",
       "      <td>Royalpizza</td>\n",
       "      <td>427</td>\n",
       "      <td>None</td>\n",
       "      <td>None</td>\n",
       "    </tr>\n",
       "    <tr>\n",
       "      <th>9</th>\n",
       "      <td>Ginospizza</td>\n",
       "      <td>455</td>\n",
       "      <td>None</td>\n",
       "      <td>None</td>\n",
       "    </tr>\n",
       "    <tr>\n",
       "      <th>10</th>\n",
       "      <td>Mammas Pizza</td>\n",
       "      <td>735</td>\n",
       "      <td>None</td>\n",
       "      <td>None</td>\n",
       "    </tr>\n",
       "    <tr>\n",
       "      <th>11</th>\n",
       "      <td>Doublepizza</td>\n",
       "      <td>791</td>\n",
       "      <td>None</td>\n",
       "      <td>None</td>\n",
       "    </tr>\n",
       "  </tbody>\n",
       "</table>\n",
       "</div>"
      ],
      "text/plain": [
       "               name  poi_list_id whitelabelid customerid\n",
       "0       Bostonpizza           71         None       None\n",
       "1        Pizzapizza          118         None       None\n",
       "2        Pizzaville          121         None       None\n",
       "3      Pizzadelight          122         None       None\n",
       "4         Pizzanova          144         None       None\n",
       "5          Pizzahut          162         None       None\n",
       "6   Neworleanspizza          180         None       None\n",
       "7          241Pizza          332         None       None\n",
       "8        Royalpizza          427         None       None\n",
       "9        Ginospizza          455         None       None\n",
       "10     Mammas Pizza          735         None       None\n",
       "11      Doublepizza          791         None       None"
      ]
     },
     "execution_count": 2,
     "metadata": {},
     "output_type": "execute_result"
    }
   ],
   "source": [
    "search_avail_poi_lists(name='pizza', case=False).reset_index(drop=True)"
   ]
  },
  {
   "cell_type": "markdown",
   "id": "developmental-chambers",
   "metadata": {},
   "source": [
    "We can easily recreate this using the SQL `WHERE` syntax.\n",
    "\n",
    "First, let's load all global POI lists into a SQLite data table:"
   ]
  },
  {
   "cell_type": "code",
   "execution_count": 3,
   "id": "collaborative-obligation",
   "metadata": {},
   "outputs": [
    {
     "data": {
      "text/html": [
       "<div>\n",
       "<style scoped>\n",
       "    .dataframe tbody tr th:only-of-type {\n",
       "        vertical-align: middle;\n",
       "    }\n",
       "\n",
       "    .dataframe tbody tr th {\n",
       "        vertical-align: top;\n",
       "    }\n",
       "\n",
       "    .dataframe thead th {\n",
       "        text-align: right;\n",
       "    }\n",
       "</style>\n",
       "<table border=\"1\" class=\"dataframe\">\n",
       "  <thead>\n",
       "    <tr style=\"text-align: right;\">\n",
       "      <th></th>\n",
       "      <th>name</th>\n",
       "      <th>poi_list_id</th>\n",
       "      <th>whitelabelid</th>\n",
       "      <th>customerid</th>\n",
       "    </tr>\n",
       "  </thead>\n",
       "  <tbody>\n",
       "    <tr>\n",
       "      <th>0</th>\n",
       "      <td>Second Cup Canada</td>\n",
       "      <td>2</td>\n",
       "      <td>None</td>\n",
       "      <td>None</td>\n",
       "    </tr>\n",
       "    <tr>\n",
       "      <th>1</th>\n",
       "      <td>McDonalds</td>\n",
       "      <td>3</td>\n",
       "      <td>None</td>\n",
       "      <td>None</td>\n",
       "    </tr>\n",
       "    <tr>\n",
       "      <th>2</th>\n",
       "      <td>Tim Hortons</td>\n",
       "      <td>4</td>\n",
       "      <td>None</td>\n",
       "      <td>None</td>\n",
       "    </tr>\n",
       "    <tr>\n",
       "      <th>3</th>\n",
       "      <td>Xtracash</td>\n",
       "      <td>7</td>\n",
       "      <td>None</td>\n",
       "      <td>None</td>\n",
       "    </tr>\n",
       "    <tr>\n",
       "      <th>4</th>\n",
       "      <td>Overwaiteafoods</td>\n",
       "      <td>8</td>\n",
       "      <td>None</td>\n",
       "      <td>None</td>\n",
       "    </tr>\n",
       "    <tr>\n",
       "      <th>...</th>\n",
       "      <td>...</td>\n",
       "      <td>...</td>\n",
       "      <td>...</td>\n",
       "      <td>...</td>\n",
       "    </tr>\n",
       "    <tr>\n",
       "      <th>837</th>\n",
       "      <td>WMG - Subway</td>\n",
       "      <td>845</td>\n",
       "      <td>None</td>\n",
       "      <td>None</td>\n",
       "    </tr>\n",
       "    <tr>\n",
       "      <th>838</th>\n",
       "      <td>5Buds Cannabis</td>\n",
       "      <td>1431</td>\n",
       "      <td>None</td>\n",
       "      <td>None</td>\n",
       "    </tr>\n",
       "    <tr>\n",
       "      <th>839</th>\n",
       "      <td>BC Medi Chronic</td>\n",
       "      <td>1432</td>\n",
       "      <td>None</td>\n",
       "      <td>None</td>\n",
       "    </tr>\n",
       "    <tr>\n",
       "      <th>840</th>\n",
       "      <td>Beleave</td>\n",
       "      <td>1435</td>\n",
       "      <td>None</td>\n",
       "      <td>None</td>\n",
       "    </tr>\n",
       "    <tr>\n",
       "      <th>841</th>\n",
       "      <td>USA bookstores</td>\n",
       "      <td>3399</td>\n",
       "      <td>None</td>\n",
       "      <td>None</td>\n",
       "    </tr>\n",
       "  </tbody>\n",
       "</table>\n",
       "<p>842 rows × 4 columns</p>\n",
       "</div>"
      ],
      "text/plain": [
       "                  name  poi_list_id whitelabelid customerid\n",
       "0    Second Cup Canada            2         None       None\n",
       "1            McDonalds            3         None       None\n",
       "2          Tim Hortons            4         None       None\n",
       "3             Xtracash            7         None       None\n",
       "4      Overwaiteafoods            8         None       None\n",
       "..                 ...          ...          ...        ...\n",
       "837       WMG - Subway          845         None       None\n",
       "838     5Buds Cannabis         1431         None       None\n",
       "839    BC Medi Chronic         1432         None       None\n",
       "840            Beleave         1435         None       None\n",
       "841     USA bookstores         3399         None       None\n",
       "\n",
       "[842 rows x 4 columns]"
      ]
     },
     "execution_count": 3,
     "metadata": {},
     "output_type": "execute_result"
    }
   ],
   "source": [
    "all_lists = get_avail_poi_lists('global')\n",
    "all_lists"
   ]
  },
  {
   "cell_type": "markdown",
   "id": "ranging-bangladesh",
   "metadata": {},
   "source": [
    "Since SQLite is so omnipresent, Python even has this as a part of its standard built-in library:"
   ]
  },
  {
   "cell_type": "code",
   "execution_count": 24,
   "id": "associate-encyclopedia",
   "metadata": {},
   "outputs": [],
   "source": [
    "# SQLite is so omnipresent that Python has this as a part of its standard built-in library\n",
    "import sqlite3 as sql\n",
    "\n",
    "# define our DB file name\n",
    "db = 'global_poi_lists.db'"
   ]
  },
  {
   "cell_type": "code",
   "execution_count": 25,
   "id": "earned-trade",
   "metadata": {},
   "outputs": [],
   "source": [
    "# write it into the DB table `poi_lists`\n",
    "with sql.connect(db) as con:\n",
    "    all_lists.to_sql('poi_lists', con=con, if_exists='replace', index=False)"
   ]
  },
  {
   "cell_type": "markdown",
   "id": "southeast-bridge",
   "metadata": {},
   "source": [
    "The database file:\n",
    "\n",
    "![db file](https://user-images.githubusercontent.com/2837532/119175085-67a89080-ba37-11eb-8bf8-6ba7c3c9192e.png)"
   ]
  },
  {
   "cell_type": "markdown",
   "id": "cognitive-apartment",
   "metadata": {},
   "source": [
    "Now let's query the database table we populated just now with the same search condition as the recipe version does through a simple SQL query:\n",
    "\n",
    "```sql\n",
    "SELECT *\n",
    "FROM poi_lists\n",
    "WHERE name LIKE '%pizza%'\n",
    "    OR name LIKE '%domino%';\n",
    "```"
   ]
  },
  {
   "cell_type": "code",
   "execution_count": 26,
   "id": "shaped-memorabilia",
   "metadata": {},
   "outputs": [
    {
     "data": {
      "text/html": [
       "<div>\n",
       "<style scoped>\n",
       "    .dataframe tbody tr th:only-of-type {\n",
       "        vertical-align: middle;\n",
       "    }\n",
       "\n",
       "    .dataframe tbody tr th {\n",
       "        vertical-align: top;\n",
       "    }\n",
       "\n",
       "    .dataframe thead th {\n",
       "        text-align: right;\n",
       "    }\n",
       "</style>\n",
       "<table border=\"1\" class=\"dataframe\">\n",
       "  <thead>\n",
       "    <tr style=\"text-align: right;\">\n",
       "      <th></th>\n",
       "      <th>name</th>\n",
       "      <th>poi_list_id</th>\n",
       "      <th>whitelabelid</th>\n",
       "      <th>customerid</th>\n",
       "    </tr>\n",
       "  </thead>\n",
       "  <tbody>\n",
       "    <tr>\n",
       "      <th>0</th>\n",
       "      <td>Bostonpizza</td>\n",
       "      <td>71</td>\n",
       "      <td>None</td>\n",
       "      <td>None</td>\n",
       "    </tr>\n",
       "    <tr>\n",
       "      <th>1</th>\n",
       "      <td>Pizzapizza</td>\n",
       "      <td>118</td>\n",
       "      <td>None</td>\n",
       "      <td>None</td>\n",
       "    </tr>\n",
       "    <tr>\n",
       "      <th>2</th>\n",
       "      <td>Pizzaville</td>\n",
       "      <td>121</td>\n",
       "      <td>None</td>\n",
       "      <td>None</td>\n",
       "    </tr>\n",
       "    <tr>\n",
       "      <th>3</th>\n",
       "      <td>Pizzadelight</td>\n",
       "      <td>122</td>\n",
       "      <td>None</td>\n",
       "      <td>None</td>\n",
       "    </tr>\n",
       "    <tr>\n",
       "      <th>4</th>\n",
       "      <td>Pizzanova</td>\n",
       "      <td>144</td>\n",
       "      <td>None</td>\n",
       "      <td>None</td>\n",
       "    </tr>\n",
       "    <tr>\n",
       "      <th>5</th>\n",
       "      <td>Pizzahut</td>\n",
       "      <td>162</td>\n",
       "      <td>None</td>\n",
       "      <td>None</td>\n",
       "    </tr>\n",
       "    <tr>\n",
       "      <th>6</th>\n",
       "      <td>Neworleanspizza</td>\n",
       "      <td>180</td>\n",
       "      <td>None</td>\n",
       "      <td>None</td>\n",
       "    </tr>\n",
       "    <tr>\n",
       "      <th>7</th>\n",
       "      <td>241Pizza</td>\n",
       "      <td>332</td>\n",
       "      <td>None</td>\n",
       "      <td>None</td>\n",
       "    </tr>\n",
       "    <tr>\n",
       "      <th>8</th>\n",
       "      <td>Royalpizza</td>\n",
       "      <td>427</td>\n",
       "      <td>None</td>\n",
       "      <td>None</td>\n",
       "    </tr>\n",
       "    <tr>\n",
       "      <th>9</th>\n",
       "      <td>Ginospizza</td>\n",
       "      <td>455</td>\n",
       "      <td>None</td>\n",
       "      <td>None</td>\n",
       "    </tr>\n",
       "    <tr>\n",
       "      <th>10</th>\n",
       "      <td>Mammas Pizza</td>\n",
       "      <td>735</td>\n",
       "      <td>None</td>\n",
       "      <td>None</td>\n",
       "    </tr>\n",
       "    <tr>\n",
       "      <th>11</th>\n",
       "      <td>Doublepizza</td>\n",
       "      <td>791</td>\n",
       "      <td>None</td>\n",
       "      <td>None</td>\n",
       "    </tr>\n",
       "    <tr>\n",
       "      <th>12</th>\n",
       "      <td>Dominos</td>\n",
       "      <td>795</td>\n",
       "      <td>None</td>\n",
       "      <td>None</td>\n",
       "    </tr>\n",
       "  </tbody>\n",
       "</table>\n",
       "</div>"
      ],
      "text/plain": [
       "               name  poi_list_id whitelabelid customerid\n",
       "0       Bostonpizza           71         None       None\n",
       "1        Pizzapizza          118         None       None\n",
       "2        Pizzaville          121         None       None\n",
       "3      Pizzadelight          122         None       None\n",
       "4         Pizzanova          144         None       None\n",
       "5          Pizzahut          162         None       None\n",
       "6   Neworleanspizza          180         None       None\n",
       "7          241Pizza          332         None       None\n",
       "8        Royalpizza          427         None       None\n",
       "9        Ginospizza          455         None       None\n",
       "10     Mammas Pizza          735         None       None\n",
       "11      Doublepizza          791         None       None\n",
       "12          Dominos          795         None       None"
      ]
     },
     "execution_count": 26,
     "metadata": {},
     "output_type": "execute_result"
    }
   ],
   "source": [
    "import pandas as pd\n",
    "\n",
    "query = '''\n",
    "    SELECT *\n",
    "    FROM poi_lists\n",
    "    WHERE name LIKE '%pizza%'\n",
    "        OR name LIKE '%domino%';\n",
    "'''\n",
    "\n",
    "with sql.connect(db) as con:\n",
    "    # read it out\n",
    "    pizzas_db = pd.read_sql(query, con=con)\n",
    "\n",
    "pizzas_db"
   ]
  },
  {
   "cell_type": "markdown",
   "id": "verified-compromise",
   "metadata": {},
   "source": [
    "## Joins\n",
    "\n",
    "For those who have a taste for declarative languages, SQL is often on the top list; and among SQL syntax, its users often consider the `JOIN` statements the most elegant.\n",
    "\n",
    "In relational databases such as most SQL implementations, data tables are often [_normalized_](https://en.wikipedia.org/wiki/Database_normalization). In order to make association between tables, we can utilize the `JOIN` statements. This is conceptually similar to Pandas' `merge()` function.\n",
    "\n",
    "Let's begin by populating another data table `pois` from the POI lists we have retrieved. For `DataFrame`s that carry the same columns, we can simply append them all into the same table:"
   ]
  },
  {
   "cell_type": "code",
   "execution_count": 27,
   "id": "accessory-recognition",
   "metadata": {},
   "outputs": [],
   "source": [
    "import locussdk as locus\n",
    "\n",
    "# load POIs into a DB\n",
    "with sql.connect(db) as con:\n",
    "    for poi_list in pizzas_db.itertuples():\n",
    "        pois = locus.get_pois(poi_list.poi_list_id)\n",
    "        pois['list_id'] = poi_list.poi_list_id  # add a column for association through JOIN\n",
    "        # persist POIs into sqlite\n",
    "        pois.to_sql(\n",
    "            'pois',\n",
    "            if_exists='append',\n",
    "            con=con,\n",
    "            index=False,\n",
    "        )"
   ]
  },
  {
   "cell_type": "markdown",
   "id": "congressional-accused",
   "metadata": {},
   "source": [
    "###### Quick verifications using a filter on all `region = ON`:"
   ]
  },
  {
   "cell_type": "code",
   "execution_count": 28,
   "id": "bright-mixture",
   "metadata": {},
   "outputs": [
    {
     "data": {
      "text/html": [
       "<div>\n",
       "<style scoped>\n",
       "    .dataframe tbody tr th:only-of-type {\n",
       "        vertical-align: middle;\n",
       "    }\n",
       "\n",
       "    .dataframe tbody tr th {\n",
       "        vertical-align: top;\n",
       "    }\n",
       "\n",
       "    .dataframe thead th {\n",
       "        text-align: right;\n",
       "    }\n",
       "</style>\n",
       "<table border=\"1\" class=\"dataframe\">\n",
       "  <thead>\n",
       "    <tr style=\"text-align: right;\">\n",
       "      <th></th>\n",
       "      <th>id</th>\n",
       "      <th>name</th>\n",
       "      <th>city</th>\n",
       "      <th>region</th>\n",
       "      <th>postalCode</th>\n",
       "      <th>country</th>\n",
       "      <th>addressLabel</th>\n",
       "      <th>lat</th>\n",
       "      <th>lon</th>\n",
       "      <th>coords</th>\n",
       "      <th>chainId</th>\n",
       "      <th>list_id</th>\n",
       "    </tr>\n",
       "  </thead>\n",
       "  <tbody>\n",
       "    <tr>\n",
       "      <th>0</th>\n",
       "      <td>32943</td>\n",
       "      <td>Bostonpizza - Conroy</td>\n",
       "      <td>Ottawa</td>\n",
       "      <td>ON</td>\n",
       "      <td>K1G 6C1</td>\n",
       "      <td>CA</td>\n",
       "      <td>2980 Conroy Road,Ottawa,ON,K1G 6C1, Canada</td>\n",
       "      <td>45.382767</td>\n",
       "      <td>-75.630243</td>\n",
       "      <td>45.3827671, -75.6302429</td>\n",
       "      <td>70</td>\n",
       "      <td>71</td>\n",
       "    </tr>\n",
       "    <tr>\n",
       "      <th>1</th>\n",
       "      <td>32944</td>\n",
       "      <td>Bostonpizza - St Laurent</td>\n",
       "      <td>Ottawa</td>\n",
       "      <td>ON</td>\n",
       "      <td>K1K 3B1</td>\n",
       "      <td>CA</td>\n",
       "      <td>1055 St. Laurent Blvd.,Ottawa,ON,K1K 3B1, Canada</td>\n",
       "      <td>45.427042</td>\n",
       "      <td>-75.638414</td>\n",
       "      <td>45.4270421, -75.638414</td>\n",
       "      <td>70</td>\n",
       "      <td>71</td>\n",
       "    </tr>\n",
       "    <tr>\n",
       "      <th>2</th>\n",
       "      <td>32945</td>\n",
       "      <td>Bostonpizza - Orleans</td>\n",
       "      <td>Orleans</td>\n",
       "      <td>ON</td>\n",
       "      <td>K1W 1K9</td>\n",
       "      <td>CA</td>\n",
       "      <td>3884 Innes Road,Orleans,ON,K1W 1K9, Canada</td>\n",
       "      <td>45.453038</td>\n",
       "      <td>-75.510222</td>\n",
       "      <td>45.4530377, -75.5102222</td>\n",
       "      <td>70</td>\n",
       "      <td>71</td>\n",
       "    </tr>\n",
       "    <tr>\n",
       "      <th>3</th>\n",
       "      <td>32946</td>\n",
       "      <td>Bostonpizza - Carling</td>\n",
       "      <td>Ottawa</td>\n",
       "      <td>ON</td>\n",
       "      <td>K2A 1C5</td>\n",
       "      <td>CA</td>\n",
       "      <td>1640 Carling Avenue,Ottawa,ON,K2A 1C5, Canada</td>\n",
       "      <td>45.379562</td>\n",
       "      <td>-75.748339</td>\n",
       "      <td>45.3795624, -75.7483389</td>\n",
       "      <td>70</td>\n",
       "      <td>71</td>\n",
       "    </tr>\n",
       "    <tr>\n",
       "      <th>4</th>\n",
       "      <td>32947</td>\n",
       "      <td>Bostonpizza - Hunt Club</td>\n",
       "      <td>Nepean</td>\n",
       "      <td>ON</td>\n",
       "      <td>K2G 5W5</td>\n",
       "      <td>CA</td>\n",
       "      <td>521 West Hunt Club Road,Nepean,ON,K2G 5W5, Canada</td>\n",
       "      <td>45.334702</td>\n",
       "      <td>-75.725216</td>\n",
       "      <td>45.3347017, -75.7252156</td>\n",
       "      <td>70</td>\n",
       "      <td>71</td>\n",
       "    </tr>\n",
       "    <tr>\n",
       "      <th>...</th>\n",
       "      <td>...</td>\n",
       "      <td>...</td>\n",
       "      <td>...</td>\n",
       "      <td>...</td>\n",
       "      <td>...</td>\n",
       "      <td>...</td>\n",
       "      <td>...</td>\n",
       "      <td>...</td>\n",
       "      <td>...</td>\n",
       "      <td>...</td>\n",
       "      <td>...</td>\n",
       "      <td>...</td>\n",
       "    </tr>\n",
       "    <tr>\n",
       "      <th>1178</th>\n",
       "      <td>122652</td>\n",
       "      <td>Dominos</td>\n",
       "      <td>Sault Ste Marie</td>\n",
       "      <td>ON</td>\n",
       "      <td>P6B4H9</td>\n",
       "      <td>CA</td>\n",
       "      <td>317 Northern Avenue E Suite 1,Sault Ste Marie,...</td>\n",
       "      <td>46.533837</td>\n",
       "      <td>-84.320483</td>\n",
       "      <td>46.5338369, -84.3204835</td>\n",
       "      <td>794</td>\n",
       "      <td>795</td>\n",
       "    </tr>\n",
       "    <tr>\n",
       "      <th>1179</th>\n",
       "      <td>122653</td>\n",
       "      <td>Dominos</td>\n",
       "      <td>Thunder Bay</td>\n",
       "      <td>ON</td>\n",
       "      <td>P7B1K3</td>\n",
       "      <td>CA</td>\n",
       "      <td>863 Red River Road,Thunder Bay,ON,P7B1K3, Canada</td>\n",
       "      <td>48.446277</td>\n",
       "      <td>-89.249380</td>\n",
       "      <td>48.4462766, -89.2493799</td>\n",
       "      <td>794</td>\n",
       "      <td>795</td>\n",
       "    </tr>\n",
       "    <tr>\n",
       "      <th>1180</th>\n",
       "      <td>122654</td>\n",
       "      <td>Dominos</td>\n",
       "      <td>Thunder Bay</td>\n",
       "      <td>ON</td>\n",
       "      <td>P7C5N3</td>\n",
       "      <td>CA</td>\n",
       "      <td>772 James Street North,Thunder Bay,ON,P7C5N3, ...</td>\n",
       "      <td>48.399841</td>\n",
       "      <td>-89.278503</td>\n",
       "      <td>48.3998407, -89.2785028</td>\n",
       "      <td>794</td>\n",
       "      <td>795</td>\n",
       "    </tr>\n",
       "    <tr>\n",
       "      <th>1181</th>\n",
       "      <td>122655</td>\n",
       "      <td>Dominos</td>\n",
       "      <td>Fort Frances</td>\n",
       "      <td>ON</td>\n",
       "      <td>P9A1G8</td>\n",
       "      <td>CA</td>\n",
       "      <td>283 Scott ST,Fort Frances,ON,P9A1G8, Canada</td>\n",
       "      <td>48.609850</td>\n",
       "      <td>-93.396161</td>\n",
       "      <td>48.6098502, -93.3961607</td>\n",
       "      <td>794</td>\n",
       "      <td>795</td>\n",
       "    </tr>\n",
       "    <tr>\n",
       "      <th>1182</th>\n",
       "      <td>122656</td>\n",
       "      <td>Dominos</td>\n",
       "      <td>Kenora</td>\n",
       "      <td>ON</td>\n",
       "      <td>P9N1T3</td>\n",
       "      <td>CA</td>\n",
       "      <td>231 Main Street South,Kenora,ON,P9N1T3, Canada</td>\n",
       "      <td>49.765462</td>\n",
       "      <td>-94.490883</td>\n",
       "      <td>49.7654624, -94.4908834</td>\n",
       "      <td>794</td>\n",
       "      <td>795</td>\n",
       "    </tr>\n",
       "  </tbody>\n",
       "</table>\n",
       "<p>1183 rows × 12 columns</p>\n",
       "</div>"
      ],
      "text/plain": [
       "          id                      name             city region postalCode  \\\n",
       "0      32943      Bostonpizza - Conroy           Ottawa     ON    K1G 6C1   \n",
       "1      32944  Bostonpizza - St Laurent           Ottawa     ON    K1K 3B1   \n",
       "2      32945     Bostonpizza - Orleans          Orleans     ON    K1W 1K9   \n",
       "3      32946     Bostonpizza - Carling           Ottawa     ON    K2A 1C5   \n",
       "4      32947   Bostonpizza - Hunt Club           Nepean     ON    K2G 5W5   \n",
       "...      ...                       ...              ...    ...        ...   \n",
       "1178  122652                   Dominos  Sault Ste Marie     ON     P6B4H9   \n",
       "1179  122653                   Dominos      Thunder Bay     ON     P7B1K3   \n",
       "1180  122654                   Dominos      Thunder Bay     ON     P7C5N3   \n",
       "1181  122655                   Dominos     Fort Frances     ON     P9A1G8   \n",
       "1182  122656                   Dominos           Kenora     ON     P9N1T3   \n",
       "\n",
       "     country                                       addressLabel        lat  \\\n",
       "0         CA         2980 Conroy Road,Ottawa,ON,K1G 6C1, Canada  45.382767   \n",
       "1         CA   1055 St. Laurent Blvd.,Ottawa,ON,K1K 3B1, Canada  45.427042   \n",
       "2         CA         3884 Innes Road,Orleans,ON,K1W 1K9, Canada  45.453038   \n",
       "3         CA      1640 Carling Avenue,Ottawa,ON,K2A 1C5, Canada  45.379562   \n",
       "4         CA  521 West Hunt Club Road,Nepean,ON,K2G 5W5, Canada  45.334702   \n",
       "...      ...                                                ...        ...   \n",
       "1178      CA  317 Northern Avenue E Suite 1,Sault Ste Marie,...  46.533837   \n",
       "1179      CA   863 Red River Road,Thunder Bay,ON,P7B1K3, Canada  48.446277   \n",
       "1180      CA  772 James Street North,Thunder Bay,ON,P7C5N3, ...  48.399841   \n",
       "1181      CA        283 Scott ST,Fort Frances,ON,P9A1G8, Canada  48.609850   \n",
       "1182      CA     231 Main Street South,Kenora,ON,P9N1T3, Canada  49.765462   \n",
       "\n",
       "            lon                   coords  chainId  list_id  \n",
       "0    -75.630243  45.3827671, -75.6302429       70       71  \n",
       "1    -75.638414   45.4270421, -75.638414       70       71  \n",
       "2    -75.510222  45.4530377, -75.5102222       70       71  \n",
       "3    -75.748339  45.3795624, -75.7483389       70       71  \n",
       "4    -75.725216  45.3347017, -75.7252156       70       71  \n",
       "...         ...                      ...      ...      ...  \n",
       "1178 -84.320483  46.5338369, -84.3204835      794      795  \n",
       "1179 -89.249380  48.4462766, -89.2493799      794      795  \n",
       "1180 -89.278503  48.3998407, -89.2785028      794      795  \n",
       "1181 -93.396161  48.6098502, -93.3961607      794      795  \n",
       "1182 -94.490883  49.7654624, -94.4908834      794      795  \n",
       "\n",
       "[1183 rows x 12 columns]"
      ]
     },
     "execution_count": 28,
     "metadata": {},
     "output_type": "execute_result"
    }
   ],
   "source": [
    "# filter by region == 'ON', like in 09\n",
    "with sql.connect(db) as con:\n",
    "    pizzas_on = pd.read_sql(\n",
    "        sql='''\n",
    "            SELECT *\n",
    "            FROM pois\n",
    "            WHERE region = 'ON';\n",
    "        ''',\n",
    "        con=con,\n",
    "    )\n",
    "\n",
    "pizzas_on"
   ]
  },
  {
   "cell_type": "markdown",
   "id": "behind-active",
   "metadata": {},
   "source": [
    "Or see a total count of POIs through the underlying `sqlite3` interface, which returns a Python `tuple` instead of a Pandas `DataFrame`:"
   ]
  },
  {
   "cell_type": "code",
   "execution_count": 29,
   "id": "sought-mention",
   "metadata": {},
   "outputs": [
    {
     "name": "stdout",
     "output_type": "stream",
     "text": [
      "(2014,)\n"
     ]
    }
   ],
   "source": [
    "with sql.connect(db) as con:\n",
    "    print(con.execute('SELECT COUNT(*) FROM pois;').fetchone())"
   ]
  },
  {
   "cell_type": "markdown",
   "id": "seventh-accuracy",
   "metadata": {},
   "source": [
    "Notice how \"Bostonpizza\", and potentially others may have a per-POI variation of naming from the brand name. This is where we can utilize an `INNER JOIN` between the `pois` and `poi_lists` data tables to pin down on a definitive brand name:"
   ]
  },
  {
   "cell_type": "code",
   "execution_count": 30,
   "id": "adequate-opening",
   "metadata": {},
   "outputs": [
    {
     "data": {
      "text/html": [
       "<div>\n",
       "<style scoped>\n",
       "    .dataframe tbody tr th:only-of-type {\n",
       "        vertical-align: middle;\n",
       "    }\n",
       "\n",
       "    .dataframe tbody tr th {\n",
       "        vertical-align: top;\n",
       "    }\n",
       "\n",
       "    .dataframe thead th {\n",
       "        text-align: right;\n",
       "    }\n",
       "</style>\n",
       "<table border=\"1\" class=\"dataframe\">\n",
       "  <thead>\n",
       "    <tr style=\"text-align: right;\">\n",
       "      <th></th>\n",
       "      <th>id</th>\n",
       "      <th>name</th>\n",
       "      <th>city</th>\n",
       "      <th>region</th>\n",
       "    </tr>\n",
       "  </thead>\n",
       "  <tbody>\n",
       "    <tr>\n",
       "      <th>0</th>\n",
       "      <td>32943</td>\n",
       "      <td>Bostonpizza</td>\n",
       "      <td>Ottawa</td>\n",
       "      <td>ON</td>\n",
       "    </tr>\n",
       "    <tr>\n",
       "      <th>1</th>\n",
       "      <td>32944</td>\n",
       "      <td>Bostonpizza</td>\n",
       "      <td>Ottawa</td>\n",
       "      <td>ON</td>\n",
       "    </tr>\n",
       "    <tr>\n",
       "      <th>2</th>\n",
       "      <td>32945</td>\n",
       "      <td>Bostonpizza</td>\n",
       "      <td>Orleans</td>\n",
       "      <td>ON</td>\n",
       "    </tr>\n",
       "    <tr>\n",
       "      <th>3</th>\n",
       "      <td>32946</td>\n",
       "      <td>Bostonpizza</td>\n",
       "      <td>Ottawa</td>\n",
       "      <td>ON</td>\n",
       "    </tr>\n",
       "    <tr>\n",
       "      <th>4</th>\n",
       "      <td>32947</td>\n",
       "      <td>Bostonpizza</td>\n",
       "      <td>Nepean</td>\n",
       "      <td>ON</td>\n",
       "    </tr>\n",
       "    <tr>\n",
       "      <th>...</th>\n",
       "      <td>...</td>\n",
       "      <td>...</td>\n",
       "      <td>...</td>\n",
       "      <td>...</td>\n",
       "    </tr>\n",
       "    <tr>\n",
       "      <th>1178</th>\n",
       "      <td>122652</td>\n",
       "      <td>Dominos</td>\n",
       "      <td>Sault Ste Marie</td>\n",
       "      <td>ON</td>\n",
       "    </tr>\n",
       "    <tr>\n",
       "      <th>1179</th>\n",
       "      <td>122653</td>\n",
       "      <td>Dominos</td>\n",
       "      <td>Thunder Bay</td>\n",
       "      <td>ON</td>\n",
       "    </tr>\n",
       "    <tr>\n",
       "      <th>1180</th>\n",
       "      <td>122654</td>\n",
       "      <td>Dominos</td>\n",
       "      <td>Thunder Bay</td>\n",
       "      <td>ON</td>\n",
       "    </tr>\n",
       "    <tr>\n",
       "      <th>1181</th>\n",
       "      <td>122655</td>\n",
       "      <td>Dominos</td>\n",
       "      <td>Fort Frances</td>\n",
       "      <td>ON</td>\n",
       "    </tr>\n",
       "    <tr>\n",
       "      <th>1182</th>\n",
       "      <td>122656</td>\n",
       "      <td>Dominos</td>\n",
       "      <td>Kenora</td>\n",
       "      <td>ON</td>\n",
       "    </tr>\n",
       "  </tbody>\n",
       "</table>\n",
       "<p>1183 rows × 4 columns</p>\n",
       "</div>"
      ],
      "text/plain": [
       "          id         name             city region\n",
       "0      32943  Bostonpizza           Ottawa     ON\n",
       "1      32944  Bostonpizza           Ottawa     ON\n",
       "2      32945  Bostonpizza          Orleans     ON\n",
       "3      32946  Bostonpizza           Ottawa     ON\n",
       "4      32947  Bostonpizza           Nepean     ON\n",
       "...      ...          ...              ...    ...\n",
       "1178  122652      Dominos  Sault Ste Marie     ON\n",
       "1179  122653      Dominos      Thunder Bay     ON\n",
       "1180  122654      Dominos      Thunder Bay     ON\n",
       "1181  122655      Dominos     Fort Frances     ON\n",
       "1182  122656      Dominos           Kenora     ON\n",
       "\n",
       "[1183 rows x 4 columns]"
      ]
     },
     "execution_count": 30,
     "metadata": {},
     "output_type": "execute_result"
    }
   ],
   "source": [
    "with sql.connect(db) as con:\n",
    "    pizzas_on = pd.read_sql(\n",
    "        sql='''\n",
    "            -- this is a SQL comment\n",
    "            -- we will also leverage SELECT to only cherry-pick the columns we need\n",
    "            SELECT pois.id, list.name, pois.city, pois.region\n",
    "            FROM pois\n",
    "            -- the INNER JOIN <table> ON <condition> syntax\n",
    "            INNER JOIN poi_lists AS list\n",
    "                ON pois.list_id = list.poi_list_id\n",
    "            WHERE pois.region = 'ON';\n",
    "        ''',\n",
    "        con=con,\n",
    "    )\n",
    "\n",
    "pizzas_on"
   ]
  },
  {
   "cell_type": "markdown",
   "id": "regular-thought",
   "metadata": {},
   "source": [
    "To achieve similar effect in Pandas, we would utilize the [Pandas `merge()` function](https://pandas.pydata.org/pandas-docs/stable/reference/api/pandas.merge.html#pandas.merge) (or the [`DataFrame.merge()` method](https://pandas.pydata.org/pandas-docs/stable/reference/api/pandas.DataFrame.merge.html)) as mentioned earlier. Conceptually:\n",
    "\n",
    "```python\n",
    "joined_df = pd.merge(list_df, pois_df, on='list_id')\n",
    "```"
   ]
  },
  {
   "cell_type": "markdown",
   "id": "noticed-shannon",
   "metadata": {},
   "source": [
    "## Aggregations\n",
    "\n",
    "We can also aggregate the sum of shops through `GROUP BY`:"
   ]
  },
  {
   "cell_type": "code",
   "execution_count": 31,
   "id": "statistical-sheriff",
   "metadata": {},
   "outputs": [],
   "source": [
    "# get some aggregated stats using SQL\n",
    "with sql.connect(db) as con:\n",
    "    # number of shops by brand (list_id) and by city + region\n",
    "    by_city_chain = pd.read_sql(\n",
    "        sql='''\n",
    "            SELECT pois.list_id, list.name, pois.city, pois.region, COUNT(*) AS shops\n",
    "            FROM pois\n",
    "            INNER JOIN poi_lists AS list\n",
    "                ON pois.list_id = list.poi_list_id\n",
    "            -- reflects positionally by the order of SELECT columns\n",
    "            GROUP BY 1, 2, 3, 4;\n",
    "        ''',\n",
    "        con=con,\n",
    "    )\n",
    "    # by brand and region\n",
    "    by_region_chain = pd.read_sql(\n",
    "        sql='''\n",
    "            SELECT pois.list_id, list.name, pois.region, COUNT(*) AS shops\n",
    "            FROM pois\n",
    "            INNER JOIN poi_lists AS list\n",
    "                ON pois.list_id = list.poi_list_id\n",
    "            GROUP BY 1, 2, 3;\n",
    "        ''',\n",
    "        con=con,\n",
    "    )\n",
    "    # by brand\n",
    "    by_chain = pd.read_sql(\n",
    "        sql='''\n",
    "            SELECT pois.list_id, list.name, COUNT(*) AS shops\n",
    "            FROM pois\n",
    "            INNER JOIN poi_lists AS list\n",
    "                ON pois.list_id = list.poi_list_id\n",
    "            GROUP BY 1, 2;\n",
    "        ''',\n",
    "        con=con,\n",
    "    )"
   ]
  },
  {
   "cell_type": "code",
   "execution_count": 32,
   "id": "developed-welcome",
   "metadata": {},
   "outputs": [
    {
     "data": {
      "text/html": [
       "<div>\n",
       "<style scoped>\n",
       "    .dataframe tbody tr th:only-of-type {\n",
       "        vertical-align: middle;\n",
       "    }\n",
       "\n",
       "    .dataframe tbody tr th {\n",
       "        vertical-align: top;\n",
       "    }\n",
       "\n",
       "    .dataframe thead th {\n",
       "        text-align: right;\n",
       "    }\n",
       "</style>\n",
       "<table border=\"1\" class=\"dataframe\">\n",
       "  <thead>\n",
       "    <tr style=\"text-align: right;\">\n",
       "      <th></th>\n",
       "      <th>list_id</th>\n",
       "      <th>name</th>\n",
       "      <th>city</th>\n",
       "      <th>region</th>\n",
       "      <th>shops</th>\n",
       "    </tr>\n",
       "  </thead>\n",
       "  <tbody>\n",
       "    <tr>\n",
       "      <th>0</th>\n",
       "      <td>71</td>\n",
       "      <td>Bostonpizza</td>\n",
       "      <td>Abbotsford</td>\n",
       "      <td>BC</td>\n",
       "      <td>2</td>\n",
       "    </tr>\n",
       "    <tr>\n",
       "      <th>1</th>\n",
       "      <td>71</td>\n",
       "      <td>Bostonpizza</td>\n",
       "      <td>Airdrie</td>\n",
       "      <td>AB</td>\n",
       "      <td>1</td>\n",
       "    </tr>\n",
       "    <tr>\n",
       "      <th>2</th>\n",
       "      <td>71</td>\n",
       "      <td>Bostonpizza</td>\n",
       "      <td>Ajax</td>\n",
       "      <td>ON</td>\n",
       "      <td>1</td>\n",
       "    </tr>\n",
       "    <tr>\n",
       "      <th>3</th>\n",
       "      <td>71</td>\n",
       "      <td>Bostonpizza</td>\n",
       "      <td>Aldergrove</td>\n",
       "      <td>BC</td>\n",
       "      <td>1</td>\n",
       "    </tr>\n",
       "    <tr>\n",
       "      <th>4</th>\n",
       "      <td>71</td>\n",
       "      <td>Bostonpizza</td>\n",
       "      <td>Alliston</td>\n",
       "      <td>ON</td>\n",
       "      <td>1</td>\n",
       "    </tr>\n",
       "    <tr>\n",
       "      <th>...</th>\n",
       "      <td>...</td>\n",
       "      <td>...</td>\n",
       "      <td>...</td>\n",
       "      <td>...</td>\n",
       "      <td>...</td>\n",
       "    </tr>\n",
       "    <tr>\n",
       "      <th>1082</th>\n",
       "      <td>795</td>\n",
       "      <td>Dominos</td>\n",
       "      <td>Winnipeg</td>\n",
       "      <td>MB</td>\n",
       "      <td>9</td>\n",
       "    </tr>\n",
       "    <tr>\n",
       "      <th>1083</th>\n",
       "      <td>795</td>\n",
       "      <td>Dominos</td>\n",
       "      <td>Woodbridge</td>\n",
       "      <td>ON</td>\n",
       "      <td>1</td>\n",
       "    </tr>\n",
       "    <tr>\n",
       "      <th>1084</th>\n",
       "      <td>795</td>\n",
       "      <td>Dominos</td>\n",
       "      <td>Yellowknife</td>\n",
       "      <td>NT</td>\n",
       "      <td>1</td>\n",
       "    </tr>\n",
       "    <tr>\n",
       "      <th>1085</th>\n",
       "      <td>795</td>\n",
       "      <td>Dominos</td>\n",
       "      <td>Yorkton</td>\n",
       "      <td>SK</td>\n",
       "      <td>1</td>\n",
       "    </tr>\n",
       "    <tr>\n",
       "      <th>1086</th>\n",
       "      <td>795</td>\n",
       "      <td>Dominos</td>\n",
       "      <td>l'Île Perrot</td>\n",
       "      <td>QC</td>\n",
       "      <td>1</td>\n",
       "    </tr>\n",
       "  </tbody>\n",
       "</table>\n",
       "<p>1087 rows × 5 columns</p>\n",
       "</div>"
      ],
      "text/plain": [
       "      list_id         name          city region  shops\n",
       "0          71  Bostonpizza    Abbotsford     BC      2\n",
       "1          71  Bostonpizza       Airdrie     AB      1\n",
       "2          71  Bostonpizza          Ajax     ON      1\n",
       "3          71  Bostonpizza    Aldergrove     BC      1\n",
       "4          71  Bostonpizza      Alliston     ON      1\n",
       "...       ...          ...           ...    ...    ...\n",
       "1082      795      Dominos      Winnipeg     MB      9\n",
       "1083      795      Dominos    Woodbridge     ON      1\n",
       "1084      795      Dominos   Yellowknife     NT      1\n",
       "1085      795      Dominos       Yorkton     SK      1\n",
       "1086      795      Dominos  l'Île Perrot     QC      1\n",
       "\n",
       "[1087 rows x 5 columns]"
      ]
     },
     "execution_count": 32,
     "metadata": {},
     "output_type": "execute_result"
    }
   ],
   "source": [
    "by_city_chain"
   ]
  },
  {
   "cell_type": "code",
   "execution_count": 33,
   "id": "technological-upgrade",
   "metadata": {},
   "outputs": [
    {
     "data": {
      "text/html": [
       "<div>\n",
       "<style scoped>\n",
       "    .dataframe tbody tr th:only-of-type {\n",
       "        vertical-align: middle;\n",
       "    }\n",
       "\n",
       "    .dataframe tbody tr th {\n",
       "        vertical-align: top;\n",
       "    }\n",
       "\n",
       "    .dataframe thead th {\n",
       "        text-align: right;\n",
       "    }\n",
       "</style>\n",
       "<table border=\"1\" class=\"dataframe\">\n",
       "  <thead>\n",
       "    <tr style=\"text-align: right;\">\n",
       "      <th></th>\n",
       "      <th>list_id</th>\n",
       "      <th>name</th>\n",
       "      <th>region</th>\n",
       "      <th>shops</th>\n",
       "    </tr>\n",
       "  </thead>\n",
       "  <tbody>\n",
       "    <tr>\n",
       "      <th>0</th>\n",
       "      <td>71</td>\n",
       "      <td>Bostonpizza</td>\n",
       "      <td>AB</td>\n",
       "      <td>106</td>\n",
       "    </tr>\n",
       "    <tr>\n",
       "      <th>1</th>\n",
       "      <td>71</td>\n",
       "      <td>Bostonpizza</td>\n",
       "      <td>BC</td>\n",
       "      <td>60</td>\n",
       "    </tr>\n",
       "    <tr>\n",
       "      <th>2</th>\n",
       "      <td>71</td>\n",
       "      <td>Bostonpizza</td>\n",
       "      <td>MB</td>\n",
       "      <td>18</td>\n",
       "    </tr>\n",
       "    <tr>\n",
       "      <th>3</th>\n",
       "      <td>71</td>\n",
       "      <td>Bostonpizza</td>\n",
       "      <td>NB</td>\n",
       "      <td>5</td>\n",
       "    </tr>\n",
       "    <tr>\n",
       "      <th>4</th>\n",
       "      <td>71</td>\n",
       "      <td>Bostonpizza</td>\n",
       "      <td>NL</td>\n",
       "      <td>3</td>\n",
       "    </tr>\n",
       "    <tr>\n",
       "      <th>5</th>\n",
       "      <td>71</td>\n",
       "      <td>Bostonpizza</td>\n",
       "      <td>NS</td>\n",
       "      <td>11</td>\n",
       "    </tr>\n",
       "    <tr>\n",
       "      <th>6</th>\n",
       "      <td>71</td>\n",
       "      <td>Bostonpizza</td>\n",
       "      <td>NT</td>\n",
       "      <td>1</td>\n",
       "    </tr>\n",
       "    <tr>\n",
       "      <th>7</th>\n",
       "      <td>71</td>\n",
       "      <td>Bostonpizza</td>\n",
       "      <td>ON</td>\n",
       "      <td>116</td>\n",
       "    </tr>\n",
       "    <tr>\n",
       "      <th>8</th>\n",
       "      <td>71</td>\n",
       "      <td>Bostonpizza</td>\n",
       "      <td>PE</td>\n",
       "      <td>1</td>\n",
       "    </tr>\n",
       "    <tr>\n",
       "      <th>9</th>\n",
       "      <td>71</td>\n",
       "      <td>Bostonpizza</td>\n",
       "      <td>QC</td>\n",
       "      <td>28</td>\n",
       "    </tr>\n",
       "    <tr>\n",
       "      <th>10</th>\n",
       "      <td>71</td>\n",
       "      <td>Bostonpizza</td>\n",
       "      <td>SK</td>\n",
       "      <td>22</td>\n",
       "    </tr>\n",
       "    <tr>\n",
       "      <th>11</th>\n",
       "      <td>71</td>\n",
       "      <td>Bostonpizza</td>\n",
       "      <td>YT</td>\n",
       "      <td>1</td>\n",
       "    </tr>\n",
       "    <tr>\n",
       "      <th>12</th>\n",
       "      <td>118</td>\n",
       "      <td>Pizzapizza</td>\n",
       "      <td>MB</td>\n",
       "      <td>9</td>\n",
       "    </tr>\n",
       "    <tr>\n",
       "      <th>13</th>\n",
       "      <td>118</td>\n",
       "      <td>Pizzapizza</td>\n",
       "      <td>NS</td>\n",
       "      <td>3</td>\n",
       "    </tr>\n",
       "    <tr>\n",
       "      <th>14</th>\n",
       "      <td>118</td>\n",
       "      <td>Pizzapizza</td>\n",
       "      <td>ON</td>\n",
       "      <td>347</td>\n",
       "    </tr>\n",
       "    <tr>\n",
       "      <th>15</th>\n",
       "      <td>118</td>\n",
       "      <td>Pizzapizza</td>\n",
       "      <td>QC</td>\n",
       "      <td>27</td>\n",
       "    </tr>\n",
       "    <tr>\n",
       "      <th>16</th>\n",
       "      <td>118</td>\n",
       "      <td>Pizzapizza</td>\n",
       "      <td>SK</td>\n",
       "      <td>3</td>\n",
       "    </tr>\n",
       "    <tr>\n",
       "      <th>17</th>\n",
       "      <td>121</td>\n",
       "      <td>Pizzaville</td>\n",
       "      <td>ON</td>\n",
       "      <td>69</td>\n",
       "    </tr>\n",
       "    <tr>\n",
       "      <th>18</th>\n",
       "      <td>122</td>\n",
       "      <td>Pizzadelight</td>\n",
       "      <td>NB</td>\n",
       "      <td>35</td>\n",
       "    </tr>\n",
       "    <tr>\n",
       "      <th>19</th>\n",
       "      <td>122</td>\n",
       "      <td>Pizzadelight</td>\n",
       "      <td>NL</td>\n",
       "      <td>15</td>\n",
       "    </tr>\n",
       "    <tr>\n",
       "      <th>20</th>\n",
       "      <td>122</td>\n",
       "      <td>Pizzadelight</td>\n",
       "      <td>NS</td>\n",
       "      <td>12</td>\n",
       "    </tr>\n",
       "    <tr>\n",
       "      <th>21</th>\n",
       "      <td>122</td>\n",
       "      <td>Pizzadelight</td>\n",
       "      <td>ON</td>\n",
       "      <td>9</td>\n",
       "    </tr>\n",
       "    <tr>\n",
       "      <th>22</th>\n",
       "      <td>122</td>\n",
       "      <td>Pizzadelight</td>\n",
       "      <td>PE</td>\n",
       "      <td>6</td>\n",
       "    </tr>\n",
       "    <tr>\n",
       "      <th>23</th>\n",
       "      <td>144</td>\n",
       "      <td>Pizzanova</td>\n",
       "      <td>ON</td>\n",
       "      <td>128</td>\n",
       "    </tr>\n",
       "    <tr>\n",
       "      <th>24</th>\n",
       "      <td>162</td>\n",
       "      <td>Pizzahut</td>\n",
       "      <td>AB</td>\n",
       "      <td>68</td>\n",
       "    </tr>\n",
       "    <tr>\n",
       "      <th>25</th>\n",
       "      <td>162</td>\n",
       "      <td>Pizzahut</td>\n",
       "      <td>BC</td>\n",
       "      <td>63</td>\n",
       "    </tr>\n",
       "    <tr>\n",
       "      <th>26</th>\n",
       "      <td>162</td>\n",
       "      <td>Pizzahut</td>\n",
       "      <td>MB</td>\n",
       "      <td>12</td>\n",
       "    </tr>\n",
       "    <tr>\n",
       "      <th>27</th>\n",
       "      <td>162</td>\n",
       "      <td>Pizzahut</td>\n",
       "      <td>NB</td>\n",
       "      <td>5</td>\n",
       "    </tr>\n",
       "    <tr>\n",
       "      <th>28</th>\n",
       "      <td>162</td>\n",
       "      <td>Pizzahut</td>\n",
       "      <td>NL</td>\n",
       "      <td>2</td>\n",
       "    </tr>\n",
       "    <tr>\n",
       "      <th>29</th>\n",
       "      <td>162</td>\n",
       "      <td>Pizzahut</td>\n",
       "      <td>NS</td>\n",
       "      <td>5</td>\n",
       "    </tr>\n",
       "    <tr>\n",
       "      <th>30</th>\n",
       "      <td>162</td>\n",
       "      <td>Pizzahut</td>\n",
       "      <td>NT</td>\n",
       "      <td>1</td>\n",
       "    </tr>\n",
       "    <tr>\n",
       "      <th>31</th>\n",
       "      <td>162</td>\n",
       "      <td>Pizzahut</td>\n",
       "      <td>ON</td>\n",
       "      <td>134</td>\n",
       "    </tr>\n",
       "    <tr>\n",
       "      <th>32</th>\n",
       "      <td>162</td>\n",
       "      <td>Pizzahut</td>\n",
       "      <td>QC</td>\n",
       "      <td>21</td>\n",
       "    </tr>\n",
       "    <tr>\n",
       "      <th>33</th>\n",
       "      <td>162</td>\n",
       "      <td>Pizzahut</td>\n",
       "      <td>SK</td>\n",
       "      <td>17</td>\n",
       "    </tr>\n",
       "    <tr>\n",
       "      <th>34</th>\n",
       "      <td>162</td>\n",
       "      <td>Pizzahut</td>\n",
       "      <td>YT</td>\n",
       "      <td>1</td>\n",
       "    </tr>\n",
       "    <tr>\n",
       "      <th>35</th>\n",
       "      <td>180</td>\n",
       "      <td>Neworleanspizza</td>\n",
       "      <td>ON</td>\n",
       "      <td>39</td>\n",
       "    </tr>\n",
       "    <tr>\n",
       "      <th>36</th>\n",
       "      <td>332</td>\n",
       "      <td>241Pizza</td>\n",
       "      <td>BC</td>\n",
       "      <td>2</td>\n",
       "    </tr>\n",
       "    <tr>\n",
       "      <th>37</th>\n",
       "      <td>332</td>\n",
       "      <td>241Pizza</td>\n",
       "      <td>MB</td>\n",
       "      <td>2</td>\n",
       "    </tr>\n",
       "    <tr>\n",
       "      <th>38</th>\n",
       "      <td>332</td>\n",
       "      <td>241Pizza</td>\n",
       "      <td>ON</td>\n",
       "      <td>59</td>\n",
       "    </tr>\n",
       "    <tr>\n",
       "      <th>39</th>\n",
       "      <td>332</td>\n",
       "      <td>241Pizza</td>\n",
       "      <td>SK</td>\n",
       "      <td>7</td>\n",
       "    </tr>\n",
       "    <tr>\n",
       "      <th>40</th>\n",
       "      <td>427</td>\n",
       "      <td>Royalpizza</td>\n",
       "      <td>AB</td>\n",
       "      <td>7</td>\n",
       "    </tr>\n",
       "    <tr>\n",
       "      <th>41</th>\n",
       "      <td>455</td>\n",
       "      <td>Ginospizza</td>\n",
       "      <td>ON</td>\n",
       "      <td>80</td>\n",
       "    </tr>\n",
       "    <tr>\n",
       "      <th>42</th>\n",
       "      <td>735</td>\n",
       "      <td>Mammas Pizza</td>\n",
       "      <td>ON</td>\n",
       "      <td>16</td>\n",
       "    </tr>\n",
       "    <tr>\n",
       "      <th>43</th>\n",
       "      <td>791</td>\n",
       "      <td>Doublepizza</td>\n",
       "      <td>QC</td>\n",
       "      <td>26</td>\n",
       "    </tr>\n",
       "    <tr>\n",
       "      <th>44</th>\n",
       "      <td>795</td>\n",
       "      <td>Dominos</td>\n",
       "      <td>AB</td>\n",
       "      <td>67</td>\n",
       "    </tr>\n",
       "    <tr>\n",
       "      <th>45</th>\n",
       "      <td>795</td>\n",
       "      <td>Dominos</td>\n",
       "      <td>BC</td>\n",
       "      <td>66</td>\n",
       "    </tr>\n",
       "    <tr>\n",
       "      <th>46</th>\n",
       "      <td>795</td>\n",
       "      <td>Dominos</td>\n",
       "      <td>MB</td>\n",
       "      <td>17</td>\n",
       "    </tr>\n",
       "    <tr>\n",
       "      <th>47</th>\n",
       "      <td>795</td>\n",
       "      <td>Dominos</td>\n",
       "      <td>NB</td>\n",
       "      <td>5</td>\n",
       "    </tr>\n",
       "    <tr>\n",
       "      <th>48</th>\n",
       "      <td>795</td>\n",
       "      <td>Dominos</td>\n",
       "      <td>NL</td>\n",
       "      <td>6</td>\n",
       "    </tr>\n",
       "    <tr>\n",
       "      <th>49</th>\n",
       "      <td>795</td>\n",
       "      <td>Dominos</td>\n",
       "      <td>NS</td>\n",
       "      <td>4</td>\n",
       "    </tr>\n",
       "    <tr>\n",
       "      <th>50</th>\n",
       "      <td>795</td>\n",
       "      <td>Dominos</td>\n",
       "      <td>NT</td>\n",
       "      <td>1</td>\n",
       "    </tr>\n",
       "    <tr>\n",
       "      <th>51</th>\n",
       "      <td>795</td>\n",
       "      <td>Dominos</td>\n",
       "      <td>ON</td>\n",
       "      <td>186</td>\n",
       "    </tr>\n",
       "    <tr>\n",
       "      <th>52</th>\n",
       "      <td>795</td>\n",
       "      <td>Dominos</td>\n",
       "      <td>PE</td>\n",
       "      <td>2</td>\n",
       "    </tr>\n",
       "    <tr>\n",
       "      <th>53</th>\n",
       "      <td>795</td>\n",
       "      <td>Dominos</td>\n",
       "      <td>QC</td>\n",
       "      <td>44</td>\n",
       "    </tr>\n",
       "    <tr>\n",
       "      <th>54</th>\n",
       "      <td>795</td>\n",
       "      <td>Dominos</td>\n",
       "      <td>SK</td>\n",
       "      <td>13</td>\n",
       "    </tr>\n",
       "    <tr>\n",
       "      <th>55</th>\n",
       "      <td>795</td>\n",
       "      <td>Dominos</td>\n",
       "      <td>YT</td>\n",
       "      <td>1</td>\n",
       "    </tr>\n",
       "  </tbody>\n",
       "</table>\n",
       "</div>"
      ],
      "text/plain": [
       "    list_id             name region  shops\n",
       "0        71      Bostonpizza     AB    106\n",
       "1        71      Bostonpizza     BC     60\n",
       "2        71      Bostonpizza     MB     18\n",
       "3        71      Bostonpizza     NB      5\n",
       "4        71      Bostonpizza     NL      3\n",
       "5        71      Bostonpizza     NS     11\n",
       "6        71      Bostonpizza     NT      1\n",
       "7        71      Bostonpizza     ON    116\n",
       "8        71      Bostonpizza     PE      1\n",
       "9        71      Bostonpizza     QC     28\n",
       "10       71      Bostonpizza     SK     22\n",
       "11       71      Bostonpizza     YT      1\n",
       "12      118       Pizzapizza     MB      9\n",
       "13      118       Pizzapizza     NS      3\n",
       "14      118       Pizzapizza     ON    347\n",
       "15      118       Pizzapizza     QC     27\n",
       "16      118       Pizzapizza     SK      3\n",
       "17      121       Pizzaville     ON     69\n",
       "18      122     Pizzadelight     NB     35\n",
       "19      122     Pizzadelight     NL     15\n",
       "20      122     Pizzadelight     NS     12\n",
       "21      122     Pizzadelight     ON      9\n",
       "22      122     Pizzadelight     PE      6\n",
       "23      144        Pizzanova     ON    128\n",
       "24      162         Pizzahut     AB     68\n",
       "25      162         Pizzahut     BC     63\n",
       "26      162         Pizzahut     MB     12\n",
       "27      162         Pizzahut     NB      5\n",
       "28      162         Pizzahut     NL      2\n",
       "29      162         Pizzahut     NS      5\n",
       "30      162         Pizzahut     NT      1\n",
       "31      162         Pizzahut     ON    134\n",
       "32      162         Pizzahut     QC     21\n",
       "33      162         Pizzahut     SK     17\n",
       "34      162         Pizzahut     YT      1\n",
       "35      180  Neworleanspizza     ON     39\n",
       "36      332         241Pizza     BC      2\n",
       "37      332         241Pizza     MB      2\n",
       "38      332         241Pizza     ON     59\n",
       "39      332         241Pizza     SK      7\n",
       "40      427       Royalpizza     AB      7\n",
       "41      455       Ginospizza     ON     80\n",
       "42      735     Mammas Pizza     ON     16\n",
       "43      791      Doublepizza     QC     26\n",
       "44      795          Dominos     AB     67\n",
       "45      795          Dominos     BC     66\n",
       "46      795          Dominos     MB     17\n",
       "47      795          Dominos     NB      5\n",
       "48      795          Dominos     NL      6\n",
       "49      795          Dominos     NS      4\n",
       "50      795          Dominos     NT      1\n",
       "51      795          Dominos     ON    186\n",
       "52      795          Dominos     PE      2\n",
       "53      795          Dominos     QC     44\n",
       "54      795          Dominos     SK     13\n",
       "55      795          Dominos     YT      1"
      ]
     },
     "execution_count": 33,
     "metadata": {},
     "output_type": "execute_result"
    }
   ],
   "source": [
    "by_region_chain"
   ]
  },
  {
   "cell_type": "code",
   "execution_count": 34,
   "id": "gross-means",
   "metadata": {},
   "outputs": [
    {
     "data": {
      "text/html": [
       "<div>\n",
       "<style scoped>\n",
       "    .dataframe tbody tr th:only-of-type {\n",
       "        vertical-align: middle;\n",
       "    }\n",
       "\n",
       "    .dataframe tbody tr th {\n",
       "        vertical-align: top;\n",
       "    }\n",
       "\n",
       "    .dataframe thead th {\n",
       "        text-align: right;\n",
       "    }\n",
       "</style>\n",
       "<table border=\"1\" class=\"dataframe\">\n",
       "  <thead>\n",
       "    <tr style=\"text-align: right;\">\n",
       "      <th></th>\n",
       "      <th>list_id</th>\n",
       "      <th>name</th>\n",
       "      <th>shops</th>\n",
       "    </tr>\n",
       "  </thead>\n",
       "  <tbody>\n",
       "    <tr>\n",
       "      <th>0</th>\n",
       "      <td>71</td>\n",
       "      <td>Bostonpizza</td>\n",
       "      <td>372</td>\n",
       "    </tr>\n",
       "    <tr>\n",
       "      <th>1</th>\n",
       "      <td>118</td>\n",
       "      <td>Pizzapizza</td>\n",
       "      <td>389</td>\n",
       "    </tr>\n",
       "    <tr>\n",
       "      <th>2</th>\n",
       "      <td>121</td>\n",
       "      <td>Pizzaville</td>\n",
       "      <td>69</td>\n",
       "    </tr>\n",
       "    <tr>\n",
       "      <th>3</th>\n",
       "      <td>122</td>\n",
       "      <td>Pizzadelight</td>\n",
       "      <td>77</td>\n",
       "    </tr>\n",
       "    <tr>\n",
       "      <th>4</th>\n",
       "      <td>144</td>\n",
       "      <td>Pizzanova</td>\n",
       "      <td>128</td>\n",
       "    </tr>\n",
       "    <tr>\n",
       "      <th>5</th>\n",
       "      <td>162</td>\n",
       "      <td>Pizzahut</td>\n",
       "      <td>329</td>\n",
       "    </tr>\n",
       "    <tr>\n",
       "      <th>6</th>\n",
       "      <td>180</td>\n",
       "      <td>Neworleanspizza</td>\n",
       "      <td>39</td>\n",
       "    </tr>\n",
       "    <tr>\n",
       "      <th>7</th>\n",
       "      <td>332</td>\n",
       "      <td>241Pizza</td>\n",
       "      <td>70</td>\n",
       "    </tr>\n",
       "    <tr>\n",
       "      <th>8</th>\n",
       "      <td>427</td>\n",
       "      <td>Royalpizza</td>\n",
       "      <td>7</td>\n",
       "    </tr>\n",
       "    <tr>\n",
       "      <th>9</th>\n",
       "      <td>455</td>\n",
       "      <td>Ginospizza</td>\n",
       "      <td>80</td>\n",
       "    </tr>\n",
       "    <tr>\n",
       "      <th>10</th>\n",
       "      <td>735</td>\n",
       "      <td>Mammas Pizza</td>\n",
       "      <td>16</td>\n",
       "    </tr>\n",
       "    <tr>\n",
       "      <th>11</th>\n",
       "      <td>791</td>\n",
       "      <td>Doublepizza</td>\n",
       "      <td>26</td>\n",
       "    </tr>\n",
       "    <tr>\n",
       "      <th>12</th>\n",
       "      <td>795</td>\n",
       "      <td>Dominos</td>\n",
       "      <td>412</td>\n",
       "    </tr>\n",
       "  </tbody>\n",
       "</table>\n",
       "</div>"
      ],
      "text/plain": [
       "    list_id             name  shops\n",
       "0        71      Bostonpizza    372\n",
       "1       118       Pizzapizza    389\n",
       "2       121       Pizzaville     69\n",
       "3       122     Pizzadelight     77\n",
       "4       144        Pizzanova    128\n",
       "5       162         Pizzahut    329\n",
       "6       180  Neworleanspizza     39\n",
       "7       332         241Pizza     70\n",
       "8       427       Royalpizza      7\n",
       "9       455       Ginospizza     80\n",
       "10      735     Mammas Pizza     16\n",
       "11      791      Doublepizza     26\n",
       "12      795          Dominos    412"
      ]
     },
     "execution_count": 34,
     "metadata": {},
     "output_type": "execute_result"
    }
   ],
   "source": [
    "by_chain"
   ]
  },
  {
   "cell_type": "markdown",
   "id": "helpful-asset",
   "metadata": {},
   "source": [
    "As the syntax suggests, this is pretty much similar to the use of the [`DataFrame.groupby()`](https://pandas.pydata.org/pandas-docs/stable/reference/api/pandas.DataFrame.groupby.html) method in combination with the [`DataFrame.aggregate()` method](https://pandas.pydata.org/pandas-docs/stable/reference/api/pandas.DataFrame.aggregate.html). Similarly conceptually:\n",
    "\n",
    "```python\n",
    "agg_df = joined_df.groupby(['list_id', 'name', 'city', 'region']).aggregate({'id': 'count'})\n",
    "```\n",
    "\n",
    "Note, the SQL version in this particular case offers a significant layer of convenience to carry out both `JOIN` (merge) and `GROUP BY` in one block of code (and if needed, filter through `WHERE` can fit in there too)."
   ]
  },
  {
   "cell_type": "code",
   "execution_count": 35,
   "id": "infectious-practitioner",
   "metadata": {},
   "outputs": [
    {
     "data": {
      "application/vnd.plotly.v1+json": {
       "config": {
        "plotlyServerURL": "https://plot.ly"
       },
       "data": [
        {
         "domain": {
          "x": [
           0,
           1
          ],
          "y": [
           0,
           1
          ]
         },
         "hovertemplate": "name=%{label}<br>shops=%{value}<extra></extra>",
         "labels": [
          "Bostonpizza",
          "Pizzapizza",
          "Pizzaville",
          "Pizzadelight",
          "Pizzanova",
          "Pizzahut",
          "Neworleanspizza",
          "241Pizza",
          "Royalpizza",
          "Ginospizza",
          "Mammas Pizza",
          "Doublepizza",
          "Dominos"
         ],
         "legendgroup": "",
         "name": "",
         "showlegend": true,
         "type": "pie",
         "values": [
          372,
          389,
          69,
          77,
          128,
          329,
          39,
          70,
          7,
          80,
          16,
          26,
          412
         ]
        }
       ],
       "layout": {
        "autosize": true,
        "legend": {
         "tracegroupgap": 0
        },
        "margin": {
         "t": 60
        },
        "template": {
         "data": {
          "bar": [
           {
            "error_x": {
             "color": "#2a3f5f"
            },
            "error_y": {
             "color": "#2a3f5f"
            },
            "marker": {
             "line": {
              "color": "#E5ECF6",
              "width": 0.5
             }
            },
            "type": "bar"
           }
          ],
          "barpolar": [
           {
            "marker": {
             "line": {
              "color": "#E5ECF6",
              "width": 0.5
             }
            },
            "type": "barpolar"
           }
          ],
          "carpet": [
           {
            "aaxis": {
             "endlinecolor": "#2a3f5f",
             "gridcolor": "white",
             "linecolor": "white",
             "minorgridcolor": "white",
             "startlinecolor": "#2a3f5f"
            },
            "baxis": {
             "endlinecolor": "#2a3f5f",
             "gridcolor": "white",
             "linecolor": "white",
             "minorgridcolor": "white",
             "startlinecolor": "#2a3f5f"
            },
            "type": "carpet"
           }
          ],
          "choropleth": [
           {
            "colorbar": {
             "outlinewidth": 0,
             "ticks": ""
            },
            "type": "choropleth"
           }
          ],
          "contour": [
           {
            "colorbar": {
             "outlinewidth": 0,
             "ticks": ""
            },
            "colorscale": [
             [
              0,
              "#0d0887"
             ],
             [
              0.1111111111111111,
              "#46039f"
             ],
             [
              0.2222222222222222,
              "#7201a8"
             ],
             [
              0.3333333333333333,
              "#9c179e"
             ],
             [
              0.4444444444444444,
              "#bd3786"
             ],
             [
              0.5555555555555556,
              "#d8576b"
             ],
             [
              0.6666666666666666,
              "#ed7953"
             ],
             [
              0.7777777777777778,
              "#fb9f3a"
             ],
             [
              0.8888888888888888,
              "#fdca26"
             ],
             [
              1,
              "#f0f921"
             ]
            ],
            "type": "contour"
           }
          ],
          "contourcarpet": [
           {
            "colorbar": {
             "outlinewidth": 0,
             "ticks": ""
            },
            "type": "contourcarpet"
           }
          ],
          "heatmap": [
           {
            "colorbar": {
             "outlinewidth": 0,
             "ticks": ""
            },
            "colorscale": [
             [
              0,
              "#0d0887"
             ],
             [
              0.1111111111111111,
              "#46039f"
             ],
             [
              0.2222222222222222,
              "#7201a8"
             ],
             [
              0.3333333333333333,
              "#9c179e"
             ],
             [
              0.4444444444444444,
              "#bd3786"
             ],
             [
              0.5555555555555556,
              "#d8576b"
             ],
             [
              0.6666666666666666,
              "#ed7953"
             ],
             [
              0.7777777777777778,
              "#fb9f3a"
             ],
             [
              0.8888888888888888,
              "#fdca26"
             ],
             [
              1,
              "#f0f921"
             ]
            ],
            "type": "heatmap"
           }
          ],
          "heatmapgl": [
           {
            "colorbar": {
             "outlinewidth": 0,
             "ticks": ""
            },
            "colorscale": [
             [
              0,
              "#0d0887"
             ],
             [
              0.1111111111111111,
              "#46039f"
             ],
             [
              0.2222222222222222,
              "#7201a8"
             ],
             [
              0.3333333333333333,
              "#9c179e"
             ],
             [
              0.4444444444444444,
              "#bd3786"
             ],
             [
              0.5555555555555556,
              "#d8576b"
             ],
             [
              0.6666666666666666,
              "#ed7953"
             ],
             [
              0.7777777777777778,
              "#fb9f3a"
             ],
             [
              0.8888888888888888,
              "#fdca26"
             ],
             [
              1,
              "#f0f921"
             ]
            ],
            "type": "heatmapgl"
           }
          ],
          "histogram": [
           {
            "marker": {
             "colorbar": {
              "outlinewidth": 0,
              "ticks": ""
             }
            },
            "type": "histogram"
           }
          ],
          "histogram2d": [
           {
            "colorbar": {
             "outlinewidth": 0,
             "ticks": ""
            },
            "colorscale": [
             [
              0,
              "#0d0887"
             ],
             [
              0.1111111111111111,
              "#46039f"
             ],
             [
              0.2222222222222222,
              "#7201a8"
             ],
             [
              0.3333333333333333,
              "#9c179e"
             ],
             [
              0.4444444444444444,
              "#bd3786"
             ],
             [
              0.5555555555555556,
              "#d8576b"
             ],
             [
              0.6666666666666666,
              "#ed7953"
             ],
             [
              0.7777777777777778,
              "#fb9f3a"
             ],
             [
              0.8888888888888888,
              "#fdca26"
             ],
             [
              1,
              "#f0f921"
             ]
            ],
            "type": "histogram2d"
           }
          ],
          "histogram2dcontour": [
           {
            "colorbar": {
             "outlinewidth": 0,
             "ticks": ""
            },
            "colorscale": [
             [
              0,
              "#0d0887"
             ],
             [
              0.1111111111111111,
              "#46039f"
             ],
             [
              0.2222222222222222,
              "#7201a8"
             ],
             [
              0.3333333333333333,
              "#9c179e"
             ],
             [
              0.4444444444444444,
              "#bd3786"
             ],
             [
              0.5555555555555556,
              "#d8576b"
             ],
             [
              0.6666666666666666,
              "#ed7953"
             ],
             [
              0.7777777777777778,
              "#fb9f3a"
             ],
             [
              0.8888888888888888,
              "#fdca26"
             ],
             [
              1,
              "#f0f921"
             ]
            ],
            "type": "histogram2dcontour"
           }
          ],
          "mesh3d": [
           {
            "colorbar": {
             "outlinewidth": 0,
             "ticks": ""
            },
            "type": "mesh3d"
           }
          ],
          "parcoords": [
           {
            "line": {
             "colorbar": {
              "outlinewidth": 0,
              "ticks": ""
             }
            },
            "type": "parcoords"
           }
          ],
          "pie": [
           {
            "automargin": true,
            "type": "pie"
           }
          ],
          "scatter": [
           {
            "marker": {
             "colorbar": {
              "outlinewidth": 0,
              "ticks": ""
             }
            },
            "type": "scatter"
           }
          ],
          "scatter3d": [
           {
            "line": {
             "colorbar": {
              "outlinewidth": 0,
              "ticks": ""
             }
            },
            "marker": {
             "colorbar": {
              "outlinewidth": 0,
              "ticks": ""
             }
            },
            "type": "scatter3d"
           }
          ],
          "scattercarpet": [
           {
            "marker": {
             "colorbar": {
              "outlinewidth": 0,
              "ticks": ""
             }
            },
            "type": "scattercarpet"
           }
          ],
          "scattergeo": [
           {
            "marker": {
             "colorbar": {
              "outlinewidth": 0,
              "ticks": ""
             }
            },
            "type": "scattergeo"
           }
          ],
          "scattergl": [
           {
            "marker": {
             "colorbar": {
              "outlinewidth": 0,
              "ticks": ""
             }
            },
            "type": "scattergl"
           }
          ],
          "scattermapbox": [
           {
            "marker": {
             "colorbar": {
              "outlinewidth": 0,
              "ticks": ""
             }
            },
            "type": "scattermapbox"
           }
          ],
          "scatterpolar": [
           {
            "marker": {
             "colorbar": {
              "outlinewidth": 0,
              "ticks": ""
             }
            },
            "type": "scatterpolar"
           }
          ],
          "scatterpolargl": [
           {
            "marker": {
             "colorbar": {
              "outlinewidth": 0,
              "ticks": ""
             }
            },
            "type": "scatterpolargl"
           }
          ],
          "scatterternary": [
           {
            "marker": {
             "colorbar": {
              "outlinewidth": 0,
              "ticks": ""
             }
            },
            "type": "scatterternary"
           }
          ],
          "surface": [
           {
            "colorbar": {
             "outlinewidth": 0,
             "ticks": ""
            },
            "colorscale": [
             [
              0,
              "#0d0887"
             ],
             [
              0.1111111111111111,
              "#46039f"
             ],
             [
              0.2222222222222222,
              "#7201a8"
             ],
             [
              0.3333333333333333,
              "#9c179e"
             ],
             [
              0.4444444444444444,
              "#bd3786"
             ],
             [
              0.5555555555555556,
              "#d8576b"
             ],
             [
              0.6666666666666666,
              "#ed7953"
             ],
             [
              0.7777777777777778,
              "#fb9f3a"
             ],
             [
              0.8888888888888888,
              "#fdca26"
             ],
             [
              1,
              "#f0f921"
             ]
            ],
            "type": "surface"
           }
          ],
          "table": [
           {
            "cells": {
             "fill": {
              "color": "#EBF0F8"
             },
             "line": {
              "color": "white"
             }
            },
            "header": {
             "fill": {
              "color": "#C8D4E3"
             },
             "line": {
              "color": "white"
             }
            },
            "type": "table"
           }
          ]
         },
         "layout": {
          "annotationdefaults": {
           "arrowcolor": "#2a3f5f",
           "arrowhead": 0,
           "arrowwidth": 1
          },
          "autotypenumbers": "strict",
          "coloraxis": {
           "colorbar": {
            "outlinewidth": 0,
            "ticks": ""
           }
          },
          "colorscale": {
           "diverging": [
            [
             0,
             "#8e0152"
            ],
            [
             0.1,
             "#c51b7d"
            ],
            [
             0.2,
             "#de77ae"
            ],
            [
             0.3,
             "#f1b6da"
            ],
            [
             0.4,
             "#fde0ef"
            ],
            [
             0.5,
             "#f7f7f7"
            ],
            [
             0.6,
             "#e6f5d0"
            ],
            [
             0.7,
             "#b8e186"
            ],
            [
             0.8,
             "#7fbc41"
            ],
            [
             0.9,
             "#4d9221"
            ],
            [
             1,
             "#276419"
            ]
           ],
           "sequential": [
            [
             0,
             "#0d0887"
            ],
            [
             0.1111111111111111,
             "#46039f"
            ],
            [
             0.2222222222222222,
             "#7201a8"
            ],
            [
             0.3333333333333333,
             "#9c179e"
            ],
            [
             0.4444444444444444,
             "#bd3786"
            ],
            [
             0.5555555555555556,
             "#d8576b"
            ],
            [
             0.6666666666666666,
             "#ed7953"
            ],
            [
             0.7777777777777778,
             "#fb9f3a"
            ],
            [
             0.8888888888888888,
             "#fdca26"
            ],
            [
             1,
             "#f0f921"
            ]
           ],
           "sequentialminus": [
            [
             0,
             "#0d0887"
            ],
            [
             0.1111111111111111,
             "#46039f"
            ],
            [
             0.2222222222222222,
             "#7201a8"
            ],
            [
             0.3333333333333333,
             "#9c179e"
            ],
            [
             0.4444444444444444,
             "#bd3786"
            ],
            [
             0.5555555555555556,
             "#d8576b"
            ],
            [
             0.6666666666666666,
             "#ed7953"
            ],
            [
             0.7777777777777778,
             "#fb9f3a"
            ],
            [
             0.8888888888888888,
             "#fdca26"
            ],
            [
             1,
             "#f0f921"
            ]
           ]
          },
          "colorway": [
           "#636efa",
           "#EF553B",
           "#00cc96",
           "#ab63fa",
           "#FFA15A",
           "#19d3f3",
           "#FF6692",
           "#B6E880",
           "#FF97FF",
           "#FECB52"
          ],
          "font": {
           "color": "#2a3f5f"
          },
          "geo": {
           "bgcolor": "white",
           "lakecolor": "white",
           "landcolor": "#E5ECF6",
           "showlakes": true,
           "showland": true,
           "subunitcolor": "white"
          },
          "hoverlabel": {
           "align": "left"
          },
          "hovermode": "closest",
          "mapbox": {
           "style": "light"
          },
          "paper_bgcolor": "white",
          "plot_bgcolor": "#E5ECF6",
          "polar": {
           "angularaxis": {
            "gridcolor": "white",
            "linecolor": "white",
            "ticks": ""
           },
           "bgcolor": "#E5ECF6",
           "radialaxis": {
            "gridcolor": "white",
            "linecolor": "white",
            "ticks": ""
           }
          },
          "scene": {
           "xaxis": {
            "backgroundcolor": "#E5ECF6",
            "gridcolor": "white",
            "gridwidth": 2,
            "linecolor": "white",
            "showbackground": true,
            "ticks": "",
            "zerolinecolor": "white"
           },
           "yaxis": {
            "backgroundcolor": "#E5ECF6",
            "gridcolor": "white",
            "gridwidth": 2,
            "linecolor": "white",
            "showbackground": true,
            "ticks": "",
            "zerolinecolor": "white"
           },
           "zaxis": {
            "backgroundcolor": "#E5ECF6",
            "gridcolor": "white",
            "gridwidth": 2,
            "linecolor": "white",
            "showbackground": true,
            "ticks": "",
            "zerolinecolor": "white"
           }
          },
          "shapedefaults": {
           "line": {
            "color": "#2a3f5f"
           }
          },
          "ternary": {
           "aaxis": {
            "gridcolor": "white",
            "linecolor": "white",
            "ticks": ""
           },
           "baxis": {
            "gridcolor": "white",
            "linecolor": "white",
            "ticks": ""
           },
           "bgcolor": "#E5ECF6",
           "caxis": {
            "gridcolor": "white",
            "linecolor": "white",
            "ticks": ""
           }
          },
          "title": {
           "x": 0.05
          },
          "xaxis": {
           "automargin": true,
           "gridcolor": "white",
           "linecolor": "white",
           "ticks": "",
           "title": {
            "standoff": 15
           },
           "zerolinecolor": "white",
           "zerolinewidth": 2
          },
          "yaxis": {
           "automargin": true,
           "gridcolor": "white",
           "linecolor": "white",
           "ticks": "",
           "title": {
            "standoff": 15
           },
           "zerolinecolor": "white",
           "zerolinewidth": 2
          }
         }
        }
       }
      },
      "image/png": "[encoded data removed]",
      "text/html": [
       "<div>                            <div id=\"d6419767-ec2f-4831-9d8f-8ae8269c3cb6\" class=\"plotly-graph-div\" style=\"height:525px; width:100%;\"></div>            <script type=\"text/javascript\">                require([\"plotly\"], function(Plotly) {                    window.PLOTLYENV=window.PLOTLYENV || {};                                    if (document.getElementById(\"d6419767-ec2f-4831-9d8f-8ae8269c3cb6\")) {                    Plotly.newPlot(                        \"d6419767-ec2f-4831-9d8f-8ae8269c3cb6\",                        [{\"domain\": {\"x\": [0.0, 1.0], \"y\": [0.0, 1.0]}, \"hovertemplate\": \"name=%{label}<br>shops=%{value}<extra></extra>\", \"labels\": [\"Bostonpizza\", \"Pizzapizza\", \"Pizzaville\", \"Pizzadelight\", \"Pizzanova\", \"Pizzahut\", \"Neworleanspizza\", \"241Pizza\", \"Royalpizza\", \"Ginospizza\", \"Mammas Pizza\", \"Doublepizza\", \"Dominos\"], \"legendgroup\": \"\", \"name\": \"\", \"showlegend\": true, \"type\": \"pie\", \"values\": [372, 389, 69, 77, 128, 329, 39, 70, 7, 80, 16, 26, 412]}],                        {\"legend\": {\"tracegroupgap\": 0}, \"margin\": {\"t\": 60}, \"template\": {\"data\": {\"bar\": [{\"error_x\": {\"color\": \"#2a3f5f\"}, \"error_y\": {\"color\": \"#2a3f5f\"}, \"marker\": {\"line\": {\"color\": \"#E5ECF6\", \"width\": 0.5}}, \"type\": \"bar\"}], \"barpolar\": [{\"marker\": {\"line\": {\"color\": \"#E5ECF6\", \"width\": 0.5}}, \"type\": \"barpolar\"}], \"carpet\": [{\"aaxis\": {\"endlinecolor\": \"#2a3f5f\", \"gridcolor\": \"white\", \"linecolor\": \"white\", \"minorgridcolor\": \"white\", \"startlinecolor\": \"#2a3f5f\"}, \"baxis\": {\"endlinecolor\": \"#2a3f5f\", \"gridcolor\": \"white\", \"linecolor\": \"white\", \"minorgridcolor\": \"white\", \"startlinecolor\": \"#2a3f5f\"}, \"type\": \"carpet\"}], \"choropleth\": [{\"colorbar\": {\"outlinewidth\": 0, \"ticks\": \"\"}, \"type\": \"choropleth\"}], \"contour\": [{\"colorbar\": {\"outlinewidth\": 0, \"ticks\": \"\"}, \"colorscale\": [[0.0, \"#0d0887\"], [0.1111111111111111, \"#46039f\"], [0.2222222222222222, \"#7201a8\"], [0.3333333333333333, \"#9c179e\"], [0.4444444444444444, \"#bd3786\"], [0.5555555555555556, \"#d8576b\"], [0.6666666666666666, \"#ed7953\"], [0.7777777777777778, \"#fb9f3a\"], [0.8888888888888888, \"#fdca26\"], [1.0, \"#f0f921\"]], \"type\": \"contour\"}], \"contourcarpet\": [{\"colorbar\": {\"outlinewidth\": 0, \"ticks\": \"\"}, \"type\": \"contourcarpet\"}], \"heatmap\": [{\"colorbar\": {\"outlinewidth\": 0, \"ticks\": \"\"}, \"colorscale\": [[0.0, \"#0d0887\"], [0.1111111111111111, \"#46039f\"], [0.2222222222222222, \"#7201a8\"], [0.3333333333333333, \"#9c179e\"], [0.4444444444444444, \"#bd3786\"], [0.5555555555555556, \"#d8576b\"], [0.6666666666666666, \"#ed7953\"], [0.7777777777777778, \"#fb9f3a\"], [0.8888888888888888, \"#fdca26\"], [1.0, \"#f0f921\"]], \"type\": \"heatmap\"}], \"heatmapgl\": [{\"colorbar\": {\"outlinewidth\": 0, \"ticks\": \"\"}, \"colorscale\": [[0.0, \"#0d0887\"], [0.1111111111111111, \"#46039f\"], [0.2222222222222222, \"#7201a8\"], [0.3333333333333333, \"#9c179e\"], [0.4444444444444444, \"#bd3786\"], [0.5555555555555556, \"#d8576b\"], [0.6666666666666666, \"#ed7953\"], [0.7777777777777778, \"#fb9f3a\"], [0.8888888888888888, \"#fdca26\"], [1.0, \"#f0f921\"]], \"type\": \"heatmapgl\"}], \"histogram\": [{\"marker\": {\"colorbar\": {\"outlinewidth\": 0, \"ticks\": \"\"}}, \"type\": \"histogram\"}], \"histogram2d\": [{\"colorbar\": {\"outlinewidth\": 0, \"ticks\": \"\"}, \"colorscale\": [[0.0, \"#0d0887\"], [0.1111111111111111, \"#46039f\"], [0.2222222222222222, \"#7201a8\"], [0.3333333333333333, \"#9c179e\"], [0.4444444444444444, \"#bd3786\"], [0.5555555555555556, \"#d8576b\"], [0.6666666666666666, \"#ed7953\"], [0.7777777777777778, \"#fb9f3a\"], [0.8888888888888888, \"#fdca26\"], [1.0, \"#f0f921\"]], \"type\": \"histogram2d\"}], \"histogram2dcontour\": [{\"colorbar\": {\"outlinewidth\": 0, \"ticks\": \"\"}, \"colorscale\": [[0.0, \"#0d0887\"], [0.1111111111111111, \"#46039f\"], [0.2222222222222222, \"#7201a8\"], [0.3333333333333333, \"#9c179e\"], [0.4444444444444444, \"#bd3786\"], [0.5555555555555556, \"#d8576b\"], [0.6666666666666666, \"#ed7953\"], [0.7777777777777778, \"#fb9f3a\"], [0.8888888888888888, \"#fdca26\"], [1.0, \"#f0f921\"]], \"type\": \"histogram2dcontour\"}], \"mesh3d\": [{\"colorbar\": {\"outlinewidth\": 0, \"ticks\": \"\"}, \"type\": \"mesh3d\"}], \"parcoords\": [{\"line\": {\"colorbar\": {\"outlinewidth\": 0, \"ticks\": \"\"}}, \"type\": \"parcoords\"}], \"pie\": [{\"automargin\": true, \"type\": \"pie\"}], \"scatter\": [{\"marker\": {\"colorbar\": {\"outlinewidth\": 0, \"ticks\": \"\"}}, \"type\": \"scatter\"}], \"scatter3d\": [{\"line\": {\"colorbar\": {\"outlinewidth\": 0, \"ticks\": \"\"}}, \"marker\": {\"colorbar\": {\"outlinewidth\": 0, \"ticks\": \"\"}}, \"type\": \"scatter3d\"}], \"scattercarpet\": [{\"marker\": {\"colorbar\": {\"outlinewidth\": 0, \"ticks\": \"\"}}, \"type\": \"scattercarpet\"}], \"scattergeo\": [{\"marker\": {\"colorbar\": {\"outlinewidth\": 0, \"ticks\": \"\"}}, \"type\": \"scattergeo\"}], \"scattergl\": [{\"marker\": {\"colorbar\": {\"outlinewidth\": 0, \"ticks\": \"\"}}, \"type\": \"scattergl\"}], \"scattermapbox\": [{\"marker\": {\"colorbar\": {\"outlinewidth\": 0, \"ticks\": \"\"}}, \"type\": \"scattermapbox\"}], \"scatterpolar\": [{\"marker\": {\"colorbar\": {\"outlinewidth\": 0, \"ticks\": \"\"}}, \"type\": \"scatterpolar\"}], \"scatterpolargl\": [{\"marker\": {\"colorbar\": {\"outlinewidth\": 0, \"ticks\": \"\"}}, \"type\": \"scatterpolargl\"}], \"scatterternary\": [{\"marker\": {\"colorbar\": {\"outlinewidth\": 0, \"ticks\": \"\"}}, \"type\": \"scatterternary\"}], \"surface\": [{\"colorbar\": {\"outlinewidth\": 0, \"ticks\": \"\"}, \"colorscale\": [[0.0, \"#0d0887\"], [0.1111111111111111, \"#46039f\"], [0.2222222222222222, \"#7201a8\"], [0.3333333333333333, \"#9c179e\"], [0.4444444444444444, \"#bd3786\"], [0.5555555555555556, \"#d8576b\"], [0.6666666666666666, \"#ed7953\"], [0.7777777777777778, \"#fb9f3a\"], [0.8888888888888888, \"#fdca26\"], [1.0, \"#f0f921\"]], \"type\": \"surface\"}], \"table\": [{\"cells\": {\"fill\": {\"color\": \"#EBF0F8\"}, \"line\": {\"color\": \"white\"}}, \"header\": {\"fill\": {\"color\": \"#C8D4E3\"}, \"line\": {\"color\": \"white\"}}, \"type\": \"table\"}]}, \"layout\": {\"annotationdefaults\": {\"arrowcolor\": \"#2a3f5f\", \"arrowhead\": 0, \"arrowwidth\": 1}, \"autotypenumbers\": \"strict\", \"coloraxis\": {\"colorbar\": {\"outlinewidth\": 0, \"ticks\": \"\"}}, \"colorscale\": {\"diverging\": [[0, \"#8e0152\"], [0.1, \"#c51b7d\"], [0.2, \"#de77ae\"], [0.3, \"#f1b6da\"], [0.4, \"#fde0ef\"], [0.5, \"#f7f7f7\"], [0.6, \"#e6f5d0\"], [0.7, \"#b8e186\"], [0.8, \"#7fbc41\"], [0.9, \"#4d9221\"], [1, \"#276419\"]], \"sequential\": [[0.0, \"#0d0887\"], [0.1111111111111111, \"#46039f\"], [0.2222222222222222, \"#7201a8\"], [0.3333333333333333, \"#9c179e\"], [0.4444444444444444, \"#bd3786\"], [0.5555555555555556, \"#d8576b\"], [0.6666666666666666, \"#ed7953\"], [0.7777777777777778, \"#fb9f3a\"], [0.8888888888888888, \"#fdca26\"], [1.0, \"#f0f921\"]], \"sequentialminus\": [[0.0, \"#0d0887\"], [0.1111111111111111, \"#46039f\"], [0.2222222222222222, \"#7201a8\"], [0.3333333333333333, \"#9c179e\"], [0.4444444444444444, \"#bd3786\"], [0.5555555555555556, \"#d8576b\"], [0.6666666666666666, \"#ed7953\"], [0.7777777777777778, \"#fb9f3a\"], [0.8888888888888888, \"#fdca26\"], [1.0, \"#f0f921\"]]}, \"colorway\": [\"#636efa\", \"#EF553B\", \"#00cc96\", \"#ab63fa\", \"#FFA15A\", \"#19d3f3\", \"#FF6692\", \"#B6E880\", \"#FF97FF\", \"#FECB52\"], \"font\": {\"color\": \"#2a3f5f\"}, \"geo\": {\"bgcolor\": \"white\", \"lakecolor\": \"white\", \"landcolor\": \"#E5ECF6\", \"showlakes\": true, \"showland\": true, \"subunitcolor\": \"white\"}, \"hoverlabel\": {\"align\": \"left\"}, \"hovermode\": \"closest\", \"mapbox\": {\"style\": \"light\"}, \"paper_bgcolor\": \"white\", \"plot_bgcolor\": \"#E5ECF6\", \"polar\": {\"angularaxis\": {\"gridcolor\": \"white\", \"linecolor\": \"white\", \"ticks\": \"\"}, \"bgcolor\": \"#E5ECF6\", \"radialaxis\": {\"gridcolor\": \"white\", \"linecolor\": \"white\", \"ticks\": \"\"}}, \"scene\": {\"xaxis\": {\"backgroundcolor\": \"#E5ECF6\", \"gridcolor\": \"white\", \"gridwidth\": 2, \"linecolor\": \"white\", \"showbackground\": true, \"ticks\": \"\", \"zerolinecolor\": \"white\"}, \"yaxis\": {\"backgroundcolor\": \"#E5ECF6\", \"gridcolor\": \"white\", \"gridwidth\": 2, \"linecolor\": \"white\", \"showbackground\": true, \"ticks\": \"\", \"zerolinecolor\": \"white\"}, \"zaxis\": {\"backgroundcolor\": \"#E5ECF6\", \"gridcolor\": \"white\", \"gridwidth\": 2, \"linecolor\": \"white\", \"showbackground\": true, \"ticks\": \"\", \"zerolinecolor\": \"white\"}}, \"shapedefaults\": {\"line\": {\"color\": \"#2a3f5f\"}}, \"ternary\": {\"aaxis\": {\"gridcolor\": \"white\", \"linecolor\": \"white\", \"ticks\": \"\"}, \"baxis\": {\"gridcolor\": \"white\", \"linecolor\": \"white\", \"ticks\": \"\"}, \"bgcolor\": \"#E5ECF6\", \"caxis\": {\"gridcolor\": \"white\", \"linecolor\": \"white\", \"ticks\": \"\"}}, \"title\": {\"x\": 0.05}, \"xaxis\": {\"automargin\": true, \"gridcolor\": \"white\", \"linecolor\": \"white\", \"ticks\": \"\", \"title\": {\"standoff\": 15}, \"zerolinecolor\": \"white\", \"zerolinewidth\": 2}, \"yaxis\": {\"automargin\": true, \"gridcolor\": \"white\", \"linecolor\": \"white\", \"ticks\": \"\", \"title\": {\"standoff\": 15}, \"zerolinecolor\": \"white\", \"zerolinewidth\": 2}}}},                        {\"responsive\": true}                    ).then(function(){\n",
       "                            \n",
       "var gd = document.getElementById('d6419767-ec2f-4831-9d8f-8ae8269c3cb6');\n",
       "var x = new MutationObserver(function (mutations, observer) {{\n",
       "        var display = window.getComputedStyle(gd).display;\n",
       "        if (!display || display === 'none') {{\n",
       "            console.log([gd, 'removed!']);\n",
       "            Plotly.purge(gd);\n",
       "            observer.disconnect();\n",
       "        }}\n",
       "}});\n",
       "\n",
       "// Listen for the removal of the full notebook cells\n",
       "var notebookContainer = gd.closest('#notebook-container');\n",
       "if (notebookContainer) {{\n",
       "    x.observe(notebookContainer, {childList: true});\n",
       "}}\n",
       "\n",
       "// Listen for the clearing of the current output cell\n",
       "var outputEl = gd.closest('.output');\n",
       "if (outputEl) {{\n",
       "    x.observe(outputEl, {childList: true});\n",
       "}}\n",
       "\n",
       "                        })                };                });            </script>        </div>"
      ]
     },
     "metadata": {},
     "output_type": "display_data"
    }
   ],
   "source": [
    "# some quick visualization\n",
    "import plotly.express as px\n",
    "\n",
    "px.pie(by_chain, values='shops', names='name')"
   ]
  },
  {
   "cell_type": "markdown",
   "id": "banner-knowing",
   "metadata": {},
   "source": [
    "For regional/provincial pie charts, let's add some interactivity through `ipywidgets` from the [last session](10-bridging-web-ui-to-notebook.ipynb):"
   ]
  },
  {
   "cell_type": "code",
   "execution_count": 36,
   "id": "gross-globe",
   "metadata": {},
   "outputs": [
    {
     "data": {
      "application/vnd.jupyter.widget-view+json": {
       "model_id": "75edb0798e7d482c9e5a0724d3cda3d7",
       "version_major": 2,
       "version_minor": 0
      },
      "text/plain": [
       "interactive(children=(ToggleButtons(description='Province', options=('AB', 'BC', 'MB', 'NB', 'NL', 'NS', 'NT',…"
      ]
     },
     "metadata": {},
     "output_type": "display_data"
    }
   ],
   "source": [
    "import ipywidgets as widgets\n",
    "\n",
    "regions = by_region_chain.region.unique().tolist()\n",
    "\n",
    "def regional_pie(index):\n",
    "    fig = px.pie(by_region_chain[by_region_chain['region'] == index], values='shops', names='name')\n",
    "\n",
    "    return fig.show()\n",
    "\n",
    "\n",
    "t = widgets.interact(\n",
    "    regional_pie,\n",
    "    index=widgets.ToggleButtons(\n",
    "        options=regions,\n",
    "        description='Province',\n",
    "    ),\n",
    ")"
   ]
  },
  {
   "cell_type": "markdown",
   "id": "laden-memphis",
   "metadata": {},
   "source": [
    "## Remarks\n",
    "\n",
    "Including a bit of SQL adds to the usage flexibility and, for some, a matter of preference. A SQL database also enables a more versatile and collaborative data analysis environment (especially a proper server-side solution such as Postgres). Data engineers and analysts can work with the data and then persist them to the SQL database. Then, software developers and engineers can access the same data on the front end through a completely different stack (often designed to be lighter than tools such as the Pandas library) to serve the end-users. And across the pipeline, all ends get to benefit from the built-in versatility of SQL itself to make some \"last-mile data massaging.\"\n",
    "\n",
    "Whether it's for preference, flexibility, or practical measures, adding a SQL solution to our toolbelt of data analysis is never a bad idea.\n",
    "\n",
    "## References\n",
    "\n",
    "* SQLite [official website](https://sqlite.org/index.html)\n",
    "* [Python `sqlite3` module documentation](https://docs.python.org/3/library/sqlite3.html)\n",
    "* Pandas' own [comparison with SQL](https://pandas.pydata.org/pandas-docs/stable/getting_started/comparison/comparison_with_sql.html), and the documentation on its `read_sql()` and `DataFrame/Series.to_sql()` interfaces."
   ]
  }
 ],
 "metadata": {
  "kernelspec": {
   "display_name": "Python 3",
   "language": "python",
   "name": "python3"
  },
  "language_info": {
   "codemirror_mode": {
    "name": "ipython",
    "version": 3
   },
   "file_extension": ".py",
   "mimetype": "text/x-python",
   "name": "python",
   "nbconvert_exporter": "python",
   "pygments_lexer": "ipython3",
   "version": "3.8.2"
  }
 },
 "nbformat": 4,
 "nbformat_minor": 5
}
