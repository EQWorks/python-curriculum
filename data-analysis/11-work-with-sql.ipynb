{
 "cells": [
  {
   "cell_type": "markdown",
   "id": "julian-rebecca",
   "metadata": {},
   "source": [
    "# Work with SQL\n",
    "\n",
    "For most tabularly structured data, such as spreadsheets or CSVs, we can fit them into a database that implements Structured Query Language, or SQL.\n",
    "\n",
    "The Pandas `DataFrame` shares many similarities with SQL data tables in terms of functionalities, but it is bound to the application layer, which requires a properly configured Python runtime to function. On the other hand, SQL databases usually serve through their independent layer, thus not affected by application crashes on their own.\n",
    "\n",
    "The Pandas library implements a set of interfaces to work with SQL databases (through an underlying abstraction library called `sqlalchemy`) to recognize the flexibility and strengths (such as better data persistence, among others) these databases can provide to work with data, especially for those that prefer a declarative language.\n",
    "\n",
    "Among all the choices, SQLite is a fascinating one. It is a file-based SQL database solution with astonishing performance, near-zero configuration and maintenance, and comprehensive features. While it cannot compete with dedicated server-side SQL database solutions such as MySQL, Postgres, SQL Server, and others in a typical server/client application architecture, it excels at single-machine use cases. Usually, it performs faster than server-side solutions since there would be no network latency. It is widely available in UNIX/Linux-based systems due to its tiny footprints, such as iOS and Android.\n",
    "\n",
    "Since we don't have to worry about database configurations, it's perfect for quick demonstrations and ad-hoc data persistence."
   ]
  },
  {
   "cell_type": "markdown",
   "id": "intended-expression",
   "metadata": {},
   "source": [
    "## Filter data\n",
    "\n",
    "Recall the first recipe from [`locussdk-collab`](https://github.com/EQWorks/locussdk-collab):"
   ]
  },
  {
   "cell_type": "code",
   "execution_count": 1,
   "id": "considered-appraisal",
   "metadata": {},
   "outputs": [],
   "source": [
    "# recipe from locussdk-collab\n",
    "from locussdk import get_avail_poi_lists\n",
    "from pandas import DataFrame\n",
    "\n",
    "\n",
    "def search_avail_poi_lists(name: str = '', **kwargs) -> DataFrame:\n",
    "    '''Search available POI lists based on locussdk.get_avail_poi_lists().\n",
    "\n",
    "    Args:\n",
    "        name (str): name to search in the available POI lists.\n",
    "        **kwargs:\n",
    "            All locussdk.get_avail_poi_lists() supported arguments.\n",
    "            All pandas.Series.str.contains() supported arguments.\n",
    "\n",
    "    Returns:\n",
    "        pandas.DataFrame that contain the search resulting POI lists.\n",
    "\n",
    "    Examples:\n",
    "    >>> search_avail_poi_lists('pizza')\n",
    "                name  poi_list_id whitelabelid customerid\n",
    "    67       Bostonpizza           71         None       None\n",
    "    113       Pizzapizza          118         None       None\n",
    "    116       Pizzaville          121         None       None\n",
    "    117     Pizzadelight          122         None       None\n",
    "    139        Pizzanova          144         None       None\n",
    "    157         Pizzahut          162         None       None\n",
    "    175  Neworleanspizza          180         None       None\n",
    "    327         241Pizza          332         None       None\n",
    "    422       Royalpizza          427         None       None\n",
    "    450       Ginospizza          455         None       None\n",
    "    730     Mammas Pizza          735         None       None\n",
    "    786      Doublepizza          791         None       None\n",
    "    '''\n",
    "    # build parameters we want to pass into get_avail_poi_lists()\n",
    "    params = {'list_type': 'global'}  # default search in global\n",
    "    for k in ['list_type', 'whitelabel', 'customer']:\n",
    "        if v := kwargs.pop(k, None):\n",
    "            params[k] = v\n",
    "\n",
    "    lists = get_avail_poi_lists(**params)\n",
    "\n",
    "    # return the full available POI lists if no search string given\n",
    "    if not name:\n",
    "        return lists\n",
    "\n",
    "    return lists[lists['name'].str.contains(name, **kwargs)]"
   ]
  },
  {
   "cell_type": "code",
   "execution_count": 2,
   "id": "internal-reynolds",
   "metadata": {},
   "outputs": [
    {
     "data": {
      "text/html": [
       "<div>\n",
       "<style scoped>\n",
       "    .dataframe tbody tr th:only-of-type {\n",
       "        vertical-align: middle;\n",
       "    }\n",
       "\n",
       "    .dataframe tbody tr th {\n",
       "        vertical-align: top;\n",
       "    }\n",
       "\n",
       "    .dataframe thead th {\n",
       "        text-align: right;\n",
       "    }\n",
       "</style>\n",
       "<table border=\"1\" class=\"dataframe\">\n",
       "  <thead>\n",
       "    <tr style=\"text-align: right;\">\n",
       "      <th></th>\n",
       "      <th>name</th>\n",
       "      <th>poi_list_id</th>\n",
       "      <th>whitelabelid</th>\n",
       "      <th>customerid</th>\n",
       "    </tr>\n",
       "  </thead>\n",
       "  <tbody>\n",
       "    <tr>\n",
       "      <th>0</th>\n",
       "      <td>Bostonpizza</td>\n",
       "      <td>71</td>\n",
       "      <td>None</td>\n",
       "      <td>None</td>\n",
       "    </tr>\n",
       "    <tr>\n",
       "      <th>1</th>\n",
       "      <td>Pizzapizza</td>\n",
       "      <td>118</td>\n",
       "      <td>None</td>\n",
       "      <td>None</td>\n",
       "    </tr>\n",
       "    <tr>\n",
       "      <th>2</th>\n",
       "      <td>Pizzaville</td>\n",
       "      <td>121</td>\n",
       "      <td>None</td>\n",
       "      <td>None</td>\n",
       "    </tr>\n",
       "    <tr>\n",
       "      <th>3</th>\n",
       "      <td>Pizzadelight</td>\n",
       "      <td>122</td>\n",
       "      <td>None</td>\n",
       "      <td>None</td>\n",
       "    </tr>\n",
       "    <tr>\n",
       "      <th>4</th>\n",
       "      <td>Pizzanova</td>\n",
       "      <td>144</td>\n",
       "      <td>None</td>\n",
       "      <td>None</td>\n",
       "    </tr>\n",
       "    <tr>\n",
       "      <th>5</th>\n",
       "      <td>Pizzahut</td>\n",
       "      <td>162</td>\n",
       "      <td>None</td>\n",
       "      <td>None</td>\n",
       "    </tr>\n",
       "    <tr>\n",
       "      <th>6</th>\n",
       "      <td>Neworleanspizza</td>\n",
       "      <td>180</td>\n",
       "      <td>None</td>\n",
       "      <td>None</td>\n",
       "    </tr>\n",
       "    <tr>\n",
       "      <th>7</th>\n",
       "      <td>241Pizza</td>\n",
       "      <td>332</td>\n",
       "      <td>None</td>\n",
       "      <td>None</td>\n",
       "    </tr>\n",
       "    <tr>\n",
       "      <th>8</th>\n",
       "      <td>Royalpizza</td>\n",
       "      <td>427</td>\n",
       "      <td>None</td>\n",
       "      <td>None</td>\n",
       "    </tr>\n",
       "    <tr>\n",
       "      <th>9</th>\n",
       "      <td>Ginospizza</td>\n",
       "      <td>455</td>\n",
       "      <td>None</td>\n",
       "      <td>None</td>\n",
       "    </tr>\n",
       "    <tr>\n",
       "      <th>10</th>\n",
       "      <td>Mammas Pizza</td>\n",
       "      <td>735</td>\n",
       "      <td>None</td>\n",
       "      <td>None</td>\n",
       "    </tr>\n",
       "    <tr>\n",
       "      <th>11</th>\n",
       "      <td>Doublepizza</td>\n",
       "      <td>791</td>\n",
       "      <td>None</td>\n",
       "      <td>None</td>\n",
       "    </tr>\n",
       "  </tbody>\n",
       "</table>\n",
       "</div>"
      ],
      "text/plain": [
       "               name  poi_list_id whitelabelid customerid\n",
       "0       Bostonpizza           71         None       None\n",
       "1        Pizzapizza          118         None       None\n",
       "2        Pizzaville          121         None       None\n",
       "3      Pizzadelight          122         None       None\n",
       "4         Pizzanova          144         None       None\n",
       "5          Pizzahut          162         None       None\n",
       "6   Neworleanspizza          180         None       None\n",
       "7          241Pizza          332         None       None\n",
       "8        Royalpizza          427         None       None\n",
       "9        Ginospizza          455         None       None\n",
       "10     Mammas Pizza          735         None       None\n",
       "11      Doublepizza          791         None       None"
      ]
     },
     "execution_count": 2,
     "metadata": {},
     "output_type": "execute_result"
    }
   ],
   "source": [
    "search_avail_poi_lists(name='pizza', case=False).reset_index(drop=True)"
   ]
  },
  {
   "cell_type": "markdown",
   "id": "living-magazine",
   "metadata": {},
   "source": [
    "We can easily recreate this using the SQL `WHERE` syntax.\n",
    "\n",
    "First, let's load all global POI lists into a SQLite data table:"
   ]
  },
  {
   "cell_type": "code",
   "execution_count": 3,
   "id": "computational-waters",
   "metadata": {},
   "outputs": [
    {
     "data": {
      "text/html": [
       "<div>\n",
       "<style scoped>\n",
       "    .dataframe tbody tr th:only-of-type {\n",
       "        vertical-align: middle;\n",
       "    }\n",
       "\n",
       "    .dataframe tbody tr th {\n",
       "        vertical-align: top;\n",
       "    }\n",
       "\n",
       "    .dataframe thead th {\n",
       "        text-align: right;\n",
       "    }\n",
       "</style>\n",
       "<table border=\"1\" class=\"dataframe\">\n",
       "  <thead>\n",
       "    <tr style=\"text-align: right;\">\n",
       "      <th></th>\n",
       "      <th>name</th>\n",
       "      <th>poi_list_id</th>\n",
       "      <th>whitelabelid</th>\n",
       "      <th>customerid</th>\n",
       "    </tr>\n",
       "  </thead>\n",
       "  <tbody>\n",
       "    <tr>\n",
       "      <th>0</th>\n",
       "      <td>Second Cup Canada</td>\n",
       "      <td>2</td>\n",
       "      <td>None</td>\n",
       "      <td>None</td>\n",
       "    </tr>\n",
       "    <tr>\n",
       "      <th>1</th>\n",
       "      <td>McDonalds</td>\n",
       "      <td>3</td>\n",
       "      <td>None</td>\n",
       "      <td>None</td>\n",
       "    </tr>\n",
       "    <tr>\n",
       "      <th>2</th>\n",
       "      <td>Tim Hortons</td>\n",
       "      <td>4</td>\n",
       "      <td>None</td>\n",
       "      <td>None</td>\n",
       "    </tr>\n",
       "    <tr>\n",
       "      <th>3</th>\n",
       "      <td>Xtracash</td>\n",
       "      <td>7</td>\n",
       "      <td>None</td>\n",
       "      <td>None</td>\n",
       "    </tr>\n",
       "    <tr>\n",
       "      <th>4</th>\n",
       "      <td>Overwaiteafoods</td>\n",
       "      <td>8</td>\n",
       "      <td>None</td>\n",
       "      <td>None</td>\n",
       "    </tr>\n",
       "    <tr>\n",
       "      <th>...</th>\n",
       "      <td>...</td>\n",
       "      <td>...</td>\n",
       "      <td>...</td>\n",
       "      <td>...</td>\n",
       "    </tr>\n",
       "    <tr>\n",
       "      <th>837</th>\n",
       "      <td>WMG - Subway</td>\n",
       "      <td>845</td>\n",
       "      <td>None</td>\n",
       "      <td>None</td>\n",
       "    </tr>\n",
       "    <tr>\n",
       "      <th>838</th>\n",
       "      <td>5Buds Cannabis</td>\n",
       "      <td>1431</td>\n",
       "      <td>None</td>\n",
       "      <td>None</td>\n",
       "    </tr>\n",
       "    <tr>\n",
       "      <th>839</th>\n",
       "      <td>BC Medi Chronic</td>\n",
       "      <td>1432</td>\n",
       "      <td>None</td>\n",
       "      <td>None</td>\n",
       "    </tr>\n",
       "    <tr>\n",
       "      <th>840</th>\n",
       "      <td>Beleave</td>\n",
       "      <td>1435</td>\n",
       "      <td>None</td>\n",
       "      <td>None</td>\n",
       "    </tr>\n",
       "    <tr>\n",
       "      <th>841</th>\n",
       "      <td>USA bookstores</td>\n",
       "      <td>3399</td>\n",
       "      <td>None</td>\n",
       "      <td>None</td>\n",
       "    </tr>\n",
       "  </tbody>\n",
       "</table>\n",
       "<p>842 rows × 4 columns</p>\n",
       "</div>"
      ],
      "text/plain": [
       "                  name  poi_list_id whitelabelid customerid\n",
       "0    Second Cup Canada            2         None       None\n",
       "1            McDonalds            3         None       None\n",
       "2          Tim Hortons            4         None       None\n",
       "3             Xtracash            7         None       None\n",
       "4      Overwaiteafoods            8         None       None\n",
       "..                 ...          ...          ...        ...\n",
       "837       WMG - Subway          845         None       None\n",
       "838     5Buds Cannabis         1431         None       None\n",
       "839    BC Medi Chronic         1432         None       None\n",
       "840            Beleave         1435         None       None\n",
       "841     USA bookstores         3399         None       None\n",
       "\n",
       "[842 rows x 4 columns]"
      ]
     },
     "execution_count": 3,
     "metadata": {},
     "output_type": "execute_result"
    }
   ],
   "source": [
    "all_lists = get_avail_poi_lists('global')\n",
    "all_lists"
   ]
  },
  {
   "cell_type": "markdown",
   "id": "congressional-heavy",
   "metadata": {},
   "source": [
    "Since SQLite is so omnipresent, Python even has this as a part of its standard built-in library:"
   ]
  },
  {
   "cell_type": "code",
   "execution_count": 4,
   "id": "saving-fashion",
   "metadata": {},
   "outputs": [],
   "source": [
    "# SQLite is so omnipresent that Python has this as a part of its standard built-in library\n",
    "import sqlite3 as sql"
   ]
  },
  {
   "cell_type": "code",
   "execution_count": 5,
   "id": "confident-pierce",
   "metadata": {},
   "outputs": [],
   "source": [
    "# write it into the DB table `poi_lists`\n",
    "with sql.connect('global_poi_lists.db') as con:\n",
    "    all_lists.to_sql('poi_lists', con=con, if_exists='replace', index=False)"
   ]
  },
  {
   "cell_type": "markdown",
   "id": "satellite-dealing",
   "metadata": {},
   "source": [
    "Now let's query the database table we populated just now with the same search condition as the recipe version does through a simple SQL query:\n",
    "\n",
    "```sql\n",
    "SELECT *\n",
    "FROM poi_lists\n",
    "WHERE name LIKE '%pizza%';\n",
    "```"
   ]
  },
  {
   "cell_type": "code",
   "execution_count": 6,
   "id": "medieval-karaoke",
   "metadata": {},
   "outputs": [
    {
     "data": {
      "text/html": [
       "<div>\n",
       "<style scoped>\n",
       "    .dataframe tbody tr th:only-of-type {\n",
       "        vertical-align: middle;\n",
       "    }\n",
       "\n",
       "    .dataframe tbody tr th {\n",
       "        vertical-align: top;\n",
       "    }\n",
       "\n",
       "    .dataframe thead th {\n",
       "        text-align: right;\n",
       "    }\n",
       "</style>\n",
       "<table border=\"1\" class=\"dataframe\">\n",
       "  <thead>\n",
       "    <tr style=\"text-align: right;\">\n",
       "      <th></th>\n",
       "      <th>name</th>\n",
       "      <th>poi_list_id</th>\n",
       "      <th>whitelabelid</th>\n",
       "      <th>customerid</th>\n",
       "    </tr>\n",
       "  </thead>\n",
       "  <tbody>\n",
       "    <tr>\n",
       "      <th>0</th>\n",
       "      <td>Bostonpizza</td>\n",
       "      <td>71</td>\n",
       "      <td>None</td>\n",
       "      <td>None</td>\n",
       "    </tr>\n",
       "    <tr>\n",
       "      <th>1</th>\n",
       "      <td>Pizzapizza</td>\n",
       "      <td>118</td>\n",
       "      <td>None</td>\n",
       "      <td>None</td>\n",
       "    </tr>\n",
       "    <tr>\n",
       "      <th>2</th>\n",
       "      <td>Pizzaville</td>\n",
       "      <td>121</td>\n",
       "      <td>None</td>\n",
       "      <td>None</td>\n",
       "    </tr>\n",
       "    <tr>\n",
       "      <th>3</th>\n",
       "      <td>Pizzadelight</td>\n",
       "      <td>122</td>\n",
       "      <td>None</td>\n",
       "      <td>None</td>\n",
       "    </tr>\n",
       "    <tr>\n",
       "      <th>4</th>\n",
       "      <td>Pizzanova</td>\n",
       "      <td>144</td>\n",
       "      <td>None</td>\n",
       "      <td>None</td>\n",
       "    </tr>\n",
       "    <tr>\n",
       "      <th>5</th>\n",
       "      <td>Pizzahut</td>\n",
       "      <td>162</td>\n",
       "      <td>None</td>\n",
       "      <td>None</td>\n",
       "    </tr>\n",
       "    <tr>\n",
       "      <th>6</th>\n",
       "      <td>Neworleanspizza</td>\n",
       "      <td>180</td>\n",
       "      <td>None</td>\n",
       "      <td>None</td>\n",
       "    </tr>\n",
       "    <tr>\n",
       "      <th>7</th>\n",
       "      <td>241Pizza</td>\n",
       "      <td>332</td>\n",
       "      <td>None</td>\n",
       "      <td>None</td>\n",
       "    </tr>\n",
       "    <tr>\n",
       "      <th>8</th>\n",
       "      <td>Royalpizza</td>\n",
       "      <td>427</td>\n",
       "      <td>None</td>\n",
       "      <td>None</td>\n",
       "    </tr>\n",
       "    <tr>\n",
       "      <th>9</th>\n",
       "      <td>Ginospizza</td>\n",
       "      <td>455</td>\n",
       "      <td>None</td>\n",
       "      <td>None</td>\n",
       "    </tr>\n",
       "    <tr>\n",
       "      <th>10</th>\n",
       "      <td>Mammas Pizza</td>\n",
       "      <td>735</td>\n",
       "      <td>None</td>\n",
       "      <td>None</td>\n",
       "    </tr>\n",
       "    <tr>\n",
       "      <th>11</th>\n",
       "      <td>Doublepizza</td>\n",
       "      <td>791</td>\n",
       "      <td>None</td>\n",
       "      <td>None</td>\n",
       "    </tr>\n",
       "  </tbody>\n",
       "</table>\n",
       "</div>"
      ],
      "text/plain": [
       "               name  poi_list_id whitelabelid customerid\n",
       "0       Bostonpizza           71         None       None\n",
       "1        Pizzapizza          118         None       None\n",
       "2        Pizzaville          121         None       None\n",
       "3      Pizzadelight          122         None       None\n",
       "4         Pizzanova          144         None       None\n",
       "5          Pizzahut          162         None       None\n",
       "6   Neworleanspizza          180         None       None\n",
       "7          241Pizza          332         None       None\n",
       "8        Royalpizza          427         None       None\n",
       "9        Ginospizza          455         None       None\n",
       "10     Mammas Pizza          735         None       None\n",
       "11      Doublepizza          791         None       None"
      ]
     },
     "execution_count": 6,
     "metadata": {},
     "output_type": "execute_result"
    }
   ],
   "source": [
    "import pandas as pd\n",
    "\n",
    "with sql.connect('global_poi_lists.db') as con:\n",
    "    # read it out\n",
    "    pizzas_db = pd.read_sql(\n",
    "        sql='''\n",
    "            SELECT *\n",
    "            FROM poi_lists\n",
    "            WHERE name LIKE '%pizza%';\n",
    "        ''',\n",
    "        con=con,\n",
    "    )\n",
    "\n",
    "pizzas_db"
   ]
  },
  {
   "cell_type": "markdown",
   "id": "addressed-cloud",
   "metadata": {},
   "source": [
    "## Aggregation\n",
    "\n",
    "For `DataFrame`s that carry the same columns, we can simply append them all into the same table.\n",
    "\n",
    "For instance, we can populate a `pois` table with all POIs that has a name related to \"pizza\":"
   ]
  },
  {
   "cell_type": "code",
   "execution_count": 7,
   "id": "informational-argentina",
   "metadata": {},
   "outputs": [],
   "source": [
    "import locussdk as locus\n",
    "\n",
    "# load POIs into a DB\n",
    "with sql.connect('global_poi_lists.db') as con:\n",
    "    pizza_ids = pd.read_sql(\n",
    "        sql='''\n",
    "            SELECT poi_list_id\n",
    "            FROM poi_lists\n",
    "            WHERE name LIKE '%pizza%';\n",
    "        ''',\n",
    "        con=con,\n",
    "    ).poi_list_id\n",
    "\n",
    "    for list_id in pizza_ids:\n",
    "        locus.get_pois(list_id).to_sql(\n",
    "            'pois',\n",
    "            if_exists='append',\n",
    "            con=con,\n",
    "            index=False,\n",
    "        )"
   ]
  },
  {
   "cell_type": "markdown",
   "id": "intelligent-lecture",
   "metadata": {},
   "source": [
    "Quick verifications using a filter on all `region = ON`:"
   ]
  },
  {
   "cell_type": "code",
   "execution_count": 8,
   "id": "inappropriate-cancellation",
   "metadata": {},
   "outputs": [
    {
     "data": {
      "text/html": [
       "<div>\n",
       "<style scoped>\n",
       "    .dataframe tbody tr th:only-of-type {\n",
       "        vertical-align: middle;\n",
       "    }\n",
       "\n",
       "    .dataframe tbody tr th {\n",
       "        vertical-align: top;\n",
       "    }\n",
       "\n",
       "    .dataframe thead th {\n",
       "        text-align: right;\n",
       "    }\n",
       "</style>\n",
       "<table border=\"1\" class=\"dataframe\">\n",
       "  <thead>\n",
       "    <tr style=\"text-align: right;\">\n",
       "      <th></th>\n",
       "      <th>id</th>\n",
       "      <th>name</th>\n",
       "      <th>city</th>\n",
       "      <th>region</th>\n",
       "      <th>postalCode</th>\n",
       "      <th>country</th>\n",
       "      <th>addressLabel</th>\n",
       "      <th>lat</th>\n",
       "      <th>lon</th>\n",
       "      <th>coords</th>\n",
       "      <th>chainId</th>\n",
       "    </tr>\n",
       "  </thead>\n",
       "  <tbody>\n",
       "    <tr>\n",
       "      <th>0</th>\n",
       "      <td>32943</td>\n",
       "      <td>Bostonpizza - Conroy</td>\n",
       "      <td>Ottawa</td>\n",
       "      <td>ON</td>\n",
       "      <td>K1G 6C1</td>\n",
       "      <td>CA</td>\n",
       "      <td>2980 Conroy Road,Ottawa,ON,K1G 6C1, Canada</td>\n",
       "      <td>45.382767</td>\n",
       "      <td>-75.630243</td>\n",
       "      <td>45.3827671, -75.6302429</td>\n",
       "      <td>70</td>\n",
       "    </tr>\n",
       "    <tr>\n",
       "      <th>1</th>\n",
       "      <td>32944</td>\n",
       "      <td>Bostonpizza - St Laurent</td>\n",
       "      <td>Ottawa</td>\n",
       "      <td>ON</td>\n",
       "      <td>K1K 3B1</td>\n",
       "      <td>CA</td>\n",
       "      <td>1055 St. Laurent Blvd.,Ottawa,ON,K1K 3B1, Canada</td>\n",
       "      <td>45.427042</td>\n",
       "      <td>-75.638414</td>\n",
       "      <td>45.4270421, -75.638414</td>\n",
       "      <td>70</td>\n",
       "    </tr>\n",
       "    <tr>\n",
       "      <th>2</th>\n",
       "      <td>32945</td>\n",
       "      <td>Bostonpizza - Orleans</td>\n",
       "      <td>Orleans</td>\n",
       "      <td>ON</td>\n",
       "      <td>K1W 1K9</td>\n",
       "      <td>CA</td>\n",
       "      <td>3884 Innes Road,Orleans,ON,K1W 1K9, Canada</td>\n",
       "      <td>45.453038</td>\n",
       "      <td>-75.510222</td>\n",
       "      <td>45.4530377, -75.5102222</td>\n",
       "      <td>70</td>\n",
       "    </tr>\n",
       "    <tr>\n",
       "      <th>3</th>\n",
       "      <td>32946</td>\n",
       "      <td>Bostonpizza - Carling</td>\n",
       "      <td>Ottawa</td>\n",
       "      <td>ON</td>\n",
       "      <td>K2A 1C5</td>\n",
       "      <td>CA</td>\n",
       "      <td>1640 Carling Avenue,Ottawa,ON,K2A 1C5, Canada</td>\n",
       "      <td>45.379562</td>\n",
       "      <td>-75.748339</td>\n",
       "      <td>45.3795624, -75.7483389</td>\n",
       "      <td>70</td>\n",
       "    </tr>\n",
       "    <tr>\n",
       "      <th>4</th>\n",
       "      <td>32947</td>\n",
       "      <td>Bostonpizza - Hunt Club</td>\n",
       "      <td>Nepean</td>\n",
       "      <td>ON</td>\n",
       "      <td>K2G 5W5</td>\n",
       "      <td>CA</td>\n",
       "      <td>521 West Hunt Club Road,Nepean,ON,K2G 5W5, Canada</td>\n",
       "      <td>45.334702</td>\n",
       "      <td>-75.725216</td>\n",
       "      <td>45.3347017, -75.7252156</td>\n",
       "      <td>70</td>\n",
       "    </tr>\n",
       "    <tr>\n",
       "      <th>...</th>\n",
       "      <td>...</td>\n",
       "      <td>...</td>\n",
       "      <td>...</td>\n",
       "      <td>...</td>\n",
       "      <td>...</td>\n",
       "      <td>...</td>\n",
       "      <td>...</td>\n",
       "      <td>...</td>\n",
       "      <td>...</td>\n",
       "      <td>...</td>\n",
       "      <td>...</td>\n",
       "    </tr>\n",
       "    <tr>\n",
       "      <th>992</th>\n",
       "      <td>109512</td>\n",
       "      <td>Mammaspizza</td>\n",
       "      <td>Toronto</td>\n",
       "      <td>ON</td>\n",
       "      <td>M5C 1W4</td>\n",
       "      <td>CA</td>\n",
       "      <td>127 Yonge St,Toronto,ON,M5C 1W4, Canada</td>\n",
       "      <td>43.650915</td>\n",
       "      <td>-79.378494</td>\n",
       "      <td>43.6509148, -79.3784936</td>\n",
       "      <td>734</td>\n",
       "    </tr>\n",
       "    <tr>\n",
       "      <th>993</th>\n",
       "      <td>109513</td>\n",
       "      <td>Mammaspizza</td>\n",
       "      <td>Toronto</td>\n",
       "      <td>ON</td>\n",
       "      <td>M5J 2N5</td>\n",
       "      <td>CA</td>\n",
       "      <td>249 Queens Quay W,Toronto,ON,M5J 2N5, Canada</td>\n",
       "      <td>43.638775</td>\n",
       "      <td>-79.386187</td>\n",
       "      <td>43.6387748, -79.3861871</td>\n",
       "      <td>734</td>\n",
       "    </tr>\n",
       "    <tr>\n",
       "      <th>994</th>\n",
       "      <td>109514</td>\n",
       "      <td>Mammaspizza</td>\n",
       "      <td>Toronto</td>\n",
       "      <td>ON</td>\n",
       "      <td>M5V 1X3</td>\n",
       "      <td>CA</td>\n",
       "      <td>405 Richmond Street West,Toronto,ON,M5V 1X3, C...</td>\n",
       "      <td>43.647775</td>\n",
       "      <td>-79.395362</td>\n",
       "      <td>43.6477754, -79.395362</td>\n",
       "      <td>734</td>\n",
       "    </tr>\n",
       "    <tr>\n",
       "      <th>995</th>\n",
       "      <td>109515</td>\n",
       "      <td>Mammaspizza</td>\n",
       "      <td>Toronto</td>\n",
       "      <td>ON</td>\n",
       "      <td>M6C 2C5</td>\n",
       "      <td>CA</td>\n",
       "      <td>944 Eglinton W,Toronto,ON,M6C 2C5, Canada</td>\n",
       "      <td>43.700560</td>\n",
       "      <td>-79.428610</td>\n",
       "      <td>43.7005602, -79.4286096</td>\n",
       "      <td>734</td>\n",
       "    </tr>\n",
       "    <tr>\n",
       "      <th>996</th>\n",
       "      <td>109516</td>\n",
       "      <td>Mammaspizza</td>\n",
       "      <td>Toronto</td>\n",
       "      <td>ON</td>\n",
       "      <td>M9A 1B7</td>\n",
       "      <td>CA</td>\n",
       "      <td>4986 Dundas Street West,Toronto,ON,M9A 1B7, Ca...</td>\n",
       "      <td>43.647164</td>\n",
       "      <td>-79.530482</td>\n",
       "      <td>43.647164, -79.5304816</td>\n",
       "      <td>734</td>\n",
       "    </tr>\n",
       "  </tbody>\n",
       "</table>\n",
       "<p>997 rows × 11 columns</p>\n",
       "</div>"
      ],
      "text/plain": [
       "         id                      name     city region postalCode country  \\\n",
       "0     32943      Bostonpizza - Conroy   Ottawa     ON    K1G 6C1      CA   \n",
       "1     32944  Bostonpizza - St Laurent   Ottawa     ON    K1K 3B1      CA   \n",
       "2     32945     Bostonpizza - Orleans  Orleans     ON    K1W 1K9      CA   \n",
       "3     32946     Bostonpizza - Carling   Ottawa     ON    K2A 1C5      CA   \n",
       "4     32947   Bostonpizza - Hunt Club   Nepean     ON    K2G 5W5      CA   \n",
       "..      ...                       ...      ...    ...        ...     ...   \n",
       "992  109512               Mammaspizza  Toronto     ON    M5C 1W4      CA   \n",
       "993  109513               Mammaspizza  Toronto     ON    M5J 2N5      CA   \n",
       "994  109514               Mammaspizza  Toronto     ON    M5V 1X3      CA   \n",
       "995  109515               Mammaspizza  Toronto     ON    M6C 2C5      CA   \n",
       "996  109516               Mammaspizza  Toronto     ON    M9A 1B7      CA   \n",
       "\n",
       "                                          addressLabel        lat        lon  \\\n",
       "0           2980 Conroy Road,Ottawa,ON,K1G 6C1, Canada  45.382767 -75.630243   \n",
       "1     1055 St. Laurent Blvd.,Ottawa,ON,K1K 3B1, Canada  45.427042 -75.638414   \n",
       "2           3884 Innes Road,Orleans,ON,K1W 1K9, Canada  45.453038 -75.510222   \n",
       "3        1640 Carling Avenue,Ottawa,ON,K2A 1C5, Canada  45.379562 -75.748339   \n",
       "4    521 West Hunt Club Road,Nepean,ON,K2G 5W5, Canada  45.334702 -75.725216   \n",
       "..                                                 ...        ...        ...   \n",
       "992            127 Yonge St,Toronto,ON,M5C 1W4, Canada  43.650915 -79.378494   \n",
       "993       249 Queens Quay W,Toronto,ON,M5J 2N5, Canada  43.638775 -79.386187   \n",
       "994  405 Richmond Street West,Toronto,ON,M5V 1X3, C...  43.647775 -79.395362   \n",
       "995          944 Eglinton W,Toronto,ON,M6C 2C5, Canada  43.700560 -79.428610   \n",
       "996  4986 Dundas Street West,Toronto,ON,M9A 1B7, Ca...  43.647164 -79.530482   \n",
       "\n",
       "                      coords  chainId  \n",
       "0    45.3827671, -75.6302429       70  \n",
       "1     45.4270421, -75.638414       70  \n",
       "2    45.4530377, -75.5102222       70  \n",
       "3    45.3795624, -75.7483389       70  \n",
       "4    45.3347017, -75.7252156       70  \n",
       "..                       ...      ...  \n",
       "992  43.6509148, -79.3784936      734  \n",
       "993  43.6387748, -79.3861871      734  \n",
       "994   43.6477754, -79.395362      734  \n",
       "995  43.7005602, -79.4286096      734  \n",
       "996   43.647164, -79.5304816      734  \n",
       "\n",
       "[997 rows x 11 columns]"
      ]
     },
     "execution_count": 8,
     "metadata": {},
     "output_type": "execute_result"
    }
   ],
   "source": [
    "# filter by region == 'ON', like in 09\n",
    "with sql.connect('global_poi_lists.db') as con:\n",
    "    pizzas_on = pd.read_sql(\n",
    "        sql='''\n",
    "            SELECT *\n",
    "            FROM pois\n",
    "            WHERE region = 'ON';\n",
    "        ''',\n",
    "        con=con,\n",
    "    )\n",
    "\n",
    "pizzas_on"
   ]
  },
  {
   "cell_type": "markdown",
   "id": "subject-discussion",
   "metadata": {},
   "source": [
    "Or see a total count of POIs:"
   ]
  },
  {
   "cell_type": "code",
   "execution_count": 9,
   "id": "macro-grenada",
   "metadata": {},
   "outputs": [
    {
     "name": "stdout",
     "output_type": "stream",
     "text": [
      "1602\n"
     ]
    }
   ],
   "source": [
    "with sql.connect('global_poi_lists.db') as con:\n",
    "    print(con.execute('SELECT COUNT(*) FROM pois;').fetchone()[0])"
   ]
  },
  {
   "cell_type": "markdown",
   "id": "colored-occupation",
   "metadata": {},
   "source": [
    "We can also aggregate the sum of shops through `GROUP BY`:"
   ]
  },
  {
   "cell_type": "code",
   "execution_count": 10,
   "id": "better-cuisine",
   "metadata": {},
   "outputs": [],
   "source": [
    "# get some aggregated stats using SQL\n",
    "with sql.connect('global_poi_lists.db') as con:\n",
    "    # number of shops by chain and by city + region\n",
    "    by_city_chain = pd.read_sql(\n",
    "        sql='''\n",
    "            SELECT chainid, city, region, name, count(*) AS shops\n",
    "            FROM pois\n",
    "            GROUP BY chainid, city, region;\n",
    "        ''',\n",
    "        con=con,\n",
    "    )\n",
    "    # by chain and region\n",
    "    by_region_chain = pd.read_sql(\n",
    "        sql='''\n",
    "            SELECT chainid, region, name, count(*) AS shops\n",
    "            FROM pois\n",
    "            GROUP BY chainid, region;\n",
    "        ''',\n",
    "        con=con,\n",
    "    )\n",
    "    # by chain\n",
    "    by_chain = pd.read_sql(\n",
    "        sql='''\n",
    "            SELECT chainid, name, count(*) AS shops\n",
    "            FROM pois\n",
    "            GROUP BY chainid;\n",
    "        ''',\n",
    "        con=con,\n",
    "    )"
   ]
  },
  {
   "cell_type": "code",
   "execution_count": 11,
   "id": "canadian-gabriel",
   "metadata": {},
   "outputs": [
    {
     "data": {
      "text/html": [
       "<div>\n",
       "<style scoped>\n",
       "    .dataframe tbody tr th:only-of-type {\n",
       "        vertical-align: middle;\n",
       "    }\n",
       "\n",
       "    .dataframe tbody tr th {\n",
       "        vertical-align: top;\n",
       "    }\n",
       "\n",
       "    .dataframe thead th {\n",
       "        text-align: right;\n",
       "    }\n",
       "</style>\n",
       "<table border=\"1\" class=\"dataframe\">\n",
       "  <thead>\n",
       "    <tr style=\"text-align: right;\">\n",
       "      <th></th>\n",
       "      <th>chainId</th>\n",
       "      <th>city</th>\n",
       "      <th>region</th>\n",
       "      <th>name</th>\n",
       "      <th>shops</th>\n",
       "    </tr>\n",
       "  </thead>\n",
       "  <tbody>\n",
       "    <tr>\n",
       "      <th>0</th>\n",
       "      <td>70</td>\n",
       "      <td>Abbotsford</td>\n",
       "      <td>BC</td>\n",
       "      <td>Bostonpizza - Abbotsford</td>\n",
       "      <td>2</td>\n",
       "    </tr>\n",
       "    <tr>\n",
       "      <th>1</th>\n",
       "      <td>70</td>\n",
       "      <td>Airdrie</td>\n",
       "      <td>AB</td>\n",
       "      <td>Bostonpizza - Airdrie</td>\n",
       "      <td>1</td>\n",
       "    </tr>\n",
       "    <tr>\n",
       "      <th>2</th>\n",
       "      <td>70</td>\n",
       "      <td>Ajax</td>\n",
       "      <td>ON</td>\n",
       "      <td>Bostonpizza - Ajax</td>\n",
       "      <td>1</td>\n",
       "    </tr>\n",
       "    <tr>\n",
       "      <th>3</th>\n",
       "      <td>70</td>\n",
       "      <td>Aldergrove</td>\n",
       "      <td>BC</td>\n",
       "      <td>Bostonpizza - Aldergrove</td>\n",
       "      <td>1</td>\n",
       "    </tr>\n",
       "    <tr>\n",
       "      <th>4</th>\n",
       "      <td>70</td>\n",
       "      <td>Alliston</td>\n",
       "      <td>ON</td>\n",
       "      <td>Bostonpizza - Alliston</td>\n",
       "      <td>1</td>\n",
       "    </tr>\n",
       "    <tr>\n",
       "      <th>...</th>\n",
       "      <td>...</td>\n",
       "      <td>...</td>\n",
       "      <td>...</td>\n",
       "      <td>...</td>\n",
       "      <td>...</td>\n",
       "    </tr>\n",
       "    <tr>\n",
       "      <th>836</th>\n",
       "      <td>790</td>\n",
       "      <td>Longueuil</td>\n",
       "      <td>QC</td>\n",
       "      <td>Doublepizza</td>\n",
       "      <td>1</td>\n",
       "    </tr>\n",
       "    <tr>\n",
       "      <th>837</th>\n",
       "      <td>790</td>\n",
       "      <td>Montreal</td>\n",
       "      <td>QC</td>\n",
       "      <td>Doublepizza</td>\n",
       "      <td>18</td>\n",
       "    </tr>\n",
       "    <tr>\n",
       "      <th>838</th>\n",
       "      <td>790</td>\n",
       "      <td>R.D.P</td>\n",
       "      <td>QC</td>\n",
       "      <td>Doublepizza</td>\n",
       "      <td>1</td>\n",
       "    </tr>\n",
       "    <tr>\n",
       "      <th>839</th>\n",
       "      <td>790</td>\n",
       "      <td>Saint-Eustache</td>\n",
       "      <td>QC</td>\n",
       "      <td>Doublepizza</td>\n",
       "      <td>1</td>\n",
       "    </tr>\n",
       "    <tr>\n",
       "      <th>840</th>\n",
       "      <td>790</td>\n",
       "      <td>Saint-Hubert</td>\n",
       "      <td>QC</td>\n",
       "      <td>Doublepizza</td>\n",
       "      <td>1</td>\n",
       "    </tr>\n",
       "  </tbody>\n",
       "</table>\n",
       "<p>841 rows × 5 columns</p>\n",
       "</div>"
      ],
      "text/plain": [
       "     chainId            city region                      name  shops\n",
       "0         70      Abbotsford     BC  Bostonpizza - Abbotsford      2\n",
       "1         70         Airdrie     AB     Bostonpizza - Airdrie      1\n",
       "2         70            Ajax     ON        Bostonpizza - Ajax      1\n",
       "3         70      Aldergrove     BC  Bostonpizza - Aldergrove      1\n",
       "4         70        Alliston     ON    Bostonpizza - Alliston      1\n",
       "..       ...             ...    ...                       ...    ...\n",
       "836      790       Longueuil     QC               Doublepizza      1\n",
       "837      790        Montreal     QC               Doublepizza     18\n",
       "838      790           R.D.P     QC               Doublepizza      1\n",
       "839      790  Saint-Eustache     QC               Doublepizza      1\n",
       "840      790    Saint-Hubert     QC               Doublepizza      1\n",
       "\n",
       "[841 rows x 5 columns]"
      ]
     },
     "execution_count": 11,
     "metadata": {},
     "output_type": "execute_result"
    }
   ],
   "source": [
    "by_city_chain"
   ]
  },
  {
   "cell_type": "markdown",
   "id": "young-campaign",
   "metadata": {},
   "source": [
    "Looks like \"Bostonpizza\" cases come with a range of varieties, and if we want to normalize it to its uniform brand name, SQLite lacks a simple way to do it. Fortunately, this is where we can use `DataFrame`'s string manipulation interface to solve it:"
   ]
  },
  {
   "cell_type": "code",
   "execution_count": 12,
   "id": "powered-generator",
   "metadata": {},
   "outputs": [
    {
     "data": {
      "text/html": [
       "<div>\n",
       "<style scoped>\n",
       "    .dataframe tbody tr th:only-of-type {\n",
       "        vertical-align: middle;\n",
       "    }\n",
       "\n",
       "    .dataframe tbody tr th {\n",
       "        vertical-align: top;\n",
       "    }\n",
       "\n",
       "    .dataframe thead th {\n",
       "        text-align: right;\n",
       "    }\n",
       "</style>\n",
       "<table border=\"1\" class=\"dataframe\">\n",
       "  <thead>\n",
       "    <tr style=\"text-align: right;\">\n",
       "      <th></th>\n",
       "      <th>chainId</th>\n",
       "      <th>city</th>\n",
       "      <th>region</th>\n",
       "      <th>name</th>\n",
       "      <th>shops</th>\n",
       "    </tr>\n",
       "  </thead>\n",
       "  <tbody>\n",
       "    <tr>\n",
       "      <th>0</th>\n",
       "      <td>70</td>\n",
       "      <td>Abbotsford</td>\n",
       "      <td>BC</td>\n",
       "      <td>Bostonpizza</td>\n",
       "      <td>2</td>\n",
       "    </tr>\n",
       "    <tr>\n",
       "      <th>1</th>\n",
       "      <td>70</td>\n",
       "      <td>Airdrie</td>\n",
       "      <td>AB</td>\n",
       "      <td>Bostonpizza</td>\n",
       "      <td>1</td>\n",
       "    </tr>\n",
       "    <tr>\n",
       "      <th>2</th>\n",
       "      <td>70</td>\n",
       "      <td>Ajax</td>\n",
       "      <td>ON</td>\n",
       "      <td>Bostonpizza</td>\n",
       "      <td>1</td>\n",
       "    </tr>\n",
       "    <tr>\n",
       "      <th>3</th>\n",
       "      <td>70</td>\n",
       "      <td>Aldergrove</td>\n",
       "      <td>BC</td>\n",
       "      <td>Bostonpizza</td>\n",
       "      <td>1</td>\n",
       "    </tr>\n",
       "    <tr>\n",
       "      <th>4</th>\n",
       "      <td>70</td>\n",
       "      <td>Alliston</td>\n",
       "      <td>ON</td>\n",
       "      <td>Bostonpizza</td>\n",
       "      <td>1</td>\n",
       "    </tr>\n",
       "    <tr>\n",
       "      <th>...</th>\n",
       "      <td>...</td>\n",
       "      <td>...</td>\n",
       "      <td>...</td>\n",
       "      <td>...</td>\n",
       "      <td>...</td>\n",
       "    </tr>\n",
       "    <tr>\n",
       "      <th>836</th>\n",
       "      <td>790</td>\n",
       "      <td>Longueuil</td>\n",
       "      <td>QC</td>\n",
       "      <td>Doublepizza</td>\n",
       "      <td>1</td>\n",
       "    </tr>\n",
       "    <tr>\n",
       "      <th>837</th>\n",
       "      <td>790</td>\n",
       "      <td>Montreal</td>\n",
       "      <td>QC</td>\n",
       "      <td>Doublepizza</td>\n",
       "      <td>18</td>\n",
       "    </tr>\n",
       "    <tr>\n",
       "      <th>838</th>\n",
       "      <td>790</td>\n",
       "      <td>R.D.P</td>\n",
       "      <td>QC</td>\n",
       "      <td>Doublepizza</td>\n",
       "      <td>1</td>\n",
       "    </tr>\n",
       "    <tr>\n",
       "      <th>839</th>\n",
       "      <td>790</td>\n",
       "      <td>Saint-Eustache</td>\n",
       "      <td>QC</td>\n",
       "      <td>Doublepizza</td>\n",
       "      <td>1</td>\n",
       "    </tr>\n",
       "    <tr>\n",
       "      <th>840</th>\n",
       "      <td>790</td>\n",
       "      <td>Saint-Hubert</td>\n",
       "      <td>QC</td>\n",
       "      <td>Doublepizza</td>\n",
       "      <td>1</td>\n",
       "    </tr>\n",
       "  </tbody>\n",
       "</table>\n",
       "<p>841 rows × 5 columns</p>\n",
       "</div>"
      ],
      "text/plain": [
       "     chainId            city region         name  shops\n",
       "0         70      Abbotsford     BC  Bostonpizza      2\n",
       "1         70         Airdrie     AB  Bostonpizza      1\n",
       "2         70            Ajax     ON  Bostonpizza      1\n",
       "3         70      Aldergrove     BC  Bostonpizza      1\n",
       "4         70        Alliston     ON  Bostonpizza      1\n",
       "..       ...             ...    ...          ...    ...\n",
       "836      790       Longueuil     QC  Doublepizza      1\n",
       "837      790        Montreal     QC  Doublepizza     18\n",
       "838      790           R.D.P     QC  Doublepizza      1\n",
       "839      790  Saint-Eustache     QC  Doublepizza      1\n",
       "840      790    Saint-Hubert     QC  Doublepizza      1\n",
       "\n",
       "[841 rows x 5 columns]"
      ]
     },
     "execution_count": 12,
     "metadata": {},
     "output_type": "execute_result"
    }
   ],
   "source": [
    "# some extra manipulation\n",
    "by_city_chain['name'] = by_city_chain['name'].str.replace(' - .*', '')\n",
    "by_city_chain"
   ]
  },
  {
   "cell_type": "code",
   "execution_count": 13,
   "id": "assured-folks",
   "metadata": {},
   "outputs": [
    {
     "data": {
      "text/html": [
       "<div>\n",
       "<style scoped>\n",
       "    .dataframe tbody tr th:only-of-type {\n",
       "        vertical-align: middle;\n",
       "    }\n",
       "\n",
       "    .dataframe tbody tr th {\n",
       "        vertical-align: top;\n",
       "    }\n",
       "\n",
       "    .dataframe thead th {\n",
       "        text-align: right;\n",
       "    }\n",
       "</style>\n",
       "<table border=\"1\" class=\"dataframe\">\n",
       "  <thead>\n",
       "    <tr style=\"text-align: right;\">\n",
       "      <th></th>\n",
       "      <th>chainId</th>\n",
       "      <th>region</th>\n",
       "      <th>name</th>\n",
       "      <th>shops</th>\n",
       "    </tr>\n",
       "  </thead>\n",
       "  <tbody>\n",
       "    <tr>\n",
       "      <th>0</th>\n",
       "      <td>70</td>\n",
       "      <td>AB</td>\n",
       "      <td>Bostonpizza</td>\n",
       "      <td>106</td>\n",
       "    </tr>\n",
       "    <tr>\n",
       "      <th>1</th>\n",
       "      <td>70</td>\n",
       "      <td>BC</td>\n",
       "      <td>Bostonpizza</td>\n",
       "      <td>60</td>\n",
       "    </tr>\n",
       "    <tr>\n",
       "      <th>2</th>\n",
       "      <td>70</td>\n",
       "      <td>MB</td>\n",
       "      <td>Bostonpizza</td>\n",
       "      <td>18</td>\n",
       "    </tr>\n",
       "    <tr>\n",
       "      <th>3</th>\n",
       "      <td>70</td>\n",
       "      <td>NB</td>\n",
       "      <td>Bostonpizza</td>\n",
       "      <td>5</td>\n",
       "    </tr>\n",
       "    <tr>\n",
       "      <th>4</th>\n",
       "      <td>70</td>\n",
       "      <td>NL</td>\n",
       "      <td>Bostonpizza</td>\n",
       "      <td>3</td>\n",
       "    </tr>\n",
       "    <tr>\n",
       "      <th>5</th>\n",
       "      <td>70</td>\n",
       "      <td>NS</td>\n",
       "      <td>Bostonpizza</td>\n",
       "      <td>11</td>\n",
       "    </tr>\n",
       "    <tr>\n",
       "      <th>6</th>\n",
       "      <td>70</td>\n",
       "      <td>NT</td>\n",
       "      <td>Bostonpizza</td>\n",
       "      <td>1</td>\n",
       "    </tr>\n",
       "    <tr>\n",
       "      <th>7</th>\n",
       "      <td>70</td>\n",
       "      <td>ON</td>\n",
       "      <td>Bostonpizza</td>\n",
       "      <td>116</td>\n",
       "    </tr>\n",
       "    <tr>\n",
       "      <th>8</th>\n",
       "      <td>70</td>\n",
       "      <td>PE</td>\n",
       "      <td>Bostonpizza</td>\n",
       "      <td>1</td>\n",
       "    </tr>\n",
       "    <tr>\n",
       "      <th>9</th>\n",
       "      <td>70</td>\n",
       "      <td>QC</td>\n",
       "      <td>Bostonpizza</td>\n",
       "      <td>28</td>\n",
       "    </tr>\n",
       "    <tr>\n",
       "      <th>10</th>\n",
       "      <td>70</td>\n",
       "      <td>SK</td>\n",
       "      <td>Bostonpizza</td>\n",
       "      <td>22</td>\n",
       "    </tr>\n",
       "    <tr>\n",
       "      <th>11</th>\n",
       "      <td>70</td>\n",
       "      <td>YT</td>\n",
       "      <td>Bostonpizza</td>\n",
       "      <td>1</td>\n",
       "    </tr>\n",
       "    <tr>\n",
       "      <th>12</th>\n",
       "      <td>117</td>\n",
       "      <td>MB</td>\n",
       "      <td>Pizzapizza</td>\n",
       "      <td>9</td>\n",
       "    </tr>\n",
       "    <tr>\n",
       "      <th>13</th>\n",
       "      <td>117</td>\n",
       "      <td>NS</td>\n",
       "      <td>Pizzapizza</td>\n",
       "      <td>3</td>\n",
       "    </tr>\n",
       "    <tr>\n",
       "      <th>14</th>\n",
       "      <td>117</td>\n",
       "      <td>ON</td>\n",
       "      <td>Pizzapizza</td>\n",
       "      <td>347</td>\n",
       "    </tr>\n",
       "    <tr>\n",
       "      <th>15</th>\n",
       "      <td>117</td>\n",
       "      <td>QC</td>\n",
       "      <td>Pizzapizza</td>\n",
       "      <td>27</td>\n",
       "    </tr>\n",
       "    <tr>\n",
       "      <th>16</th>\n",
       "      <td>117</td>\n",
       "      <td>SK</td>\n",
       "      <td>Pizzapizza</td>\n",
       "      <td>3</td>\n",
       "    </tr>\n",
       "    <tr>\n",
       "      <th>17</th>\n",
       "      <td>120</td>\n",
       "      <td>ON</td>\n",
       "      <td>Pizzaville</td>\n",
       "      <td>69</td>\n",
       "    </tr>\n",
       "    <tr>\n",
       "      <th>18</th>\n",
       "      <td>121</td>\n",
       "      <td>NB</td>\n",
       "      <td>Pizzadelight</td>\n",
       "      <td>35</td>\n",
       "    </tr>\n",
       "    <tr>\n",
       "      <th>19</th>\n",
       "      <td>121</td>\n",
       "      <td>NL</td>\n",
       "      <td>Pizzadelight</td>\n",
       "      <td>15</td>\n",
       "    </tr>\n",
       "    <tr>\n",
       "      <th>20</th>\n",
       "      <td>121</td>\n",
       "      <td>NS</td>\n",
       "      <td>Pizzadelight</td>\n",
       "      <td>12</td>\n",
       "    </tr>\n",
       "    <tr>\n",
       "      <th>21</th>\n",
       "      <td>121</td>\n",
       "      <td>ON</td>\n",
       "      <td>Pizzadelight</td>\n",
       "      <td>9</td>\n",
       "    </tr>\n",
       "    <tr>\n",
       "      <th>22</th>\n",
       "      <td>121</td>\n",
       "      <td>PE</td>\n",
       "      <td>Pizzadelight</td>\n",
       "      <td>6</td>\n",
       "    </tr>\n",
       "    <tr>\n",
       "      <th>23</th>\n",
       "      <td>143</td>\n",
       "      <td>ON</td>\n",
       "      <td>Pizzanova</td>\n",
       "      <td>128</td>\n",
       "    </tr>\n",
       "    <tr>\n",
       "      <th>24</th>\n",
       "      <td>161</td>\n",
       "      <td>AB</td>\n",
       "      <td>Pizzahut</td>\n",
       "      <td>68</td>\n",
       "    </tr>\n",
       "    <tr>\n",
       "      <th>25</th>\n",
       "      <td>161</td>\n",
       "      <td>BC</td>\n",
       "      <td>Pizzahut</td>\n",
       "      <td>63</td>\n",
       "    </tr>\n",
       "    <tr>\n",
       "      <th>26</th>\n",
       "      <td>161</td>\n",
       "      <td>MB</td>\n",
       "      <td>Pizzahut</td>\n",
       "      <td>12</td>\n",
       "    </tr>\n",
       "    <tr>\n",
       "      <th>27</th>\n",
       "      <td>161</td>\n",
       "      <td>NB</td>\n",
       "      <td>Pizzahut</td>\n",
       "      <td>5</td>\n",
       "    </tr>\n",
       "    <tr>\n",
       "      <th>28</th>\n",
       "      <td>161</td>\n",
       "      <td>NL</td>\n",
       "      <td>Pizzahut</td>\n",
       "      <td>2</td>\n",
       "    </tr>\n",
       "    <tr>\n",
       "      <th>29</th>\n",
       "      <td>161</td>\n",
       "      <td>NS</td>\n",
       "      <td>Pizzahut</td>\n",
       "      <td>5</td>\n",
       "    </tr>\n",
       "    <tr>\n",
       "      <th>30</th>\n",
       "      <td>161</td>\n",
       "      <td>NT</td>\n",
       "      <td>Pizzahut</td>\n",
       "      <td>1</td>\n",
       "    </tr>\n",
       "    <tr>\n",
       "      <th>31</th>\n",
       "      <td>161</td>\n",
       "      <td>ON</td>\n",
       "      <td>Pizzahut</td>\n",
       "      <td>134</td>\n",
       "    </tr>\n",
       "    <tr>\n",
       "      <th>32</th>\n",
       "      <td>161</td>\n",
       "      <td>QC</td>\n",
       "      <td>Pizzahut</td>\n",
       "      <td>21</td>\n",
       "    </tr>\n",
       "    <tr>\n",
       "      <th>33</th>\n",
       "      <td>161</td>\n",
       "      <td>SK</td>\n",
       "      <td>Pizzahut</td>\n",
       "      <td>17</td>\n",
       "    </tr>\n",
       "    <tr>\n",
       "      <th>34</th>\n",
       "      <td>161</td>\n",
       "      <td>YT</td>\n",
       "      <td>Pizzahut</td>\n",
       "      <td>1</td>\n",
       "    </tr>\n",
       "    <tr>\n",
       "      <th>35</th>\n",
       "      <td>179</td>\n",
       "      <td>ON</td>\n",
       "      <td>Neworleanspizza</td>\n",
       "      <td>39</td>\n",
       "    </tr>\n",
       "    <tr>\n",
       "      <th>36</th>\n",
       "      <td>331</td>\n",
       "      <td>BC</td>\n",
       "      <td>241Pizza</td>\n",
       "      <td>2</td>\n",
       "    </tr>\n",
       "    <tr>\n",
       "      <th>37</th>\n",
       "      <td>331</td>\n",
       "      <td>MB</td>\n",
       "      <td>241Pizza</td>\n",
       "      <td>2</td>\n",
       "    </tr>\n",
       "    <tr>\n",
       "      <th>38</th>\n",
       "      <td>331</td>\n",
       "      <td>ON</td>\n",
       "      <td>241Pizza</td>\n",
       "      <td>59</td>\n",
       "    </tr>\n",
       "    <tr>\n",
       "      <th>39</th>\n",
       "      <td>331</td>\n",
       "      <td>SK</td>\n",
       "      <td>241Pizza</td>\n",
       "      <td>7</td>\n",
       "    </tr>\n",
       "    <tr>\n",
       "      <th>40</th>\n",
       "      <td>426</td>\n",
       "      <td>AB</td>\n",
       "      <td>Royalpizza</td>\n",
       "      <td>7</td>\n",
       "    </tr>\n",
       "    <tr>\n",
       "      <th>41</th>\n",
       "      <td>454</td>\n",
       "      <td>ON</td>\n",
       "      <td>Ginospizza</td>\n",
       "      <td>80</td>\n",
       "    </tr>\n",
       "    <tr>\n",
       "      <th>42</th>\n",
       "      <td>734</td>\n",
       "      <td>ON</td>\n",
       "      <td>Mammaspizza</td>\n",
       "      <td>16</td>\n",
       "    </tr>\n",
       "    <tr>\n",
       "      <th>43</th>\n",
       "      <td>790</td>\n",
       "      <td>QC</td>\n",
       "      <td>Doublepizza</td>\n",
       "      <td>26</td>\n",
       "    </tr>\n",
       "  </tbody>\n",
       "</table>\n",
       "</div>"
      ],
      "text/plain": [
       "    chainId region             name  shops\n",
       "0        70     AB      Bostonpizza    106\n",
       "1        70     BC      Bostonpizza     60\n",
       "2        70     MB      Bostonpizza     18\n",
       "3        70     NB      Bostonpizza      5\n",
       "4        70     NL      Bostonpizza      3\n",
       "5        70     NS      Bostonpizza     11\n",
       "6        70     NT      Bostonpizza      1\n",
       "7        70     ON      Bostonpizza    116\n",
       "8        70     PE      Bostonpizza      1\n",
       "9        70     QC      Bostonpizza     28\n",
       "10       70     SK      Bostonpizza     22\n",
       "11       70     YT      Bostonpizza      1\n",
       "12      117     MB       Pizzapizza      9\n",
       "13      117     NS       Pizzapizza      3\n",
       "14      117     ON       Pizzapizza    347\n",
       "15      117     QC       Pizzapizza     27\n",
       "16      117     SK       Pizzapizza      3\n",
       "17      120     ON       Pizzaville     69\n",
       "18      121     NB     Pizzadelight     35\n",
       "19      121     NL     Pizzadelight     15\n",
       "20      121     NS     Pizzadelight     12\n",
       "21      121     ON     Pizzadelight      9\n",
       "22      121     PE     Pizzadelight      6\n",
       "23      143     ON        Pizzanova    128\n",
       "24      161     AB         Pizzahut     68\n",
       "25      161     BC         Pizzahut     63\n",
       "26      161     MB         Pizzahut     12\n",
       "27      161     NB         Pizzahut      5\n",
       "28      161     NL         Pizzahut      2\n",
       "29      161     NS         Pizzahut      5\n",
       "30      161     NT         Pizzahut      1\n",
       "31      161     ON         Pizzahut    134\n",
       "32      161     QC         Pizzahut     21\n",
       "33      161     SK         Pizzahut     17\n",
       "34      161     YT         Pizzahut      1\n",
       "35      179     ON  Neworleanspizza     39\n",
       "36      331     BC         241Pizza      2\n",
       "37      331     MB         241Pizza      2\n",
       "38      331     ON         241Pizza     59\n",
       "39      331     SK         241Pizza      7\n",
       "40      426     AB       Royalpizza      7\n",
       "41      454     ON       Ginospizza     80\n",
       "42      734     ON      Mammaspizza     16\n",
       "43      790     QC      Doublepizza     26"
      ]
     },
     "execution_count": 13,
     "metadata": {},
     "output_type": "execute_result"
    }
   ],
   "source": [
    "by_region_chain['name'] = by_region_chain['name'].str.replace(' - .*', '')\n",
    "by_region_chain"
   ]
  },
  {
   "cell_type": "code",
   "execution_count": 14,
   "id": "sorted-patrick",
   "metadata": {},
   "outputs": [
    {
     "data": {
      "text/html": [
       "<div>\n",
       "<style scoped>\n",
       "    .dataframe tbody tr th:only-of-type {\n",
       "        vertical-align: middle;\n",
       "    }\n",
       "\n",
       "    .dataframe tbody tr th {\n",
       "        vertical-align: top;\n",
       "    }\n",
       "\n",
       "    .dataframe thead th {\n",
       "        text-align: right;\n",
       "    }\n",
       "</style>\n",
       "<table border=\"1\" class=\"dataframe\">\n",
       "  <thead>\n",
       "    <tr style=\"text-align: right;\">\n",
       "      <th></th>\n",
       "      <th>chainId</th>\n",
       "      <th>name</th>\n",
       "      <th>shops</th>\n",
       "    </tr>\n",
       "  </thead>\n",
       "  <tbody>\n",
       "    <tr>\n",
       "      <th>0</th>\n",
       "      <td>70</td>\n",
       "      <td>Bostonpizza</td>\n",
       "      <td>372</td>\n",
       "    </tr>\n",
       "    <tr>\n",
       "      <th>1</th>\n",
       "      <td>117</td>\n",
       "      <td>Pizzapizza</td>\n",
       "      <td>389</td>\n",
       "    </tr>\n",
       "    <tr>\n",
       "      <th>2</th>\n",
       "      <td>120</td>\n",
       "      <td>Pizzaville</td>\n",
       "      <td>69</td>\n",
       "    </tr>\n",
       "    <tr>\n",
       "      <th>3</th>\n",
       "      <td>121</td>\n",
       "      <td>Pizzadelight</td>\n",
       "      <td>77</td>\n",
       "    </tr>\n",
       "    <tr>\n",
       "      <th>4</th>\n",
       "      <td>143</td>\n",
       "      <td>Pizzanova</td>\n",
       "      <td>128</td>\n",
       "    </tr>\n",
       "    <tr>\n",
       "      <th>5</th>\n",
       "      <td>161</td>\n",
       "      <td>Pizzahut</td>\n",
       "      <td>329</td>\n",
       "    </tr>\n",
       "    <tr>\n",
       "      <th>6</th>\n",
       "      <td>179</td>\n",
       "      <td>Neworleanspizza</td>\n",
       "      <td>39</td>\n",
       "    </tr>\n",
       "    <tr>\n",
       "      <th>7</th>\n",
       "      <td>331</td>\n",
       "      <td>241Pizza</td>\n",
       "      <td>70</td>\n",
       "    </tr>\n",
       "    <tr>\n",
       "      <th>8</th>\n",
       "      <td>426</td>\n",
       "      <td>Royalpizza</td>\n",
       "      <td>7</td>\n",
       "    </tr>\n",
       "    <tr>\n",
       "      <th>9</th>\n",
       "      <td>454</td>\n",
       "      <td>Ginospizza</td>\n",
       "      <td>80</td>\n",
       "    </tr>\n",
       "    <tr>\n",
       "      <th>10</th>\n",
       "      <td>734</td>\n",
       "      <td>Mammaspizza</td>\n",
       "      <td>16</td>\n",
       "    </tr>\n",
       "    <tr>\n",
       "      <th>11</th>\n",
       "      <td>790</td>\n",
       "      <td>Doublepizza</td>\n",
       "      <td>26</td>\n",
       "    </tr>\n",
       "  </tbody>\n",
       "</table>\n",
       "</div>"
      ],
      "text/plain": [
       "    chainId             name  shops\n",
       "0        70      Bostonpizza    372\n",
       "1       117       Pizzapizza    389\n",
       "2       120       Pizzaville     69\n",
       "3       121     Pizzadelight     77\n",
       "4       143        Pizzanova    128\n",
       "5       161         Pizzahut    329\n",
       "6       179  Neworleanspizza     39\n",
       "7       331         241Pizza     70\n",
       "8       426       Royalpizza      7\n",
       "9       454       Ginospizza     80\n",
       "10      734      Mammaspizza     16\n",
       "11      790      Doublepizza     26"
      ]
     },
     "execution_count": 14,
     "metadata": {},
     "output_type": "execute_result"
    }
   ],
   "source": [
    "by_chain['name'] = by_chain['name'].str.replace(' - .*', '')\n",
    "by_chain"
   ]
  },
  {
   "cell_type": "code",
   "execution_count": 16,
   "id": "arranged-trash",
   "metadata": {},
   "outputs": [
    {
     "data": {
      "application/vnd.plotly.v1+json": {
       "config": {
        "plotlyServerURL": "https://plot.ly"
       },
       "data": [
        {
         "domain": {
          "x": [
           0,
           1
          ],
          "y": [
           0,
           1
          ]
         },
         "hovertemplate": "name=%{label}<br>shops=%{value}<extra></extra>",
         "labels": [
          "Bostonpizza",
          "Pizzapizza",
          "Pizzaville",
          "Pizzadelight",
          "Pizzanova",
          "Pizzahut",
          "Neworleanspizza",
          "241Pizza",
          "Royalpizza",
          "Ginospizza",
          "Mammaspizza",
          "Doublepizza"
         ],
         "legendgroup": "",
         "name": "",
         "showlegend": true,
         "type": "pie",
         "values": [
          372,
          389,
          69,
          77,
          128,
          329,
          39,
          70,
          7,
          80,
          16,
          26
         ]
        }
       ],
       "layout": {
        "autosize": true,
        "legend": {
         "tracegroupgap": 0
        },
        "margin": {
         "t": 60
        },
        "template": {
         "data": {
          "bar": [
           {
            "error_x": {
             "color": "#2a3f5f"
            },
            "error_y": {
             "color": "#2a3f5f"
            },
            "marker": {
             "line": {
              "color": "#E5ECF6",
              "width": 0.5
             }
            },
            "type": "bar"
           }
          ],
          "barpolar": [
           {
            "marker": {
             "line": {
              "color": "#E5ECF6",
              "width": 0.5
             }
            },
            "type": "barpolar"
           }
          ],
          "carpet": [
           {
            "aaxis": {
             "endlinecolor": "#2a3f5f",
             "gridcolor": "white",
             "linecolor": "white",
             "minorgridcolor": "white",
             "startlinecolor": "#2a3f5f"
            },
            "baxis": {
             "endlinecolor": "#2a3f5f",
             "gridcolor": "white",
             "linecolor": "white",
             "minorgridcolor": "white",
             "startlinecolor": "#2a3f5f"
            },
            "type": "carpet"
           }
          ],
          "choropleth": [
           {
            "colorbar": {
             "outlinewidth": 0,
             "ticks": ""
            },
            "type": "choropleth"
           }
          ],
          "contour": [
           {
            "colorbar": {
             "outlinewidth": 0,
             "ticks": ""
            },
            "colorscale": [
             [
              0,
              "#0d0887"
             ],
             [
              0.1111111111111111,
              "#46039f"
             ],
             [
              0.2222222222222222,
              "#7201a8"
             ],
             [
              0.3333333333333333,
              "#9c179e"
             ],
             [
              0.4444444444444444,
              "#bd3786"
             ],
             [
              0.5555555555555556,
              "#d8576b"
             ],
             [
              0.6666666666666666,
              "#ed7953"
             ],
             [
              0.7777777777777778,
              "#fb9f3a"
             ],
             [
              0.8888888888888888,
              "#fdca26"
             ],
             [
              1,
              "#f0f921"
             ]
            ],
            "type": "contour"
           }
          ],
          "contourcarpet": [
           {
            "colorbar": {
             "outlinewidth": 0,
             "ticks": ""
            },
            "type": "contourcarpet"
           }
          ],
          "heatmap": [
           {
            "colorbar": {
             "outlinewidth": 0,
             "ticks": ""
            },
            "colorscale": [
             [
              0,
              "#0d0887"
             ],
             [
              0.1111111111111111,
              "#46039f"
             ],
             [
              0.2222222222222222,
              "#7201a8"
             ],
             [
              0.3333333333333333,
              "#9c179e"
             ],
             [
              0.4444444444444444,
              "#bd3786"
             ],
             [
              0.5555555555555556,
              "#d8576b"
             ],
             [
              0.6666666666666666,
              "#ed7953"
             ],
             [
              0.7777777777777778,
              "#fb9f3a"
             ],
             [
              0.8888888888888888,
              "#fdca26"
             ],
             [
              1,
              "#f0f921"
             ]
            ],
            "type": "heatmap"
           }
          ],
          "heatmapgl": [
           {
            "colorbar": {
             "outlinewidth": 0,
             "ticks": ""
            },
            "colorscale": [
             [
              0,
              "#0d0887"
             ],
             [
              0.1111111111111111,
              "#46039f"
             ],
             [
              0.2222222222222222,
              "#7201a8"
             ],
             [
              0.3333333333333333,
              "#9c179e"
             ],
             [
              0.4444444444444444,
              "#bd3786"
             ],
             [
              0.5555555555555556,
              "#d8576b"
             ],
             [
              0.6666666666666666,
              "#ed7953"
             ],
             [
              0.7777777777777778,
              "#fb9f3a"
             ],
             [
              0.8888888888888888,
              "#fdca26"
             ],
             [
              1,
              "#f0f921"
             ]
            ],
            "type": "heatmapgl"
           }
          ],
          "histogram": [
           {
            "marker": {
             "colorbar": {
              "outlinewidth": 0,
              "ticks": ""
             }
            },
            "type": "histogram"
           }
          ],
          "histogram2d": [
           {
            "colorbar": {
             "outlinewidth": 0,
             "ticks": ""
            },
            "colorscale": [
             [
              0,
              "#0d0887"
             ],
             [
              0.1111111111111111,
              "#46039f"
             ],
             [
              0.2222222222222222,
              "#7201a8"
             ],
             [
              0.3333333333333333,
              "#9c179e"
             ],
             [
              0.4444444444444444,
              "#bd3786"
             ],
             [
              0.5555555555555556,
              "#d8576b"
             ],
             [
              0.6666666666666666,
              "#ed7953"
             ],
             [
              0.7777777777777778,
              "#fb9f3a"
             ],
             [
              0.8888888888888888,
              "#fdca26"
             ],
             [
              1,
              "#f0f921"
             ]
            ],
            "type": "histogram2d"
           }
          ],
          "histogram2dcontour": [
           {
            "colorbar": {
             "outlinewidth": 0,
             "ticks": ""
            },
            "colorscale": [
             [
              0,
              "#0d0887"
             ],
             [
              0.1111111111111111,
              "#46039f"
             ],
             [
              0.2222222222222222,
              "#7201a8"
             ],
             [
              0.3333333333333333,
              "#9c179e"
             ],
             [
              0.4444444444444444,
              "#bd3786"
             ],
             [
              0.5555555555555556,
              "#d8576b"
             ],
             [
              0.6666666666666666,
              "#ed7953"
             ],
             [
              0.7777777777777778,
              "#fb9f3a"
             ],
             [
              0.8888888888888888,
              "#fdca26"
             ],
             [
              1,
              "#f0f921"
             ]
            ],
            "type": "histogram2dcontour"
           }
          ],
          "mesh3d": [
           {
            "colorbar": {
             "outlinewidth": 0,
             "ticks": ""
            },
            "type": "mesh3d"
           }
          ],
          "parcoords": [
           {
            "line": {
             "colorbar": {
              "outlinewidth": 0,
              "ticks": ""
             }
            },
            "type": "parcoords"
           }
          ],
          "pie": [
           {
            "automargin": true,
            "type": "pie"
           }
          ],
          "scatter": [
           {
            "marker": {
             "colorbar": {
              "outlinewidth": 0,
              "ticks": ""
             }
            },
            "type": "scatter"
           }
          ],
          "scatter3d": [
           {
            "line": {
             "colorbar": {
              "outlinewidth": 0,
              "ticks": ""
             }
            },
            "marker": {
             "colorbar": {
              "outlinewidth": 0,
              "ticks": ""
             }
            },
            "type": "scatter3d"
           }
          ],
          "scattercarpet": [
           {
            "marker": {
             "colorbar": {
              "outlinewidth": 0,
              "ticks": ""
             }
            },
            "type": "scattercarpet"
           }
          ],
          "scattergeo": [
           {
            "marker": {
             "colorbar": {
              "outlinewidth": 0,
              "ticks": ""
             }
            },
            "type": "scattergeo"
           }
          ],
          "scattergl": [
           {
            "marker": {
             "colorbar": {
              "outlinewidth": 0,
              "ticks": ""
             }
            },
            "type": "scattergl"
           }
          ],
          "scattermapbox": [
           {
            "marker": {
             "colorbar": {
              "outlinewidth": 0,
              "ticks": ""
             }
            },
            "type": "scattermapbox"
           }
          ],
          "scatterpolar": [
           {
            "marker": {
             "colorbar": {
              "outlinewidth": 0,
              "ticks": ""
             }
            },
            "type": "scatterpolar"
           }
          ],
          "scatterpolargl": [
           {
            "marker": {
             "colorbar": {
              "outlinewidth": 0,
              "ticks": ""
             }
            },
            "type": "scatterpolargl"
           }
          ],
          "scatterternary": [
           {
            "marker": {
             "colorbar": {
              "outlinewidth": 0,
              "ticks": ""
             }
            },
            "type": "scatterternary"
           }
          ],
          "surface": [
           {
            "colorbar": {
             "outlinewidth": 0,
             "ticks": ""
            },
            "colorscale": [
             [
              0,
              "#0d0887"
             ],
             [
              0.1111111111111111,
              "#46039f"
             ],
             [
              0.2222222222222222,
              "#7201a8"
             ],
             [
              0.3333333333333333,
              "#9c179e"
             ],
             [
              0.4444444444444444,
              "#bd3786"
             ],
             [
              0.5555555555555556,
              "#d8576b"
             ],
             [
              0.6666666666666666,
              "#ed7953"
             ],
             [
              0.7777777777777778,
              "#fb9f3a"
             ],
             [
              0.8888888888888888,
              "#fdca26"
             ],
             [
              1,
              "#f0f921"
             ]
            ],
            "type": "surface"
           }
          ],
          "table": [
           {
            "cells": {
             "fill": {
              "color": "#EBF0F8"
             },
             "line": {
              "color": "white"
             }
            },
            "header": {
             "fill": {
              "color": "#C8D4E3"
             },
             "line": {
              "color": "white"
             }
            },
            "type": "table"
           }
          ]
         },
         "layout": {
          "annotationdefaults": {
           "arrowcolor": "#2a3f5f",
           "arrowhead": 0,
           "arrowwidth": 1
          },
          "autotypenumbers": "strict",
          "coloraxis": {
           "colorbar": {
            "outlinewidth": 0,
            "ticks": ""
           }
          },
          "colorscale": {
           "diverging": [
            [
             0,
             "#8e0152"
            ],
            [
             0.1,
             "#c51b7d"
            ],
            [
             0.2,
             "#de77ae"
            ],
            [
             0.3,
             "#f1b6da"
            ],
            [
             0.4,
             "#fde0ef"
            ],
            [
             0.5,
             "#f7f7f7"
            ],
            [
             0.6,
             "#e6f5d0"
            ],
            [
             0.7,
             "#b8e186"
            ],
            [
             0.8,
             "#7fbc41"
            ],
            [
             0.9,
             "#4d9221"
            ],
            [
             1,
             "#276419"
            ]
           ],
           "sequential": [
            [
             0,
             "#0d0887"
            ],
            [
             0.1111111111111111,
             "#46039f"
            ],
            [
             0.2222222222222222,
             "#7201a8"
            ],
            [
             0.3333333333333333,
             "#9c179e"
            ],
            [
             0.4444444444444444,
             "#bd3786"
            ],
            [
             0.5555555555555556,
             "#d8576b"
            ],
            [
             0.6666666666666666,
             "#ed7953"
            ],
            [
             0.7777777777777778,
             "#fb9f3a"
            ],
            [
             0.8888888888888888,
             "#fdca26"
            ],
            [
             1,
             "#f0f921"
            ]
           ],
           "sequentialminus": [
            [
             0,
             "#0d0887"
            ],
            [
             0.1111111111111111,
             "#46039f"
            ],
            [
             0.2222222222222222,
             "#7201a8"
            ],
            [
             0.3333333333333333,
             "#9c179e"
            ],
            [
             0.4444444444444444,
             "#bd3786"
            ],
            [
             0.5555555555555556,
             "#d8576b"
            ],
            [
             0.6666666666666666,
             "#ed7953"
            ],
            [
             0.7777777777777778,
             "#fb9f3a"
            ],
            [
             0.8888888888888888,
             "#fdca26"
            ],
            [
             1,
             "#f0f921"
            ]
           ]
          },
          "colorway": [
           "#636efa",
           "#EF553B",
           "#00cc96",
           "#ab63fa",
           "#FFA15A",
           "#19d3f3",
           "#FF6692",
           "#B6E880",
           "#FF97FF",
           "#FECB52"
          ],
          "font": {
           "color": "#2a3f5f"
          },
          "geo": {
           "bgcolor": "white",
           "lakecolor": "white",
           "landcolor": "#E5ECF6",
           "showlakes": true,
           "showland": true,
           "subunitcolor": "white"
          },
          "hoverlabel": {
           "align": "left"
          },
          "hovermode": "closest",
          "mapbox": {
           "style": "light"
          },
          "paper_bgcolor": "white",
          "plot_bgcolor": "#E5ECF6",
          "polar": {
           "angularaxis": {
            "gridcolor": "white",
            "linecolor": "white",
            "ticks": ""
           },
           "bgcolor": "#E5ECF6",
           "radialaxis": {
            "gridcolor": "white",
            "linecolor": "white",
            "ticks": ""
           }
          },
          "scene": {
           "xaxis": {
            "backgroundcolor": "#E5ECF6",
            "gridcolor": "white",
            "gridwidth": 2,
            "linecolor": "white",
            "showbackground": true,
            "ticks": "",
            "zerolinecolor": "white"
           },
           "yaxis": {
            "backgroundcolor": "#E5ECF6",
            "gridcolor": "white",
            "gridwidth": 2,
            "linecolor": "white",
            "showbackground": true,
            "ticks": "",
            "zerolinecolor": "white"
           },
           "zaxis": {
            "backgroundcolor": "#E5ECF6",
            "gridcolor": "white",
            "gridwidth": 2,
            "linecolor": "white",
            "showbackground": true,
            "ticks": "",
            "zerolinecolor": "white"
           }
          },
          "shapedefaults": {
           "line": {
            "color": "#2a3f5f"
           }
          },
          "ternary": {
           "aaxis": {
            "gridcolor": "white",
            "linecolor": "white",
            "ticks": ""
           },
           "baxis": {
            "gridcolor": "white",
            "linecolor": "white",
            "ticks": ""
           },
           "bgcolor": "#E5ECF6",
           "caxis": {
            "gridcolor": "white",
            "linecolor": "white",
            "ticks": ""
           }
          },
          "title": {
           "x": 0.05
          },
          "xaxis": {
           "automargin": true,
           "gridcolor": "white",
           "linecolor": "white",
           "ticks": "",
           "title": {
            "standoff": 15
           },
           "zerolinecolor": "white",
           "zerolinewidth": 2
          },
          "yaxis": {
           "automargin": true,
           "gridcolor": "white",
           "linecolor": "white",
           "ticks": "",
           "title": {
            "standoff": 15
           },
           "zerolinecolor": "white",
           "zerolinewidth": 2
          }
         }
        }
       }
      },
      "image/png": "[encoded data removed]",
      "text/html": [
       "<div>                            <div id=\"1f55081f-97d7-47c2-8303-59d1b5bd091e\" class=\"plotly-graph-div\" style=\"height:525px; width:100%;\"></div>            <script type=\"text/javascript\">                require([\"plotly\"], function(Plotly) {                    window.PLOTLYENV=window.PLOTLYENV || {};                                    if (document.getElementById(\"1f55081f-97d7-47c2-8303-59d1b5bd091e\")) {                    Plotly.newPlot(                        \"1f55081f-97d7-47c2-8303-59d1b5bd091e\",                        [{\"domain\": {\"x\": [0.0, 1.0], \"y\": [0.0, 1.0]}, \"hovertemplate\": \"name=%{label}<br>shops=%{value}<extra></extra>\", \"labels\": [\"Bostonpizza\", \"Pizzapizza\", \"Pizzaville\", \"Pizzadelight\", \"Pizzanova\", \"Pizzahut\", \"Neworleanspizza\", \"241Pizza\", \"Royalpizza\", \"Ginospizza\", \"Mammaspizza\", \"Doublepizza\"], \"legendgroup\": \"\", \"name\": \"\", \"showlegend\": true, \"type\": \"pie\", \"values\": [372, 389, 69, 77, 128, 329, 39, 70, 7, 80, 16, 26]}],                        {\"legend\": {\"tracegroupgap\": 0}, \"margin\": {\"t\": 60}, \"template\": {\"data\": {\"bar\": [{\"error_x\": {\"color\": \"#2a3f5f\"}, \"error_y\": {\"color\": \"#2a3f5f\"}, \"marker\": {\"line\": {\"color\": \"#E5ECF6\", \"width\": 0.5}}, \"type\": \"bar\"}], \"barpolar\": [{\"marker\": {\"line\": {\"color\": \"#E5ECF6\", \"width\": 0.5}}, \"type\": \"barpolar\"}], \"carpet\": [{\"aaxis\": {\"endlinecolor\": \"#2a3f5f\", \"gridcolor\": \"white\", \"linecolor\": \"white\", \"minorgridcolor\": \"white\", \"startlinecolor\": \"#2a3f5f\"}, \"baxis\": {\"endlinecolor\": \"#2a3f5f\", \"gridcolor\": \"white\", \"linecolor\": \"white\", \"minorgridcolor\": \"white\", \"startlinecolor\": \"#2a3f5f\"}, \"type\": \"carpet\"}], \"choropleth\": [{\"colorbar\": {\"outlinewidth\": 0, \"ticks\": \"\"}, \"type\": \"choropleth\"}], \"contour\": [{\"colorbar\": {\"outlinewidth\": 0, \"ticks\": \"\"}, \"colorscale\": [[0.0, \"#0d0887\"], [0.1111111111111111, \"#46039f\"], [0.2222222222222222, \"#7201a8\"], [0.3333333333333333, \"#9c179e\"], [0.4444444444444444, \"#bd3786\"], [0.5555555555555556, \"#d8576b\"], [0.6666666666666666, \"#ed7953\"], [0.7777777777777778, \"#fb9f3a\"], [0.8888888888888888, \"#fdca26\"], [1.0, \"#f0f921\"]], \"type\": \"contour\"}], \"contourcarpet\": [{\"colorbar\": {\"outlinewidth\": 0, \"ticks\": \"\"}, \"type\": \"contourcarpet\"}], \"heatmap\": [{\"colorbar\": {\"outlinewidth\": 0, \"ticks\": \"\"}, \"colorscale\": [[0.0, \"#0d0887\"], [0.1111111111111111, \"#46039f\"], [0.2222222222222222, \"#7201a8\"], [0.3333333333333333, \"#9c179e\"], [0.4444444444444444, \"#bd3786\"], [0.5555555555555556, \"#d8576b\"], [0.6666666666666666, \"#ed7953\"], [0.7777777777777778, \"#fb9f3a\"], [0.8888888888888888, \"#fdca26\"], [1.0, \"#f0f921\"]], \"type\": \"heatmap\"}], \"heatmapgl\": [{\"colorbar\": {\"outlinewidth\": 0, \"ticks\": \"\"}, \"colorscale\": [[0.0, \"#0d0887\"], [0.1111111111111111, \"#46039f\"], [0.2222222222222222, \"#7201a8\"], [0.3333333333333333, \"#9c179e\"], [0.4444444444444444, \"#bd3786\"], [0.5555555555555556, \"#d8576b\"], [0.6666666666666666, \"#ed7953\"], [0.7777777777777778, \"#fb9f3a\"], [0.8888888888888888, \"#fdca26\"], [1.0, \"#f0f921\"]], \"type\": \"heatmapgl\"}], \"histogram\": [{\"marker\": {\"colorbar\": {\"outlinewidth\": 0, \"ticks\": \"\"}}, \"type\": \"histogram\"}], \"histogram2d\": [{\"colorbar\": {\"outlinewidth\": 0, \"ticks\": \"\"}, \"colorscale\": [[0.0, \"#0d0887\"], [0.1111111111111111, \"#46039f\"], [0.2222222222222222, \"#7201a8\"], [0.3333333333333333, \"#9c179e\"], [0.4444444444444444, \"#bd3786\"], [0.5555555555555556, \"#d8576b\"], [0.6666666666666666, \"#ed7953\"], [0.7777777777777778, \"#fb9f3a\"], [0.8888888888888888, \"#fdca26\"], [1.0, \"#f0f921\"]], \"type\": \"histogram2d\"}], \"histogram2dcontour\": [{\"colorbar\": {\"outlinewidth\": 0, \"ticks\": \"\"}, \"colorscale\": [[0.0, \"#0d0887\"], [0.1111111111111111, \"#46039f\"], [0.2222222222222222, \"#7201a8\"], [0.3333333333333333, \"#9c179e\"], [0.4444444444444444, \"#bd3786\"], [0.5555555555555556, \"#d8576b\"], [0.6666666666666666, \"#ed7953\"], [0.7777777777777778, \"#fb9f3a\"], [0.8888888888888888, \"#fdca26\"], [1.0, \"#f0f921\"]], \"type\": \"histogram2dcontour\"}], \"mesh3d\": [{\"colorbar\": {\"outlinewidth\": 0, \"ticks\": \"\"}, \"type\": \"mesh3d\"}], \"parcoords\": [{\"line\": {\"colorbar\": {\"outlinewidth\": 0, \"ticks\": \"\"}}, \"type\": \"parcoords\"}], \"pie\": [{\"automargin\": true, \"type\": \"pie\"}], \"scatter\": [{\"marker\": {\"colorbar\": {\"outlinewidth\": 0, \"ticks\": \"\"}}, \"type\": \"scatter\"}], \"scatter3d\": [{\"line\": {\"colorbar\": {\"outlinewidth\": 0, \"ticks\": \"\"}}, \"marker\": {\"colorbar\": {\"outlinewidth\": 0, \"ticks\": \"\"}}, \"type\": \"scatter3d\"}], \"scattercarpet\": [{\"marker\": {\"colorbar\": {\"outlinewidth\": 0, \"ticks\": \"\"}}, \"type\": \"scattercarpet\"}], \"scattergeo\": [{\"marker\": {\"colorbar\": {\"outlinewidth\": 0, \"ticks\": \"\"}}, \"type\": \"scattergeo\"}], \"scattergl\": [{\"marker\": {\"colorbar\": {\"outlinewidth\": 0, \"ticks\": \"\"}}, \"type\": \"scattergl\"}], \"scattermapbox\": [{\"marker\": {\"colorbar\": {\"outlinewidth\": 0, \"ticks\": \"\"}}, \"type\": \"scattermapbox\"}], \"scatterpolar\": [{\"marker\": {\"colorbar\": {\"outlinewidth\": 0, \"ticks\": \"\"}}, \"type\": \"scatterpolar\"}], \"scatterpolargl\": [{\"marker\": {\"colorbar\": {\"outlinewidth\": 0, \"ticks\": \"\"}}, \"type\": \"scatterpolargl\"}], \"scatterternary\": [{\"marker\": {\"colorbar\": {\"outlinewidth\": 0, \"ticks\": \"\"}}, \"type\": \"scatterternary\"}], \"surface\": [{\"colorbar\": {\"outlinewidth\": 0, \"ticks\": \"\"}, \"colorscale\": [[0.0, \"#0d0887\"], [0.1111111111111111, \"#46039f\"], [0.2222222222222222, \"#7201a8\"], [0.3333333333333333, \"#9c179e\"], [0.4444444444444444, \"#bd3786\"], [0.5555555555555556, \"#d8576b\"], [0.6666666666666666, \"#ed7953\"], [0.7777777777777778, \"#fb9f3a\"], [0.8888888888888888, \"#fdca26\"], [1.0, \"#f0f921\"]], \"type\": \"surface\"}], \"table\": [{\"cells\": {\"fill\": {\"color\": \"#EBF0F8\"}, \"line\": {\"color\": \"white\"}}, \"header\": {\"fill\": {\"color\": \"#C8D4E3\"}, \"line\": {\"color\": \"white\"}}, \"type\": \"table\"}]}, \"layout\": {\"annotationdefaults\": {\"arrowcolor\": \"#2a3f5f\", \"arrowhead\": 0, \"arrowwidth\": 1}, \"autotypenumbers\": \"strict\", \"coloraxis\": {\"colorbar\": {\"outlinewidth\": 0, \"ticks\": \"\"}}, \"colorscale\": {\"diverging\": [[0, \"#8e0152\"], [0.1, \"#c51b7d\"], [0.2, \"#de77ae\"], [0.3, \"#f1b6da\"], [0.4, \"#fde0ef\"], [0.5, \"#f7f7f7\"], [0.6, \"#e6f5d0\"], [0.7, \"#b8e186\"], [0.8, \"#7fbc41\"], [0.9, \"#4d9221\"], [1, \"#276419\"]], \"sequential\": [[0.0, \"#0d0887\"], [0.1111111111111111, \"#46039f\"], [0.2222222222222222, \"#7201a8\"], [0.3333333333333333, \"#9c179e\"], [0.4444444444444444, \"#bd3786\"], [0.5555555555555556, \"#d8576b\"], [0.6666666666666666, \"#ed7953\"], [0.7777777777777778, \"#fb9f3a\"], [0.8888888888888888, \"#fdca26\"], [1.0, \"#f0f921\"]], \"sequentialminus\": [[0.0, \"#0d0887\"], [0.1111111111111111, \"#46039f\"], [0.2222222222222222, \"#7201a8\"], [0.3333333333333333, \"#9c179e\"], [0.4444444444444444, \"#bd3786\"], [0.5555555555555556, \"#d8576b\"], [0.6666666666666666, \"#ed7953\"], [0.7777777777777778, \"#fb9f3a\"], [0.8888888888888888, \"#fdca26\"], [1.0, \"#f0f921\"]]}, \"colorway\": [\"#636efa\", \"#EF553B\", \"#00cc96\", \"#ab63fa\", \"#FFA15A\", \"#19d3f3\", \"#FF6692\", \"#B6E880\", \"#FF97FF\", \"#FECB52\"], \"font\": {\"color\": \"#2a3f5f\"}, \"geo\": {\"bgcolor\": \"white\", \"lakecolor\": \"white\", \"landcolor\": \"#E5ECF6\", \"showlakes\": true, \"showland\": true, \"subunitcolor\": \"white\"}, \"hoverlabel\": {\"align\": \"left\"}, \"hovermode\": \"closest\", \"mapbox\": {\"style\": \"light\"}, \"paper_bgcolor\": \"white\", \"plot_bgcolor\": \"#E5ECF6\", \"polar\": {\"angularaxis\": {\"gridcolor\": \"white\", \"linecolor\": \"white\", \"ticks\": \"\"}, \"bgcolor\": \"#E5ECF6\", \"radialaxis\": {\"gridcolor\": \"white\", \"linecolor\": \"white\", \"ticks\": \"\"}}, \"scene\": {\"xaxis\": {\"backgroundcolor\": \"#E5ECF6\", \"gridcolor\": \"white\", \"gridwidth\": 2, \"linecolor\": \"white\", \"showbackground\": true, \"ticks\": \"\", \"zerolinecolor\": \"white\"}, \"yaxis\": {\"backgroundcolor\": \"#E5ECF6\", \"gridcolor\": \"white\", \"gridwidth\": 2, \"linecolor\": \"white\", \"showbackground\": true, \"ticks\": \"\", \"zerolinecolor\": \"white\"}, \"zaxis\": {\"backgroundcolor\": \"#E5ECF6\", \"gridcolor\": \"white\", \"gridwidth\": 2, \"linecolor\": \"white\", \"showbackground\": true, \"ticks\": \"\", \"zerolinecolor\": \"white\"}}, \"shapedefaults\": {\"line\": {\"color\": \"#2a3f5f\"}}, \"ternary\": {\"aaxis\": {\"gridcolor\": \"white\", \"linecolor\": \"white\", \"ticks\": \"\"}, \"baxis\": {\"gridcolor\": \"white\", \"linecolor\": \"white\", \"ticks\": \"\"}, \"bgcolor\": \"#E5ECF6\", \"caxis\": {\"gridcolor\": \"white\", \"linecolor\": \"white\", \"ticks\": \"\"}}, \"title\": {\"x\": 0.05}, \"xaxis\": {\"automargin\": true, \"gridcolor\": \"white\", \"linecolor\": \"white\", \"ticks\": \"\", \"title\": {\"standoff\": 15}, \"zerolinecolor\": \"white\", \"zerolinewidth\": 2}, \"yaxis\": {\"automargin\": true, \"gridcolor\": \"white\", \"linecolor\": \"white\", \"ticks\": \"\", \"title\": {\"standoff\": 15}, \"zerolinecolor\": \"white\", \"zerolinewidth\": 2}}}},                        {\"responsive\": true}                    ).then(function(){\n",
       "                            \n",
       "var gd = document.getElementById('1f55081f-97d7-47c2-8303-59d1b5bd091e');\n",
       "var x = new MutationObserver(function (mutations, observer) {{\n",
       "        var display = window.getComputedStyle(gd).display;\n",
       "        if (!display || display === 'none') {{\n",
       "            console.log([gd, 'removed!']);\n",
       "            Plotly.purge(gd);\n",
       "            observer.disconnect();\n",
       "        }}\n",
       "}});\n",
       "\n",
       "// Listen for the removal of the full notebook cells\n",
       "var notebookContainer = gd.closest('#notebook-container');\n",
       "if (notebookContainer) {{\n",
       "    x.observe(notebookContainer, {childList: true});\n",
       "}}\n",
       "\n",
       "// Listen for the clearing of the current output cell\n",
       "var outputEl = gd.closest('.output');\n",
       "if (outputEl) {{\n",
       "    x.observe(outputEl, {childList: true});\n",
       "}}\n",
       "\n",
       "                        })                };                });            </script>        </div>"
      ]
     },
     "metadata": {},
     "output_type": "display_data"
    }
   ],
   "source": [
    "# some quick visualization\n",
    "import plotly.express as px\n",
    "\n",
    "px.pie(by_chain, values='shops', names='name')"
   ]
  },
  {
   "cell_type": "markdown",
   "id": "objective-spanking",
   "metadata": {},
   "source": [
    "For regional/provincial pie charts, let's add some interactivity through `ipywidgets` from the [last session](10-bridging-web-ui-to-notebook.ipynb):"
   ]
  },
  {
   "cell_type": "code",
   "execution_count": 25,
   "id": "guilty-angel",
   "metadata": {},
   "outputs": [
    {
     "data": {
      "application/vnd.jupyter.widget-view+json": {
       "model_id": "8ab2d9dee01848988647b60cc1bd2473",
       "version_major": 2,
       "version_minor": 0
      },
      "text/plain": [
       "interactive(children=(ToggleButtons(description='Province', options=('AB', 'BC', 'MB', 'NB', 'NL', 'NS', 'NT',…"
      ]
     },
     "metadata": {},
     "output_type": "display_data"
    }
   ],
   "source": [
    "import ipywidgets as widgets\n",
    "\n",
    "regions = by_region_chain.region.unique().tolist()\n",
    "\n",
    "def regional_pie(index):\n",
    "    fig = px.pie(by_region_chain[by_region_chain['region'] == index], values='shops', names='name')\n",
    "\n",
    "    return fig.show()\n",
    "\n",
    "\n",
    "t = widgets.interact(\n",
    "    regional_pie,\n",
    "    index=widgets.ToggleButtons(\n",
    "        options=regions,\n",
    "        description='Province',\n",
    "    ),\n",
    ")"
   ]
  },
  {
   "cell_type": "markdown",
   "id": "religious-smith",
   "metadata": {},
   "source": [
    "## Remarks\n",
    "\n",
    "Whether it's for preference flexibility and practical measures, adding a SQL solution to our toolbelt of data analysis is never a bad idea.\n",
    "\n",
    "## References\n",
    "\n",
    "* SQLite [official website](https://sqlite.org/index.html)\n",
    "* [Python `sqlite3` module documentation](https://docs.python.org/3/library/sqlite3.html)\n",
    "* Pandas' own [comparison with SQL](https://pandas.pydata.org/pandas-docs/stable/getting_started/comparison/comparison_with_sql.html), and the documentation on its `read_sql()` and `DataFrame/Series.to_sql()` interfaces."
   ]
  }
 ],
 "metadata": {
  "kernelspec": {
   "display_name": "Python 3",
   "language": "python",
   "name": "python3"
  },
  "language_info": {
   "codemirror_mode": {
    "name": "ipython",
    "version": 3
   },
   "file_extension": ".py",
   "mimetype": "text/x-python",
   "name": "python",
   "nbconvert_exporter": "python",
   "pygments_lexer": "ipython3",
   "version": "3.8.2"
  }
 },
 "nbformat": 4,
 "nbformat_minor": 5
}
