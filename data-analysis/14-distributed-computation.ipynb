{
 "cells": [
  {
   "cell_type": "markdown",
   "id": "f12adacc-007f-40fb-a86e-37ec50ac2b6f",
   "metadata": {},
   "source": [
    "# Distributed Computation\n",
    "\n",
    "## Quick Recap - Multiprocessing vs. Multithreading\n",
    "\n",
    "Multiprocessing can utilize multiple CPU cores, thus achieving a more real sense of a parallel computation. However, multiprocessing suffers when they need to share a common memory space.\n",
    "\n",
    "On the other hand, multithreading within a process can share a common memory space, and achieve a more loose sense of a parallel computation. Multithreading is more like hyper-looping through multiple queues while waiting for each particular thread's turn; and when it is a particular thread's turn, it would acquire the Global Interpreter Lock (GIL) to hog the memory space _and_ the CPU core the entire process runs on, until it finishes its designated computation or until it hits another \"busy-waiting\" block such as some I/O action, where the loop releases the GIL and let the jump proceed (context-switch) to the next thread.\n",
    "\n",
    "### Asynchronous I/O Loops, and Multithreading's Little Brother - Coroutines\n",
    "\n",
    "Both multiprocessing and multithreading require dedicated hardware and operating system coordination. As software technologies mature, engineers started to explore capabilities within the application layer itself. The same conceptual model of multithreading (again, the hyper-looping) gets a new interpretation within programming stack (such as Python, or more appropriately the CPython runtime), giving more direct control to the program within the runtime instead of relying on the OS mechanism to switch context between threads. The term _Coroutine_, first coined in 1958, is such a materialization of the concept that can be seen as lightweight threads, and has seen its implementation in many languages including Python. Its implementation usually involves dedicated asynchronous I/O loops (or event loops) to switch between the coroutines with more direct controls than threading on when to suspend and resume each task.\n",
    "\n",
    "Both multithreading and coroutine techniques are suitable for I/O focused tasks, such as reading files from a disk, or making HTTP requests. Coroutines tend to require less computing resource overhead compared to its more OS-native sibling."
   ]
  },
  {
   "cell_type": "code",
   "execution_count": 13,
   "id": "62e3a796-c985-4659-a933-2d4dde6a1575",
   "metadata": {},
   "outputs": [],
   "source": [
    "import random\n",
    "import requests\n",
    "\n",
    "\n",
    "# 5 requests, each with delays ranging from 1-5 seconds\n",
    "reqs = [\n",
    "    f'https://httpbin.org/delay/{random.randint(1, 3)}'\n",
    "    for _ in range(10)\n",
    "]\n",
    "\n",
    "def get_sync():\n",
    "    all_data = []\n",
    "    for req in reqs:\n",
    "        res = requests.get(req)\n",
    "        all_data.append(res.json())\n",
    "\n",
    "    return all_data"
   ]
  },
  {
   "cell_type": "code",
   "execution_count": 14,
   "id": "f8483a5c-e857-41d8-8191-14e5ff96132a",
   "metadata": {},
   "outputs": [
    {
     "name": "stdout",
     "output_type": "stream",
     "text": [
      "CPU times: user 163 ms, sys: 12.9 ms, total: 176 ms\n",
      "Wall time: 23.6 s\n",
      "{'args': {}, 'data': '', 'files': {}, 'form': {}, 'headers': {'Accept': '*/*', 'Accept-Encoding': 'gzip, deflate', 'Host': 'httpbin.org', 'User-Agent': 'python-requests/2.25.1', 'X-Amzn-Trace-Id': 'Root=1-60d10ac9-550eb0d6203262b369bd3576'}, 'origin': '107.179.188.69', 'url': 'https://httpbin.org/delay/2'} 10\n"
     ]
    }
   ],
   "source": [
    "%time res = get_sync()\n",
    "print(res[-1], len(res))"
   ]
  },
  {
   "cell_type": "code",
   "execution_count": 15,
   "id": "8b010385-d4ff-4870-9e0e-4f1164dc465e",
   "metadata": {},
   "outputs": [],
   "source": [
    "import asyncio\n",
    "\n",
    "import aiohttp\n",
    "\n",
    "\n",
    "async def get(session, url):\n",
    "    res = await session.request('GET', url=url)\n",
    "    data = await res.json()\n",
    "    return data\n",
    "\n",
    "\n",
    "async def main():\n",
    "    async with aiohttp.ClientSession() as session:\n",
    "        tasks = []\n",
    "        for req in reqs:\n",
    "            tasks.append(get(session, url=req))\n",
    "\n",
    "        all_data = await asyncio.gather(*tasks, return_exceptions=True)\n",
    "        return all_data"
   ]
  },
  {
   "cell_type": "code",
   "execution_count": 16,
   "id": "9f338e2f-1951-4558-bf6d-531bd7becb2d",
   "metadata": {},
   "outputs": [
    {
     "name": "stdout",
     "output_type": "stream",
     "text": [
      "3.2 seconds\n",
      "{'args': {}, 'data': '', 'files': {}, 'form': {}, 'headers': {'Accept': '*/*', 'Accept-Encoding': 'gzip, deflate', 'Host': 'httpbin.org', 'User-Agent': 'Python/3.8 aiohttp/3.7.4.post0', 'X-Amzn-Trace-Id': 'Root=1-60d10acc-6bdccf035163f7cc14d45527'}, 'origin': '107.179.188.69', 'url': 'https://httpbin.org/delay/2'} 10\n"
     ]
    }
   ],
   "source": [
    "'''\n",
    "Two things about Jupyter Notebook environment\n",
    "1. Cannot use %time magic for async functions\n",
    "2. No explicit event loop initiation (it's already in one)\n",
    "'''\n",
    "import time\n",
    "\n",
    "# loop = asyncio.get_event_loop()\n",
    "# loop.run_until_complete(main())\n",
    "start = time.time()\n",
    "res = await main()\n",
    "print(round(time.time() - start, 1), 'seconds')\n",
    "print(res[-1], len(res))"
   ]
  },
  {
   "cell_type": "markdown",
   "id": "e866076f-3616-4e9b-8b48-2c07c6f5f627",
   "metadata": {},
   "source": [
    "Let's use the responses to verify what the delays were involved in the API calls, by using functional techniques `map()` and `reduce()` to extract delays (in seconds) and sum them up."
   ]
  },
  {
   "cell_type": "code",
   "execution_count": 17,
   "id": "920e2588-47d2-44a4-a979-2f14739fe203",
   "metadata": {},
   "outputs": [
    {
     "data": {
      "text/plain": [
       "[1, 1, 1, 2, 3, 3, 2, 3, 2, 2]"
      ]
     },
     "execution_count": 17,
     "metadata": {},
     "output_type": "execute_result"
    }
   ],
   "source": [
    "delays = [*map(lambda url: int(url.split('/')[-1]), reqs)]\n",
    "delays"
   ]
  },
  {
   "cell_type": "code",
   "execution_count": 18,
   "id": "658e2b6b-5d19-44eb-a486-b6841d3bf1f9",
   "metadata": {},
   "outputs": [
    {
     "data": {
      "text/plain": [
       "20"
      ]
     },
     "execution_count": 18,
     "metadata": {},
     "output_type": "execute_result"
    }
   ],
   "source": [
    "from functools import reduce\n",
    "\n",
    "total_delay = reduce(lambda left, right: left + right, [*delays], 0)\n",
    "total_delay"
   ]
  },
  {
   "cell_type": "markdown",
   "id": "d8ba3091-88b4-46c6-a431-09afb9da6873",
   "metadata": {},
   "source": [
    "The theoretical total delay matches our observation from the synchronous process, while the _maximum_ from individual delays matches our observation from the asynchronous process."
   ]
  },
  {
   "cell_type": "markdown",
   "id": "be12faf4-d0ea-4921-b5e1-01a864f7aa8b",
   "metadata": {},
   "source": [
    "## MapReduce - Distributing Computing Resources\n",
    "\n",
    "Recall one of the most critical disadvantages that multiprocessing - the lack of a shared memory space. This particular constraint makes attempt to perform parrallel computation across multiple cores on a single machine often less desirable. One workaround of such issue is to leverage a datastore (such as files or databases backed by harddrives) as an inter-process data pool so that multiple processes can simultaneously read and write to it, such as a local SQLite database, as demonstrated in [a previous part](./11-work-with-sql.ipynb).\n",
    "\n",
    "If we extend this problem to a larger scale, where not only the dataset we want to work with exceed the available memory space, but also impossible to efficiently store (or at all) on the disk of a single machine, then we need to revisit viable solutions.\n",
    "\n",
    "The MapReduce model is a _divide and conquer_ strategy applying and extending the functional programming concepts of `map()` and `reduce()`, where a large dataset is dissected and distributed through a mapping procedure onto a multitude of \"commodity\" server nodes to parrallize the computation of the smaller portion, then reducing the resulting subsets back to less and less nodes until the final outcome is completed.\n",
    "\n",
    "This model allows batch data processing to have near infinite capacity, and a relatively cost-effective way to speed up the process.\n",
    "\n",
    "It is worth knowing that the recent development of cheaper and faster harddrives, especially the more wide-spread adoption of SSDs (solid-state drive), plays a vital role in enabling distributed computation.\n",
    "\n",
    "The MapReduce model was first pioneered [by Google](https://research.google/pubs/pub62/) in 2004 to resolve the practical problem of exponentially growing dataset for computing their search indexes. Then many have adopted and contributed toward the technology's development and evolution through the open-source community.\n",
    "\n",
    "### Apache Spark™\n",
    "\n",
    "Apache Spark is such an open-source framework that came around 2014 (10 years after the initial MapReduce research paper) that provides an elegant and unified abstraction to enable large-scale data processing that can efficiently utilize from multiple-cores of a single machine to \"multiple-clouds\".\n",
    "\n",
    "For the sake of simplicity, we will demonstrate through its usage on a single machine. First, obtain the number of CPU cores:"
   ]
  },
  {
   "cell_type": "code",
   "execution_count": 24,
   "id": "8d2d71cc-fdac-4c6e-985f-8a7f784b37a6",
   "metadata": {},
   "outputs": [
    {
     "data": {
      "text/plain": [
       "12"
      ]
     },
     "execution_count": 24,
     "metadata": {},
     "output_type": "execute_result"
    }
   ],
   "source": [
    "import multiprocessing\n",
    "\n",
    "CORES = multiprocessing.cpu_count()\n",
    "CORES"
   ]
  },
  {
   "cell_type": "markdown",
   "id": "d62ec5e4-c646-4357-b372-78c5d1d4e8e7",
   "metadata": {},
   "source": [
    "Borrowing from [another previous part](./12-generate-data.ipynb), where we attempted to generate random and hashed device IDs:"
   ]
  },
  {
   "cell_type": "code",
   "execution_count": 19,
   "id": "bab89d25-26a1-4bf9-841b-23005c22b611",
   "metadata": {},
   "outputs": [],
   "source": [
    "# mostly from Part 12 - Generate data\n",
    "from uuid import uuid4\n",
    "from hashlib import sha1\n",
    "\n",
    "\n",
    "def gen_device_ids(count: int = 20_000) -> list:\n",
    "    device_ids = []\n",
    "    for _ in range(count):\n",
    "        device_ids.append(str(uuid4()))\n",
    "    # hash\n",
    "    return [sha1(x.encode()).hexdigest() for x in device_ids]"
   ]
  },
  {
   "cell_type": "markdown",
   "id": "31d5ea06-9dba-44f2-a653-9c2856366b4d",
   "metadata": {},
   "source": [
    "Let's generate a relatively large batch of device IDs, say 1 million times the number of `CORES`:"
   ]
  },
  {
   "cell_type": "code",
   "execution_count": 25,
   "id": "395883a2-2726-4851-b861-2636aae19a92",
   "metadata": {},
   "outputs": [
    {
     "name": "stdout",
     "output_type": "stream",
     "text": [
      "CPU times: user 52.7 s, sys: 5.23 s, total: 57.9 s\n",
      "Wall time: 58.1 s\n"
     ]
    },
    {
     "data": {
      "text/html": [
       "<div>\n",
       "<style scoped>\n",
       "    .dataframe tbody tr th:only-of-type {\n",
       "        vertical-align: middle;\n",
       "    }\n",
       "\n",
       "    .dataframe tbody tr th {\n",
       "        vertical-align: top;\n",
       "    }\n",
       "\n",
       "    .dataframe thead th {\n",
       "        text-align: right;\n",
       "    }\n",
       "</style>\n",
       "<table border=\"1\" class=\"dataframe\">\n",
       "  <thead>\n",
       "    <tr style=\"text-align: right;\">\n",
       "      <th></th>\n",
       "      <th>device_id</th>\n",
       "    </tr>\n",
       "  </thead>\n",
       "  <tbody>\n",
       "    <tr>\n",
       "      <th>0</th>\n",
       "      <td>b3bb3680a7f55bab654b55e9b863bb20319d2275</td>\n",
       "    </tr>\n",
       "    <tr>\n",
       "      <th>1</th>\n",
       "      <td>2cb7cfafe45326136c21b28f67d6fd37e5df09eb</td>\n",
       "    </tr>\n",
       "    <tr>\n",
       "      <th>2</th>\n",
       "      <td>5c0152a869d09b97c71407197fe54b94d390ebd0</td>\n",
       "    </tr>\n",
       "    <tr>\n",
       "      <th>3</th>\n",
       "      <td>0aae3ef47af4250b120de7d9b4ce378148f5117f</td>\n",
       "    </tr>\n",
       "    <tr>\n",
       "      <th>4</th>\n",
       "      <td>d39eb8ce7181493ffabc2d4e85e37bc4a6fd1046</td>\n",
       "    </tr>\n",
       "    <tr>\n",
       "      <th>...</th>\n",
       "      <td>...</td>\n",
       "    </tr>\n",
       "    <tr>\n",
       "      <th>11999995</th>\n",
       "      <td>9b69945cd1b25563a86ac67cc0cdc8a4bbaa16bc</td>\n",
       "    </tr>\n",
       "    <tr>\n",
       "      <th>11999996</th>\n",
       "      <td>855422cc57a941a31c5caaca4112e2e8089add93</td>\n",
       "    </tr>\n",
       "    <tr>\n",
       "      <th>11999997</th>\n",
       "      <td>7d231df831b8e304ecdc42965b659944f673a6d6</td>\n",
       "    </tr>\n",
       "    <tr>\n",
       "      <th>11999998</th>\n",
       "      <td>d8f735c365c65e16849286d4add1d8673843411a</td>\n",
       "    </tr>\n",
       "    <tr>\n",
       "      <th>11999999</th>\n",
       "      <td>d0ca40289b9167f47762f19ba1997562c8fd8eb1</td>\n",
       "    </tr>\n",
       "  </tbody>\n",
       "</table>\n",
       "<p>12000000 rows × 1 columns</p>\n",
       "</div>"
      ],
      "text/plain": [
       "                                         device_id\n",
       "0         b3bb3680a7f55bab654b55e9b863bb20319d2275\n",
       "1         2cb7cfafe45326136c21b28f67d6fd37e5df09eb\n",
       "2         5c0152a869d09b97c71407197fe54b94d390ebd0\n",
       "3         0aae3ef47af4250b120de7d9b4ce378148f5117f\n",
       "4         d39eb8ce7181493ffabc2d4e85e37bc4a6fd1046\n",
       "...                                            ...\n",
       "11999995  9b69945cd1b25563a86ac67cc0cdc8a4bbaa16bc\n",
       "11999996  855422cc57a941a31c5caaca4112e2e8089add93\n",
       "11999997  7d231df831b8e304ecdc42965b659944f673a6d6\n",
       "11999998  d8f735c365c65e16849286d4add1d8673843411a\n",
       "11999999  d0ca40289b9167f47762f19ba1997562c8fd8eb1\n",
       "\n",
       "[12000000 rows x 1 columns]"
      ]
     },
     "execution_count": 25,
     "metadata": {},
     "output_type": "execute_result"
    }
   ],
   "source": [
    "import pandas as pd\n",
    "\n",
    "%time device_ids = pd.DataFrame(gen_device_ids(count=1_000_000 * CORES), columns=['device_id'])\n",
    "\n",
    "device_ids"
   ]
  },
  {
   "cell_type": "code",
   "execution_count": 26,
   "id": "30282e77-5efc-45fb-8753-e1a006c4051c",
   "metadata": {},
   "outputs": [
    {
     "data": {
      "text/html": [
       "\n",
       "            <div>\n",
       "                <p><b>SparkSession - in-memory</b></p>\n",
       "                \n",
       "        <div>\n",
       "            <p><b>SparkContext</b></p>\n",
       "\n",
       "            <p><a href=\"http://runzhoudembp.lan:4040\">Spark UI</a></p>\n",
       "\n",
       "            <dl>\n",
       "              <dt>Version</dt>\n",
       "                <dd><code>v3.1.2</code></dd>\n",
       "              <dt>Master</dt>\n",
       "                <dd><code>local[12]</code></dd>\n",
       "              <dt>AppName</dt>\n",
       "                <dd><code>pyspark-shell</code></dd>\n",
       "            </dl>\n",
       "        </div>\n",
       "        \n",
       "            </div>\n",
       "        "
      ],
      "text/plain": [
       "<pyspark.sql.session.SparkSession at 0x13fd96fa0>"
      ]
     },
     "execution_count": 26,
     "metadata": {},
     "output_type": "execute_result"
    }
   ],
   "source": [
    "from pyspark.sql import SparkSession\n",
    "\n",
    "spark = SparkSession.builder.master(f'local[{CORES}]').getOrCreate()\n",
    "spark"
   ]
  },
  {
   "cell_type": "code",
   "execution_count": 27,
   "id": "bb80f2ce-34df-4ab1-b043-4e6585ada283",
   "metadata": {},
   "outputs": [
    {
     "name": "stdout",
     "output_type": "stream",
     "text": [
      "CPU times: user 1.77 ms, sys: 2.06 ms, total: 3.83 ms\n",
      "Wall time: 240 ms\n"
     ]
    }
   ],
   "source": [
    "%%time\n",
    "\n",
    "rdd = spark.sparkContext.parallelize(\n",
    "    # a list of [1_000_000, ..., 1_000_000], where the length is the number of CORES\n",
    "    [1_000_000] * CORES\n",
    ").flatMap(\n",
    "    lambda count: [(d,) for d in gen_device_ids(count)]\n",
    ")"
   ]
  },
  {
   "cell_type": "code",
   "execution_count": 28,
   "id": "b0df7f70-b1ee-44fe-af21-89c21df0221a",
   "metadata": {},
   "outputs": [
    {
     "data": {
      "text/plain": [
       "[('fce5ebc469e311a076f3728b5efcb763e981c4bb',),\n",
       " ('d88078c656aaea444d07d7171b4101c12897b06f',),\n",
       " ('bf82f64f7659ddbbbcdf97620240bc4c0693666b',),\n",
       " ('e51aa729693db2f7c4f30b223334fdbe10424176',),\n",
       " ('d14b3f7eaff47f6910b3c9fe109f264edee1892c',),\n",
       " ('0adf59ec0a68c223e48b157d6506a02faa9f35e6',),\n",
       " ('9506af476fca4e6e29f9478d3ee69a02298cb2c0',),\n",
       " ('42c879b781d666b0f991b5a7fb3d55eeaa9ea678',),\n",
       " ('ae67613f969adabf521578c6e02827f239be0036',),\n",
       " ('7df6d9f75204f440187a429c9788ab3f31402a7c',)]"
      ]
     },
     "execution_count": 28,
     "metadata": {},
     "output_type": "execute_result"
    }
   ],
   "source": [
    "rdd.take(10)"
   ]
  },
  {
   "cell_type": "code",
   "execution_count": 29,
   "id": "79918937-4a6b-43ee-a35a-ad09406581d5",
   "metadata": {},
   "outputs": [
    {
     "name": "stdout",
     "output_type": "stream",
     "text": [
      "CPU times: user 7.28 ms, sys: 2.75 ms, total: 10 ms\n",
      "Wall time: 6.08 s\n"
     ]
    }
   ],
   "source": [
    "%time df = rdd.toDF(['device_id'])"
   ]
  },
  {
   "cell_type": "code",
   "execution_count": 30,
   "id": "5eb420e0-3da9-438a-ba00-769fd74c20bc",
   "metadata": {},
   "outputs": [
    {
     "name": "stdout",
     "output_type": "stream",
     "text": [
      "+--------------------+\n",
      "|           device_id|\n",
      "+--------------------+\n",
      "|cbf00cb2384157944...|\n",
      "|43b75d2d1670c8128...|\n",
      "|0cc778e3fb3b9b445...|\n",
      "|806402f4d57f036b2...|\n",
      "|84b09b47c40e5fb41...|\n",
      "|40af5c531146774b2...|\n",
      "|fcefc7a5954fd2575...|\n",
      "|b3ddc0a27c12c3202...|\n",
      "|d03ea43b57b7d5eb0...|\n",
      "|aba71b2421fe48a2c...|\n",
      "|76bae0fa4ae9e7087...|\n",
      "|bf0d964e22120f4dc...|\n",
      "|81baaab08a7786e10...|\n",
      "|aa0cac18fceb534d2...|\n",
      "|22428e2dc78a1df0f...|\n",
      "|c2b8562fb2a2e578c...|\n",
      "|c800e2ecddcb76515...|\n",
      "|a80b6ba01870d975e...|\n",
      "|81becefd56f651b04...|\n",
      "|184b81305b125fc90...|\n",
      "+--------------------+\n",
      "only showing top 20 rows\n",
      "\n",
      "CPU times: user 991 µs, sys: 1.17 ms, total: 2.16 ms\n",
      "Wall time: 5.44 s\n"
     ]
    }
   ],
   "source": [
    "%time df.show()"
   ]
  },
  {
   "cell_type": "code",
   "execution_count": 31,
   "id": "418fede8-ede8-4edc-ad5d-db1c7e198864",
   "metadata": {},
   "outputs": [
    {
     "name": "stdout",
     "output_type": "stream",
     "text": [
      "CPU times: user 2.16 ms, sys: 1.76 ms, total: 3.92 ms\n",
      "Wall time: 16 s\n"
     ]
    },
    {
     "data": {
      "text/plain": [
       "12000000"
      ]
     },
     "execution_count": 31,
     "metadata": {},
     "output_type": "execute_result"
    }
   ],
   "source": [
    "%time df.count()"
   ]
  },
  {
   "cell_type": "code",
   "execution_count": 32,
   "id": "4bca3108-7df8-4744-adcb-26a2e221a769",
   "metadata": {},
   "outputs": [
    {
     "name": "stdout",
     "output_type": "stream",
     "text": [
      "CPU times: user 47.9 ms, sys: 9.64 ms, total: 57.6 ms\n",
      "Wall time: 286 ms\n"
     ]
    }
   ],
   "source": [
    "df = spark.createDataFrame([(i,) for i in range(CORES)], ['cluster'])\n",
    "\n",
    "def _gen(df):\n",
    "    device_ids = gen_device_ids(count=1_000_000)\n",
    "    pdf = pd.DataFrame(device_ids, columns=['device_id'])\n",
    "    pdf['cluster'] = df['cluster']\n",
    "    return pdf.reset_index()\n",
    "\n",
    "def gen_device_ids_udf(df):\n",
    "    output = []\n",
    "    for _, row in df.iterrows():\n",
    "        pdf = _gen(df)\n",
    "        output.append(pdf)\n",
    "\n",
    "    return pd.concat(output)\n",
    "\n",
    "\n",
    "schema = 'index long, cluster long, device_id string'\n",
    "%time df = df.groupby('cluster').applyInPandas(gen_device_ids_udf, schema=schema).drop('cluster', 'index')"
   ]
  },
  {
   "cell_type": "code",
   "execution_count": 33,
   "id": "1d620162-9d26-46d5-871d-82b987b73541",
   "metadata": {},
   "outputs": [
    {
     "name": "stdout",
     "output_type": "stream",
     "text": [
      "+--------------------+\n",
      "|           device_id|\n",
      "+--------------------+\n",
      "|4da9c0558916b527f...|\n",
      "|562320ef2fd83ea9a...|\n",
      "|02b94ee058a97ccfe...|\n",
      "|9f631b8ad4971febb...|\n",
      "|2029b2c38a6827026...|\n",
      "|b0a1faaef6cbce175...|\n",
      "|5e1cc1a654ab23995...|\n",
      "|f2a4d5f5bd2e0c789...|\n",
      "|46d469143a8f1b5f1...|\n",
      "|e3ea69956fcc8d484...|\n",
      "|7ba5ddc687032cb2f...|\n",
      "|7e4d98b486e9db93d...|\n",
      "|e526aea7cab06d7be...|\n",
      "|61020ce8262da90b1...|\n",
      "|bb39647008d9b5bd5...|\n",
      "|e80eca555a2eda978...|\n",
      "|a738f658d1c395188...|\n",
      "|ea65abc7b7fb6e7e1...|\n",
      "|56ad36bd1e56cc05d...|\n",
      "|ad28cab848fa36c0c...|\n",
      "+--------------------+\n",
      "only showing top 20 rows\n",
      "\n",
      "CPU times: user 3.13 ms, sys: 2.58 ms, total: 5.71 ms\n",
      "Wall time: 6.37 s\n"
     ]
    }
   ],
   "source": [
    "%time df.show()"
   ]
  },
  {
   "cell_type": "code",
   "execution_count": 34,
   "id": "5144c54a-b74a-43d4-94fc-953e27d84f3e",
   "metadata": {},
   "outputs": [
    {
     "name": "stdout",
     "output_type": "stream",
     "text": [
      "CPU times: user 14.6 ms, sys: 9.65 ms, total: 24.3 ms\n",
      "Wall time: 13.4 s\n"
     ]
    },
    {
     "data": {
      "text/plain": [
       "12000000"
      ]
     },
     "execution_count": 34,
     "metadata": {},
     "output_type": "execute_result"
    }
   ],
   "source": [
    "%time df.count()"
   ]
  },
  {
   "cell_type": "code",
   "execution_count": 35,
   "id": "5d87e7dc-8cb7-4dfc-8810-993e34d40848",
   "metadata": {},
   "outputs": [
    {
     "name": "stdout",
     "output_type": "stream",
     "text": [
      "CPU times: user 6.03 s, sys: 335 ms, total: 6.36 s\n",
      "Wall time: 6.38 s\n"
     ]
    },
    {
     "data": {
      "text/html": [
       "<div>\n",
       "<style scoped>\n",
       "    .dataframe tbody tr th:only-of-type {\n",
       "        vertical-align: middle;\n",
       "    }\n",
       "\n",
       "    .dataframe tbody tr th {\n",
       "        vertical-align: top;\n",
       "    }\n",
       "\n",
       "    .dataframe thead th {\n",
       "        text-align: right;\n",
       "    }\n",
       "</style>\n",
       "<table border=\"1\" class=\"dataframe\">\n",
       "  <thead>\n",
       "    <tr style=\"text-align: right;\">\n",
       "      <th></th>\n",
       "      <th>device_id</th>\n",
       "    </tr>\n",
       "    <tr>\n",
       "      <th>first</th>\n",
       "      <th></th>\n",
       "    </tr>\n",
       "  </thead>\n",
       "  <tbody>\n",
       "    <tr>\n",
       "      <th>0</th>\n",
       "      <td>750199</td>\n",
       "    </tr>\n",
       "    <tr>\n",
       "      <th>1</th>\n",
       "      <td>749324</td>\n",
       "    </tr>\n",
       "    <tr>\n",
       "      <th>2</th>\n",
       "      <td>749898</td>\n",
       "    </tr>\n",
       "    <tr>\n",
       "      <th>3</th>\n",
       "      <td>750227</td>\n",
       "    </tr>\n",
       "    <tr>\n",
       "      <th>4</th>\n",
       "      <td>750237</td>\n",
       "    </tr>\n",
       "    <tr>\n",
       "      <th>5</th>\n",
       "      <td>749944</td>\n",
       "    </tr>\n",
       "    <tr>\n",
       "      <th>6</th>\n",
       "      <td>749974</td>\n",
       "    </tr>\n",
       "    <tr>\n",
       "      <th>7</th>\n",
       "      <td>750928</td>\n",
       "    </tr>\n",
       "    <tr>\n",
       "      <th>8</th>\n",
       "      <td>750079</td>\n",
       "    </tr>\n",
       "    <tr>\n",
       "      <th>9</th>\n",
       "      <td>750166</td>\n",
       "    </tr>\n",
       "    <tr>\n",
       "      <th>a</th>\n",
       "      <td>748599</td>\n",
       "    </tr>\n",
       "    <tr>\n",
       "      <th>b</th>\n",
       "      <td>750894</td>\n",
       "    </tr>\n",
       "    <tr>\n",
       "      <th>c</th>\n",
       "      <td>749543</td>\n",
       "    </tr>\n",
       "    <tr>\n",
       "      <th>d</th>\n",
       "      <td>749928</td>\n",
       "    </tr>\n",
       "    <tr>\n",
       "      <th>e</th>\n",
       "      <td>750345</td>\n",
       "    </tr>\n",
       "    <tr>\n",
       "      <th>f</th>\n",
       "      <td>749715</td>\n",
       "    </tr>\n",
       "  </tbody>\n",
       "</table>\n",
       "</div>"
      ],
      "text/plain": [
       "       device_id\n",
       "first           \n",
       "0         750199\n",
       "1         749324\n",
       "2         749898\n",
       "3         750227\n",
       "4         750237\n",
       "5         749944\n",
       "6         749974\n",
       "7         750928\n",
       "8         750079\n",
       "9         750166\n",
       "a         748599\n",
       "b         750894\n",
       "c         749543\n",
       "d         749928\n",
       "e         750345\n",
       "f         749715"
      ]
     },
     "execution_count": 35,
     "metadata": {},
     "output_type": "execute_result"
    }
   ],
   "source": [
    "%%time\n",
    "\n",
    "device_ids['first'] = device_ids.device_id.astype(str).str[0]\n",
    "gb_char = device_ids.groupby('first').agg({'device_id': 'count'})\n",
    "gb_char"
   ]
  },
  {
   "cell_type": "code",
   "execution_count": 36,
   "id": "cb98a2bd-699b-4a08-975b-eb651cce5f9d",
   "metadata": {},
   "outputs": [
    {
     "name": "stdout",
     "output_type": "stream",
     "text": [
      "+-----+----------------+\n",
      "|first|count(device_id)|\n",
      "+-----+----------------+\n",
      "|    7|          748909|\n",
      "|    3|          748245|\n",
      "|    8|          749328|\n",
      "|    0|          750360|\n",
      "|    f|          752284|\n",
      "|    5|          750596|\n",
      "|    6|          750622|\n",
      "|    e|          748313|\n",
      "|    d|          749367|\n",
      "|    c|          750413|\n",
      "|    9|          749946|\n",
      "|    1|          750750|\n",
      "|    b|          749675|\n",
      "|    4|          750549|\n",
      "|    a|          750601|\n",
      "|    2|          750042|\n",
      "+-----+----------------+\n",
      "\n",
      "CPU times: user 107 ms, sys: 25.9 ms, total: 133 ms\n",
      "Wall time: 14.5 s\n"
     ]
    }
   ],
   "source": [
    "%%time\n",
    "\n",
    "df = df.withColumn('first', df.device_id.substr(0, 1))\n",
    "gb_char = df.groupby('first').agg({'device_id': 'count'})\n",
    "gb_char.show()"
   ]
  },
  {
   "cell_type": "code",
   "execution_count": null,
   "id": "aadd3bbb-cb34-4696-a5ad-618401c9862a",
   "metadata": {},
   "outputs": [],
   "source": []
  }
 ],
 "metadata": {
  "kernelspec": {
   "display_name": "Python 3",
   "language": "python",
   "name": "python3"
  },
  "language_info": {
   "codemirror_mode": {
    "name": "ipython",
    "version": 3
   },
   "file_extension": ".py",
   "mimetype": "text/x-python",
   "name": "python",
   "nbconvert_exporter": "python",
   "pygments_lexer": "ipython3",
   "version": "3.8.2"
  }
 },
 "nbformat": 4,
 "nbformat_minor": 5
}
