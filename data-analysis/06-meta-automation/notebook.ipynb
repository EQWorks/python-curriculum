{
 "cells": [
  {
   "cell_type": "markdown",
   "id": "animal-huntington",
   "metadata": {},
   "source": [
    "# Meta-Automation\n",
    "\n",
    "The ultimate objective of programming is to achieve automation, which generally requires a set of rigid algorithms defined by humans.\n",
    "\n",
    "Thanks to the exponential growth of computing power, the rise of machine-learning forms practical meta-automation that do not require definitive algorithms but elegantly self-adapt using methods and models inspired by statistics and probability theory.\n",
    "\n",
    "The increasing sophistication of the abstractions built on top of various machine-learning techniques gives us tools to displace manual chores with much more ease.\n",
    "\n",
    "## Natural language processing\n",
    "\n",
    "We will use a machine-learning assisted NLP (natural-language-processing) technique to build a text emotion-detection application, inspired by [this paper](https://www.aclweb.org/anthology/D18-1404.pdf) and [this training dataset](https://www.kaggle.com/praveengovi/emotions-dataset-for-nlp).\n",
    "\n",
    "We will also use [fastText](https://fasttext.cc/), an NLP library open-sourced by Facebook Research, based on the [Word2vec](https://en.wikipedia.org/wiki/Word2vec) technique."
   ]
  },
  {
   "cell_type": "code",
   "execution_count": 1,
   "id": "mineral-orientation",
   "metadata": {},
   "outputs": [
    {
     "data": {
      "text/html": [
       "<div>\n",
       "<style scoped>\n",
       "    .dataframe tbody tr th:only-of-type {\n",
       "        vertical-align: middle;\n",
       "    }\n",
       "\n",
       "    .dataframe tbody tr th {\n",
       "        vertical-align: top;\n",
       "    }\n",
       "\n",
       "    .dataframe thead th {\n",
       "        text-align: right;\n",
       "    }\n",
       "</style>\n",
       "<table border=\"1\" class=\"dataframe\">\n",
       "  <thead>\n",
       "    <tr style=\"text-align: right;\">\n",
       "      <th></th>\n",
       "      <th>text</th>\n",
       "      <th>emotion</th>\n",
       "    </tr>\n",
       "  </thead>\n",
       "  <tbody>\n",
       "    <tr>\n",
       "      <th>0</th>\n",
       "      <td>i didnt feel humiliated</td>\n",
       "      <td>sadness</td>\n",
       "    </tr>\n",
       "    <tr>\n",
       "      <th>1</th>\n",
       "      <td>i can go from feeling so hopeless to so damned...</td>\n",
       "      <td>sadness</td>\n",
       "    </tr>\n",
       "    <tr>\n",
       "      <th>2</th>\n",
       "      <td>im grabbing a minute to post i feel greedy wrong</td>\n",
       "      <td>anger</td>\n",
       "    </tr>\n",
       "    <tr>\n",
       "      <th>3</th>\n",
       "      <td>i am ever feeling nostalgic about the fireplac...</td>\n",
       "      <td>love</td>\n",
       "    </tr>\n",
       "    <tr>\n",
       "      <th>4</th>\n",
       "      <td>i am feeling grouchy</td>\n",
       "      <td>anger</td>\n",
       "    </tr>\n",
       "    <tr>\n",
       "      <th>...</th>\n",
       "      <td>...</td>\n",
       "      <td>...</td>\n",
       "    </tr>\n",
       "    <tr>\n",
       "      <th>15995</th>\n",
       "      <td>i just had a very brief time in the beanbag an...</td>\n",
       "      <td>sadness</td>\n",
       "    </tr>\n",
       "    <tr>\n",
       "      <th>15996</th>\n",
       "      <td>i am now turning and i feel pathetic that i am...</td>\n",
       "      <td>sadness</td>\n",
       "    </tr>\n",
       "    <tr>\n",
       "      <th>15997</th>\n",
       "      <td>i feel strong and good overall</td>\n",
       "      <td>joy</td>\n",
       "    </tr>\n",
       "    <tr>\n",
       "      <th>15998</th>\n",
       "      <td>i feel like this was such a rude comment and i...</td>\n",
       "      <td>anger</td>\n",
       "    </tr>\n",
       "    <tr>\n",
       "      <th>15999</th>\n",
       "      <td>i know a lot but i feel so stupid because i ca...</td>\n",
       "      <td>sadness</td>\n",
       "    </tr>\n",
       "  </tbody>\n",
       "</table>\n",
       "<p>16000 rows × 2 columns</p>\n",
       "</div>"
      ],
      "text/plain": [
       "                                                    text  emotion\n",
       "0                                i didnt feel humiliated  sadness\n",
       "1      i can go from feeling so hopeless to so damned...  sadness\n",
       "2       im grabbing a minute to post i feel greedy wrong    anger\n",
       "3      i am ever feeling nostalgic about the fireplac...     love\n",
       "4                                   i am feeling grouchy    anger\n",
       "...                                                  ...      ...\n",
       "15995  i just had a very brief time in the beanbag an...  sadness\n",
       "15996  i am now turning and i feel pathetic that i am...  sadness\n",
       "15997                     i feel strong and good overall      joy\n",
       "15998  i feel like this was such a rude comment and i...    anger\n",
       "15999  i know a lot but i feel so stupid because i ca...  sadness\n",
       "\n",
       "[16000 rows x 2 columns]"
      ]
     },
     "execution_count": 1,
     "metadata": {},
     "output_type": "execute_result"
    }
   ],
   "source": [
    "import pandas as pd\n",
    "\n",
    "# load text with slightly hacky usage of the Pandas `read_csv()` function\n",
    "df_train = pd.read_csv('emotions/train.txt', sep=';', names=['text', 'emotion'])\n",
    "df_train"
   ]
  },
  {
   "cell_type": "code",
   "execution_count": 2,
   "id": "protected-plane",
   "metadata": {},
   "outputs": [
    {
     "data": {
      "text/plain": [
       "joy         5362\n",
       "sadness     4666\n",
       "anger       2159\n",
       "fear        1937\n",
       "love        1304\n",
       "surprise     572\n",
       "Name: emotion, dtype: int64"
      ]
     },
     "execution_count": 2,
     "metadata": {},
     "output_type": "execute_result"
    }
   ],
   "source": [
    "df_train['emotion'].value_counts()"
   ]
  },
  {
   "cell_type": "code",
   "execution_count": 3,
   "id": "taken-chester",
   "metadata": {},
   "outputs": [
    {
     "data": {
      "text/plain": [
       "__label__joy         5362\n",
       "__label__sadness     4666\n",
       "__label__anger       2159\n",
       "__label__fear        1937\n",
       "__label__love        1304\n",
       "__label__surprise     572\n",
       "Name: emotion, dtype: int64"
      ]
     },
     "execution_count": 3,
     "metadata": {},
     "output_type": "execute_result"
    }
   ],
   "source": [
    "# prefix emotion labels based on fastText's expected format\n",
    "df_train['emotion'] = '__label__' + df_train['emotion'].str[:]\n",
    "df_train['emotion'].value_counts()"
   ]
  },
  {
   "cell_type": "code",
   "execution_count": 4,
   "id": "removable-closure",
   "metadata": {},
   "outputs": [],
   "source": [
    "from numpy import savetxt\n",
    "\n",
    "# positively leverage \"leaky abstraction\" by using Numpy `savetxt()`\n",
    "# output DataFrame as text file that each line would look like:\n",
    "# __label__joy i feel strong and good overall\n",
    "savetxt('emotions_train.txt', df_train[['emotion', 'text']].values, fmt='%s', delimiter=' ')"
   ]
  },
  {
   "cell_type": "markdown",
   "id": "authentic-exhaust",
   "metadata": {},
   "source": [
    "### Pre-process abstraction"
   ]
  },
  {
   "cell_type": "code",
   "execution_count": 5,
   "id": "purple-crash",
   "metadata": {},
   "outputs": [],
   "source": [
    "def pre_process(fname: str, output: str):\n",
    "    # load text\n",
    "    df = pd.read_csv(fname, sep=';', names=['text', 'emotion'])\n",
    "    # prefix emotions with __label__ for fastText standard\n",
    "    df['emotion'] = '__label__' + df['emotion'].str[:]\n",
    "    # output as fastText expected text file\n",
    "    savetxt(output, df[['emotion', 'text']].values, fmt='%s', delimiter=' ')"
   ]
  },
  {
   "cell_type": "code",
   "execution_count": 6,
   "id": "broken-lottery",
   "metadata": {},
   "outputs": [],
   "source": [
    "pre_process('emotions/val.txt', 'emotions_val.txt')\n",
    "pre_process('emotions/test.txt', 'emotions_test.txt')"
   ]
  },
  {
   "cell_type": "code",
   "execution_count": 49,
   "id": "meaning-fairy",
   "metadata": {},
   "outputs": [],
   "source": [
    "import fasttext\n",
    "\n",
    "model = fasttext.train_supervised(\n",
    "    input='emotions_train.txt',\n",
    "    autotuneValidationFile='emotions_val.txt',  # this would require extra time up to 5 min\n",
    "    autotuneModelSize='1M',  # this also adds to the training time\n",
    ")"
   ]
  },
  {
   "cell_type": "code",
   "execution_count": 50,
   "id": "alleged-charity",
   "metadata": {},
   "outputs": [
    {
     "data": {
      "text/plain": [
       "(2000, 0.8835, 0.8835)"
      ]
     },
     "execution_count": 50,
     "metadata": {},
     "output_type": "execute_result"
    }
   ],
   "source": [
    "model.test('emotions_test.txt')"
   ]
  },
  {
   "cell_type": "code",
   "execution_count": 51,
   "id": "offshore-budapest",
   "metadata": {},
   "outputs": [
    {
     "data": {
      "text/plain": [
       "(('__label__joy',), array([1.0000056]))"
      ]
     },
     "execution_count": 51,
     "metadata": {},
     "output_type": "execute_result"
    }
   ],
   "source": [
    "model.predict('lol')"
   ]
  },
  {
   "cell_type": "code",
   "execution_count": 52,
   "id": "controlling-question",
   "metadata": {},
   "outputs": [
    {
     "data": {
      "text/plain": [
       "(('__label__joy',), array([0.27777389]))"
      ]
     },
     "execution_count": 52,
     "metadata": {},
     "output_type": "execute_result"
    }
   ],
   "source": [
    "text = \"Sorry honey, I tried to get flowers but now I'm just drunk in sitting in a pile of dandelion leafs. Happens to the best of us\"\n",
    "model.predict(text)"
   ]
  },
  {
   "cell_type": "code",
   "execution_count": 53,
   "id": "listed-millennium",
   "metadata": {},
   "outputs": [
    {
     "data": {
      "text/plain": [
       "(('__label__sadness',), array([0.90288192]))"
      ]
     },
     "execution_count": 53,
     "metadata": {},
     "output_type": "execute_result"
    }
   ],
   "source": [
    "model.predict(text.lower())"
   ]
  },
  {
   "cell_type": "code",
   "execution_count": 54,
   "id": "usual-fishing",
   "metadata": {},
   "outputs": [
    {
     "name": "stdout",
     "output_type": "stream",
     "text": [
      "sadness 0.903\n"
     ]
    }
   ],
   "source": [
    "labels, scores = model.predict(text.lower())\n",
    "print(labels[0].split('__label__')[-1], round(scores[0], 3))"
   ]
  },
  {
   "cell_type": "code",
   "execution_count": 55,
   "id": "aware-memorial",
   "metadata": {},
   "outputs": [],
   "source": [
    "# save the model\n",
    "model.save_model('./emotions.bin')"
   ]
  },
  {
   "cell_type": "markdown",
   "id": "initial-assurance",
   "metadata": {},
   "source": [
    "### Post-process abstraction"
   ]
  },
  {
   "cell_type": "code",
   "execution_count": 56,
   "id": "empty-liberty",
   "metadata": {},
   "outputs": [],
   "source": [
    "def emotion_score(model, text):\n",
    "    labels, scores = model.predict(text.lower())\n",
    "    return {'emotion': labels[0].split('__label__')[-1], 'score': round(scores[0], 3)}"
   ]
  },
  {
   "cell_type": "code",
   "execution_count": 57,
   "id": "stone-kingdom",
   "metadata": {},
   "outputs": [
    {
     "data": {
      "text/plain": [
       "{'emotion': 'sadness', 'score': 0.903}"
      ]
     },
     "execution_count": 57,
     "metadata": {},
     "output_type": "execute_result"
    }
   ],
   "source": [
    "emotion_score(model, \"Sorry honey, I tried to get flowers but now I'm just drunk in sitting in a pile of dandelion leafs. Happens to the best of us\")"
   ]
  },
  {
   "cell_type": "code",
   "execution_count": 58,
   "id": "supposed-calculation",
   "metadata": {},
   "outputs": [
    {
     "data": {
      "text/plain": [
       "{'emotion': 'joy', 'score': 0.55}"
      ]
     },
     "execution_count": 58,
     "metadata": {},
     "output_type": "execute_result"
    }
   ],
   "source": [
    "emotion_score(model, 'Sounds like a great cause...also have two teenagers so I appreciate the cause and underlying issues too.')"
   ]
  },
  {
   "cell_type": "code",
   "execution_count": 59,
   "id": "realistic-roots",
   "metadata": {},
   "outputs": [
    {
     "data": {
      "text/plain": [
       "{'emotion': 'joy', 'score': 0.999}"
      ]
     },
     "execution_count": 59,
     "metadata": {},
     "output_type": "execute_result"
    }
   ],
   "source": [
    "emotion_score(model, \"I have a mild fascination with city planning (ask me for good content sources if you're also into that), but stumbled on to two great vids on the TTC's subway evolution and GO's rail lines.\")"
   ]
  },
  {
   "cell_type": "markdown",
   "id": "muslim-formula",
   "metadata": {},
   "source": [
    "### Build a case"
   ]
  },
  {
   "cell_type": "code",
   "execution_count": 60,
   "id": "undefined-diagram",
   "metadata": {},
   "outputs": [
    {
     "data": {
      "text/html": [
       "<div>\n",
       "<style scoped>\n",
       "    .dataframe tbody tr th:only-of-type {\n",
       "        vertical-align: middle;\n",
       "    }\n",
       "\n",
       "    .dataframe tbody tr th {\n",
       "        vertical-align: top;\n",
       "    }\n",
       "\n",
       "    .dataframe thead th {\n",
       "        text-align: right;\n",
       "    }\n",
       "</style>\n",
       "<table border=\"1\" class=\"dataframe\">\n",
       "  <thead>\n",
       "    <tr style=\"text-align: right;\">\n",
       "      <th></th>\n",
       "      <th>tStartMs</th>\n",
       "      <th>dDurationMs</th>\n",
       "      <th>segs</th>\n",
       "    </tr>\n",
       "  </thead>\n",
       "  <tbody>\n",
       "    <tr>\n",
       "      <th>0</th>\n",
       "      <td>190</td>\n",
       "      <td>5680</td>\n",
       "      <td>[{'utf8': 'I'm often asked -- and occasionally...</td>\n",
       "    </tr>\n",
       "    <tr>\n",
       "      <th>1</th>\n",
       "      <td>5870</td>\n",
       "      <td>5309</td>\n",
       "      <td>[{'utf8': 'And it's like, you know, the only \"...</td>\n",
       "    </tr>\n",
       "    <tr>\n",
       "      <th>2</th>\n",
       "      <td>11179</td>\n",
       "      <td>2271</td>\n",
       "      <td>[{'utf8': 'I don't associate with movements.'}]</td>\n",
       "    </tr>\n",
       "    <tr>\n",
       "      <th>3</th>\n",
       "      <td>13450</td>\n",
       "      <td>3180</td>\n",
       "      <td>[{'utf8': 'I'm not an \"ism.\"'}]</td>\n",
       "    </tr>\n",
       "    <tr>\n",
       "      <th>4</th>\n",
       "      <td>16630</td>\n",
       "      <td>2950</td>\n",
       "      <td>[{'utf8': 'I just - I think for myself.'}]</td>\n",
       "    </tr>\n",
       "    <tr>\n",
       "      <th>5</th>\n",
       "      <td>19580</td>\n",
       "      <td>9000</td>\n",
       "      <td>[{'utf8': 'The moment when someone attaches to...</td>\n",
       "    </tr>\n",
       "    <tr>\n",
       "      <th>6</th>\n",
       "      <td>28580</td>\n",
       "      <td>4779</td>\n",
       "      <td>[{'utf8': 'and all the rest of the philosophy ...</td>\n",
       "    </tr>\n",
       "    <tr>\n",
       "      <th>7</th>\n",
       "      <td>33359</td>\n",
       "      <td>4101</td>\n",
       "      <td>[{'utf8': 'a conversation they will assert tha...</td>\n",
       "    </tr>\n",
       "    <tr>\n",
       "      <th>8</th>\n",
       "      <td>37460</td>\n",
       "      <td>3750</td>\n",
       "      <td>[{'utf8': 'to know about you because of that a...</td>\n",
       "    </tr>\n",
       "    <tr>\n",
       "      <th>9</th>\n",
       "      <td>41210</td>\n",
       "      <td>1789</td>\n",
       "      <td>[{'utf8': 'And that's not the way to have a co...</td>\n",
       "    </tr>\n",
       "  </tbody>\n",
       "</table>\n",
       "</div>"
      ],
      "text/plain": [
       "   tStartMs  dDurationMs                                               segs\n",
       "0       190         5680  [{'utf8': 'I'm often asked -- and occasionally...\n",
       "1      5870         5309  [{'utf8': 'And it's like, you know, the only \"...\n",
       "2     11179         2271    [{'utf8': 'I don't associate with movements.'}]\n",
       "3     13450         3180                    [{'utf8': 'I'm not an \"ism.\"'}]\n",
       "4     16630         2950         [{'utf8': 'I just - I think for myself.'}]\n",
       "5     19580         9000  [{'utf8': 'The moment when someone attaches to...\n",
       "6     28580         4779  [{'utf8': 'and all the rest of the philosophy ...\n",
       "7     33359         4101  [{'utf8': 'a conversation they will assert tha...\n",
       "8     37460         3750  [{'utf8': 'to know about you because of that a...\n",
       "9     41210         1789  [{'utf8': 'And that's not the way to have a co..."
      ]
     },
     "execution_count": 60,
     "metadata": {},
     "output_type": "execute_result"
    }
   ],
   "source": [
    "# download a youtube video's CC\n",
    "import requests\n",
    "\n",
    "# CC obtained from https://www.youtube.com/watch?v=CzSMC5rWvos\n",
    "# inspect network activity and search for `timedtext`\n",
    "# copy the URL from the GET request below\n",
    "url = 'https://www.youtube.com/api/timedtext?v=CzSMC5rWvos&asr_langs=de,en,es,fr,it,ja,ko,nl,pt,ru&caps=asr&exp=xftt&xorp=true&xoaf=5&hl=en&ip=0.0.0.0&ipbits=0&expire=1615530631&sparams=ip,ipbits,expire,v,asr_langs,caps,exp,xorp,xoaf&signature=579F2EFAA169330AE6508E9E842DDE7F1E5767CD.C04A358157965E1049826EB448870761D8121579&key=yt8&lang=en&fmt=json3&xorb=2&xobt=3&xovt=3'\n",
    "cc = requests.get(url)\n",
    "cc = cc.json().get('events', [])\n",
    "df_cc = pd.DataFrame(cc)\n",
    "df_cc.head(10)"
   ]
  },
  {
   "cell_type": "code",
   "execution_count": 61,
   "id": "occasional-polymer",
   "metadata": {},
   "outputs": [
    {
     "data": {
      "text/html": [
       "<div>\n",
       "<style scoped>\n",
       "    .dataframe tbody tr th:only-of-type {\n",
       "        vertical-align: middle;\n",
       "    }\n",
       "\n",
       "    .dataframe tbody tr th {\n",
       "        vertical-align: top;\n",
       "    }\n",
       "\n",
       "    .dataframe thead th {\n",
       "        text-align: right;\n",
       "    }\n",
       "</style>\n",
       "<table border=\"1\" class=\"dataframe\">\n",
       "  <thead>\n",
       "    <tr style=\"text-align: right;\">\n",
       "      <th></th>\n",
       "      <th>text</th>\n",
       "    </tr>\n",
       "  </thead>\n",
       "  <tbody>\n",
       "    <tr>\n",
       "      <th>0</th>\n",
       "      <td>im often asked -- and occasionally in an accus...</td>\n",
       "    </tr>\n",
       "    <tr>\n",
       "      <th>1</th>\n",
       "      <td>and its like, you know, the only \"ist\" i am is...</td>\n",
       "    </tr>\n",
       "    <tr>\n",
       "      <th>2</th>\n",
       "      <td>i dont associate with movements.</td>\n",
       "    </tr>\n",
       "    <tr>\n",
       "      <th>3</th>\n",
       "      <td>im not an \"ism.\"</td>\n",
       "    </tr>\n",
       "    <tr>\n",
       "      <th>4</th>\n",
       "      <td>i just - i think for myself.</td>\n",
       "    </tr>\n",
       "    <tr>\n",
       "      <th>5</th>\n",
       "      <td>the moment when someone attaches to a philosop...</td>\n",
       "    </tr>\n",
       "    <tr>\n",
       "      <th>6</th>\n",
       "      <td>and all the rest of the philosophy that goes w...</td>\n",
       "    </tr>\n",
       "    <tr>\n",
       "      <th>7</th>\n",
       "      <td>a conversation they will assert that they alre...</td>\n",
       "    </tr>\n",
       "    <tr>\n",
       "      <th>8</th>\n",
       "      <td>to know about you because of that association.</td>\n",
       "    </tr>\n",
       "    <tr>\n",
       "      <th>9</th>\n",
       "      <td>and thats not the way to have a conversation.</td>\n",
       "    </tr>\n",
       "  </tbody>\n",
       "</table>\n",
       "</div>"
      ],
      "text/plain": [
       "                                                text\n",
       "0  im often asked -- and occasionally in an accus...\n",
       "1  and its like, you know, the only \"ist\" i am is...\n",
       "2                   i dont associate with movements.\n",
       "3                                   im not an \"ism.\"\n",
       "4                       i just - i think for myself.\n",
       "5  the moment when someone attaches to a philosop...\n",
       "6  and all the rest of the philosophy that goes w...\n",
       "7  a conversation they will assert that they alre...\n",
       "8     to know about you because of that association.\n",
       "9      and thats not the way to have a conversation."
      ]
     },
     "execution_count": 61,
     "metadata": {},
     "output_type": "execute_result"
    }
   ],
   "source": [
    "# a bit of cleanup\n",
    "def parse_segs(segs):\n",
    "    # assume a single segment subtitle\n",
    "    # obtain only the first segment\n",
    "    seg = segs[0]\n",
    "    # assume all keys are `utf8` here\n",
    "    text = seg.get('utf8', '')\n",
    "    return ' '.join(text.lower().replace(\"'\", '').split('\\n'))\n",
    "\n",
    "df_cc['text'] = df_cc['segs'].apply(parse_segs)\n",
    "df = df_cc[['text']]\n",
    "df.head(10)"
   ]
  },
  {
   "cell_type": "code",
   "execution_count": 62,
   "id": "described-constant",
   "metadata": {},
   "outputs": [
    {
     "data": {
      "text/html": [
       "<div>\n",
       "<style scoped>\n",
       "    .dataframe tbody tr th:only-of-type {\n",
       "        vertical-align: middle;\n",
       "    }\n",
       "\n",
       "    .dataframe tbody tr th {\n",
       "        vertical-align: top;\n",
       "    }\n",
       "\n",
       "    .dataframe thead th {\n",
       "        text-align: right;\n",
       "    }\n",
       "</style>\n",
       "<table border=\"1\" class=\"dataframe\">\n",
       "  <thead>\n",
       "    <tr style=\"text-align: right;\">\n",
       "      <th></th>\n",
       "      <th>text</th>\n",
       "      <th>emotion</th>\n",
       "      <th>score</th>\n",
       "    </tr>\n",
       "  </thead>\n",
       "  <tbody>\n",
       "    <tr>\n",
       "      <th>0</th>\n",
       "      <td>im often asked -- and occasionally in an accus...</td>\n",
       "      <td>anger</td>\n",
       "      <td>0.572</td>\n",
       "    </tr>\n",
       "    <tr>\n",
       "      <th>1</th>\n",
       "      <td>and its like, you know, the only \"ist\" i am is...</td>\n",
       "      <td>joy</td>\n",
       "      <td>0.372</td>\n",
       "    </tr>\n",
       "    <tr>\n",
       "      <th>2</th>\n",
       "      <td>i dont associate with movements.</td>\n",
       "      <td>joy</td>\n",
       "      <td>0.642</td>\n",
       "    </tr>\n",
       "    <tr>\n",
       "      <th>3</th>\n",
       "      <td>im not an \"ism.\"</td>\n",
       "      <td>joy</td>\n",
       "      <td>0.989</td>\n",
       "    </tr>\n",
       "    <tr>\n",
       "      <th>4</th>\n",
       "      <td>i just - i think for myself.</td>\n",
       "      <td>joy</td>\n",
       "      <td>0.874</td>\n",
       "    </tr>\n",
       "    <tr>\n",
       "      <th>5</th>\n",
       "      <td>the moment when someone attaches to a philosop...</td>\n",
       "      <td>anger</td>\n",
       "      <td>0.468</td>\n",
       "    </tr>\n",
       "    <tr>\n",
       "      <th>6</th>\n",
       "      <td>and all the rest of the philosophy that goes w...</td>\n",
       "      <td>anger</td>\n",
       "      <td>0.738</td>\n",
       "    </tr>\n",
       "    <tr>\n",
       "      <th>7</th>\n",
       "      <td>a conversation they will assert that they alre...</td>\n",
       "      <td>joy</td>\n",
       "      <td>0.998</td>\n",
       "    </tr>\n",
       "    <tr>\n",
       "      <th>8</th>\n",
       "      <td>to know about you because of that association.</td>\n",
       "      <td>joy</td>\n",
       "      <td>0.710</td>\n",
       "    </tr>\n",
       "    <tr>\n",
       "      <th>9</th>\n",
       "      <td>and thats not the way to have a conversation.</td>\n",
       "      <td>joy</td>\n",
       "      <td>0.542</td>\n",
       "    </tr>\n",
       "  </tbody>\n",
       "</table>\n",
       "</div>"
      ],
      "text/plain": [
       "                                                text emotion  score\n",
       "0  im often asked -- and occasionally in an accus...   anger  0.572\n",
       "1  and its like, you know, the only \"ist\" i am is...     joy  0.372\n",
       "2                   i dont associate with movements.     joy  0.642\n",
       "3                                   im not an \"ism.\"     joy  0.989\n",
       "4                       i just - i think for myself.     joy  0.874\n",
       "5  the moment when someone attaches to a philosop...   anger  0.468\n",
       "6  and all the rest of the philosophy that goes w...   anger  0.738\n",
       "7  a conversation they will assert that they alre...     joy  0.998\n",
       "8     to know about you because of that association.     joy  0.710\n",
       "9      and thats not the way to have a conversation.     joy  0.542"
      ]
     },
     "execution_count": 62,
     "metadata": {},
     "output_type": "execute_result"
    }
   ],
   "source": [
    "# apply our emotion model\n",
    "def add_emotion(row):\n",
    "    em = emotion_score(model, row['text'])\n",
    "    return pd.Series({**row, **em})\n",
    "\n",
    "df = df.apply(add_emotion, axis=1)\n",
    "df.head(10)"
   ]
  },
  {
   "cell_type": "code",
   "execution_count": 63,
   "id": "laughing-fusion",
   "metadata": {},
   "outputs": [
    {
     "data": {
      "text/plain": [
       "emotion\n",
       "joy         35\n",
       "anger        9\n",
       "sadness      7\n",
       "fear         4\n",
       "surprise     1\n",
       "love         1\n",
       "dtype: int64"
      ]
     },
     "execution_count": 63,
     "metadata": {},
     "output_type": "execute_result"
    }
   ],
   "source": [
    "df.value_counts('emotion')"
   ]
  },
  {
   "cell_type": "code",
   "execution_count": 64,
   "id": "seven-exception",
   "metadata": {},
   "outputs": [
    {
     "data": {
      "text/html": [
       "<div>\n",
       "<style scoped>\n",
       "    .dataframe tbody tr th:only-of-type {\n",
       "        vertical-align: middle;\n",
       "    }\n",
       "\n",
       "    .dataframe tbody tr th {\n",
       "        vertical-align: top;\n",
       "    }\n",
       "\n",
       "    .dataframe thead th {\n",
       "        text-align: right;\n",
       "    }\n",
       "</style>\n",
       "<table border=\"1\" class=\"dataframe\">\n",
       "  <thead>\n",
       "    <tr style=\"text-align: right;\">\n",
       "      <th></th>\n",
       "      <th>text</th>\n",
       "      <th>emotion</th>\n",
       "      <th>score</th>\n",
       "    </tr>\n",
       "  </thead>\n",
       "  <tbody>\n",
       "    <tr>\n",
       "      <th>0</th>\n",
       "      <td>im not an \"ism.\"</td>\n",
       "      <td>joy</td>\n",
       "      <td>0.989</td>\n",
       "    </tr>\n",
       "    <tr>\n",
       "      <th>1</th>\n",
       "      <td>i just - i think for myself.</td>\n",
       "      <td>joy</td>\n",
       "      <td>0.874</td>\n",
       "    </tr>\n",
       "    <tr>\n",
       "      <th>2</th>\n",
       "      <td>a conversation they will assert that they alre...</td>\n",
       "      <td>joy</td>\n",
       "      <td>0.998</td>\n",
       "    </tr>\n",
       "    <tr>\n",
       "      <th>3</th>\n",
       "      <td>im sorry.</td>\n",
       "      <td>joy</td>\n",
       "      <td>0.853</td>\n",
       "    </tr>\n",
       "    <tr>\n",
       "      <th>4</th>\n",
       "      <td>and assert, you know, whats going to happen in...</td>\n",
       "      <td>joy</td>\n",
       "      <td>0.967</td>\n",
       "    </tr>\n",
       "    <tr>\n",
       "      <th>5</th>\n",
       "      <td>so what people are really after is, what is my...</td>\n",
       "      <td>joy</td>\n",
       "      <td>0.881</td>\n",
       "    </tr>\n",
       "    <tr>\n",
       "      <th>6</th>\n",
       "      <td>if its there but if its not wont be forced to ...</td>\n",
       "      <td>anger</td>\n",
       "      <td>0.827</td>\n",
       "    </tr>\n",
       "    <tr>\n",
       "      <th>7</th>\n",
       "      <td>supported.</td>\n",
       "      <td>joy</td>\n",
       "      <td>1.000</td>\n",
       "    </tr>\n",
       "    <tr>\n",
       "      <th>8</th>\n",
       "      <td>okay.</td>\n",
       "      <td>joy</td>\n",
       "      <td>1.000</td>\n",
       "    </tr>\n",
       "    <tr>\n",
       "      <th>9</th>\n",
       "      <td>i find this intriguing.</td>\n",
       "      <td>joy</td>\n",
       "      <td>0.966</td>\n",
       "    </tr>\n",
       "  </tbody>\n",
       "</table>\n",
       "</div>"
      ],
      "text/plain": [
       "                                                text emotion  score\n",
       "0                                   im not an \"ism.\"     joy  0.989\n",
       "1                       i just - i think for myself.     joy  0.874\n",
       "2  a conversation they will assert that they alre...     joy  0.998\n",
       "3                                          im sorry.     joy  0.853\n",
       "4  and assert, you know, whats going to happen in...     joy  0.967\n",
       "5  so what people are really after is, what is my...     joy  0.881\n",
       "6  if its there but if its not wont be forced to ...   anger  0.827\n",
       "7                                         supported.     joy  1.000\n",
       "8                                              okay.     joy  1.000\n",
       "9                            i find this intriguing.     joy  0.966"
      ]
     },
     "execution_count": 64,
     "metadata": {},
     "output_type": "execute_result"
    }
   ],
   "source": [
    "df_80 = df.query('score > 0.8').reset_index(drop=True)\n",
    "df_80.head(10)"
   ]
  },
  {
   "cell_type": "code",
   "execution_count": 65,
   "id": "novel-studio",
   "metadata": {},
   "outputs": [
    {
     "data": {
      "text/plain": [
       "emotion\n",
       "joy         25\n",
       "surprise     1\n",
       "anger        1\n",
       "dtype: int64"
      ]
     },
     "execution_count": 65,
     "metadata": {},
     "output_type": "execute_result"
    }
   ],
   "source": [
    "df_80.value_counts('emotion')"
   ]
  },
  {
   "cell_type": "markdown",
   "id": "diagnostic-thanks",
   "metadata": {},
   "source": [
    "### Emotion-as-a-Service\n",
    "\n",
    "The demonstrations below are accessible through a hosted version of [its source code](https://github.com/eqworks/emotion-api)."
   ]
  },
  {
   "cell_type": "code",
   "execution_count": 67,
   "id": "shaped-dakota",
   "metadata": {},
   "outputs": [
    {
     "name": "stderr",
     "output_type": "stream",
     "text": [
      "Warning : `load_model` does not return WordVectorModel or SupervisedModel any more, but a `FastText` object which is very similar.\n"
     ]
    }
   ],
   "source": [
    "from flask import Flask, request, jsonify\n",
    "import fasttext\n",
    "\n",
    "\n",
    "app = Flask(__name__)\n",
    "model = fasttext.load_model('./emotions.bin')\n",
    "\n",
    "\n",
    "def emotion_score(model, text):\n",
    "    labels, scores = model.predict(text.lower())\n",
    "    return {'emotion': labels[0].split('__label__')[-1], 'score': round(scores[0], 3)}\n",
    "\n",
    "\n",
    "@app.route('/')\n",
    "def get_emotion():\n",
    "    text = request.args.get('t', request.args.get('text', ''))\n",
    "\n",
    "    if not text:\n",
    "        return jsonify({'error': 'You need to supply a text'}), 400\n",
    "\n",
    "    return jsonify({\n",
    "        'text': text,\n",
    "        **emotion_score(model, text),\n",
    "    })"
   ]
  },
  {
   "cell_type": "markdown",
   "id": "bulgarian-trader",
   "metadata": {},
   "source": [
    "And access it as an API:"
   ]
  },
  {
   "cell_type": "code",
   "execution_count": 69,
   "id": "transparent-nicaragua",
   "metadata": {},
   "outputs": [
    {
     "data": {
      "text/plain": [
       "{'emotion': 'joy',\n",
       " 'score': 0.995,\n",
       " 'text': 'Clap along if you know what happiness is to you'}"
      ]
     },
     "execution_count": 69,
     "metadata": {},
     "output_type": "execute_result"
    }
   ],
   "source": [
    "# import requests\n",
    "emotion = requests.get('https://sneaky-smiling-printer.glitch.me', params={'t': 'Clap along if you know what happiness is to you'})\n",
    "emotion.json()"
   ]
  },
  {
   "cell_type": "code",
   "execution_count": null,
   "id": "known-lithuania",
   "metadata": {},
   "outputs": [],
   "source": []
  }
 ],
 "metadata": {
  "kernelspec": {
   "display_name": "Python 3",
   "language": "python",
   "name": "python3"
  },
  "language_info": {
   "codemirror_mode": {
    "name": "ipython",
    "version": 3
   },
   "file_extension": ".py",
   "mimetype": "text/x-python",
   "name": "python",
   "nbconvert_exporter": "python",
   "pygments_lexer": "ipython3",
   "version": "3.8.2"
  }
 },
 "nbformat": 4,
 "nbformat_minor": 5
}
