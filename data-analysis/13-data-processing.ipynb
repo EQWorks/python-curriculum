{
 "cells": [
  {
   "cell_type": "markdown",
   "id": "defined-charles",
   "metadata": {},
   "source": [
    "# The Power of Parallel Processing feat. multithreading and multiprocessing"
   ]
  },
  {
   "cell_type": "markdown",
   "id": "auburn-variation",
   "metadata": {},
   "source": [
    "If you've worked with data, chances are you've had to deal with large datasets. and I mean LARGE!\n",
    "\n",
    "![Large Dataset](../img/large-dataset.jpeg)\n",
    "\n",
    "[Source](https://medium.com/@laxmi.vanam17/large-data-sets-in-machine-learning-4ce3a7916e92)\n",
    "\n",
    "When working with large datasets, one consequence is slower processing. To demonstrate, we are going to try to fetch some metadata about all the connections we have access to based on all the whitelabels we have access to without parallel processing."
   ]
  },
  {
   "cell_type": "markdown",
   "id": "secure-fence",
   "metadata": {},
   "source": [
    "First we'll get our API token by running `%env API_TOKEN` in one cell, then copy it and run `API_TOKEN = <pasted-token>` in another cell to set it as a variable. I've deleted the blocks so you can't see it (but you'll need to do these steps!)"
   ]
  },
  {
   "cell_type": "markdown",
   "id": "ecological-groove",
   "metadata": {},
   "source": [
    "Next, we'll see the list of whitelabels we have access to. For each whitelabel, we will then retrieve a list of connections and put it altogether to give us a master list. This is a part of `get_datasets('external')` though some filtering does happen."
   ]
  },
  {
   "cell_type": "code",
   "execution_count": 3,
   "id": "bronze-tuner",
   "metadata": {},
   "outputs": [
    {
     "data": {
      "text/html": [
       "<div>\n",
       "<style scoped>\n",
       "    .dataframe tbody tr th:only-of-type {\n",
       "        vertical-align: middle;\n",
       "    }\n",
       "\n",
       "    .dataframe tbody tr th {\n",
       "        vertical-align: top;\n",
       "    }\n",
       "\n",
       "    .dataframe thead th {\n",
       "        text-align: right;\n",
       "    }\n",
       "</style>\n",
       "<table border=\"1\" class=\"dataframe\">\n",
       "  <thead>\n",
       "    <tr style=\"text-align: right;\">\n",
       "      <th></th>\n",
       "      <th>whitelabelid</th>\n",
       "      <th>company</th>\n",
       "    </tr>\n",
       "  </thead>\n",
       "  <tbody>\n",
       "    <tr>\n",
       "      <th>0</th>\n",
       "      <td>1</td>\n",
       "      <td>Atom</td>\n",
       "    </tr>\n",
       "    <tr>\n",
       "      <th>1</th>\n",
       "      <td>2</td>\n",
       "      <td>AdLoop</td>\n",
       "    </tr>\n",
       "    <tr>\n",
       "      <th>2</th>\n",
       "      <td>3</td>\n",
       "      <td>Advantex</td>\n",
       "    </tr>\n",
       "    <tr>\n",
       "      <th>3</th>\n",
       "      <td>4</td>\n",
       "      <td>WL TEST</td>\n",
       "    </tr>\n",
       "    <tr>\n",
       "      <th>4</th>\n",
       "      <td>5</td>\n",
       "      <td>Hydropool</td>\n",
       "    </tr>\n",
       "    <tr>\n",
       "      <th>5</th>\n",
       "      <td>6</td>\n",
       "      <td>Gourmet</td>\n",
       "    </tr>\n",
       "    <tr>\n",
       "      <th>6</th>\n",
       "      <td>7</td>\n",
       "      <td>CHR</td>\n",
       "    </tr>\n",
       "    <tr>\n",
       "      <th>7</th>\n",
       "      <td>8</td>\n",
       "      <td>FreeMedia</td>\n",
       "    </tr>\n",
       "    <tr>\n",
       "      <th>8</th>\n",
       "      <td>9</td>\n",
       "      <td>Metroland</td>\n",
       "    </tr>\n",
       "    <tr>\n",
       "      <th>9</th>\n",
       "      <td>10</td>\n",
       "      <td>Ocono</td>\n",
       "    </tr>\n",
       "  </tbody>\n",
       "</table>\n",
       "</div>"
      ],
      "text/plain": [
       "   whitelabelid    company\n",
       "0             1       Atom\n",
       "1             2     AdLoop\n",
       "2             3   Advantex\n",
       "3             4    WL TEST\n",
       "4             5  Hydropool\n",
       "5             6    Gourmet\n",
       "6             7        CHR\n",
       "7             8  FreeMedia\n",
       "8             9  Metroland\n",
       "9            10      Ocono"
      ]
     },
     "execution_count": 3,
     "metadata": {},
     "output_type": "execute_result"
    }
   ],
   "source": [
    "import locussdk as locus\n",
    "import pandas as pd\n",
    "\n",
    "whitelabels = locus.get_whitelabel()\n",
    "pd.DataFrame(whitelabels[0:10])"
   ]
  },
  {
   "cell_type": "code",
   "execution_count": 4,
   "id": "distinguished-essay",
   "metadata": {},
   "outputs": [
    {
     "name": "stdout",
     "output_type": "stream",
     "text": [
      "CPU times: user 2.41 s, sys: 107 ms, total: 2.51 s\n",
      "Wall time: 37.8 s\n"
     ]
    }
   ],
   "source": [
    "%%time\n",
    "import requests\n",
    "\n",
    "headers = {'eq-api-jwt': API_TOKEN}\n",
    "route = 'https://api.locus.place/prod'\n",
    "\n",
    "connections = []\n",
    "for wl in whitelabels:\n",
    "    params = {'whitelabel': wl['whitelabelid']}\n",
    "    r = requests.get(f\"{route}/connections\", params=params, headers=headers)\n",
    "    connections.extend(r.json())"
   ]
  },
  {
   "cell_type": "markdown",
   "id": "median-richmond",
   "metadata": {},
   "source": [
    "If you don't believe that it's there, run the next line!"
   ]
  },
  {
   "cell_type": "code",
   "execution_count": 5,
   "id": "ordered-unknown",
   "metadata": {},
   "outputs": [
    {
     "data": {
      "text/html": [
       "<div>\n",
       "<style scoped>\n",
       "    .dataframe tbody tr th:only-of-type {\n",
       "        vertical-align: middle;\n",
       "    }\n",
       "\n",
       "    .dataframe tbody tr th {\n",
       "        vertical-align: top;\n",
       "    }\n",
       "\n",
       "    .dataframe thead th {\n",
       "        text-align: right;\n",
       "    }\n",
       "</style>\n",
       "<table border=\"1\" class=\"dataframe\">\n",
       "  <thead>\n",
       "    <tr style=\"text-align: right;\">\n",
       "      <th></th>\n",
       "      <th>id</th>\n",
       "      <th>set_id</th>\n",
       "      <th>set_name</th>\n",
       "      <th>columns</th>\n",
       "      <th>whitelabel</th>\n",
       "      <th>customer</th>\n",
       "      <th>type</th>\n",
       "      <th>name</th>\n",
       "      <th>created</th>\n",
       "      <th>updated</th>\n",
       "      <th>last_sync</th>\n",
       "      <th>is_syncing</th>\n",
       "      <th>records</th>\n",
       "    </tr>\n",
       "  </thead>\n",
       "  <tbody>\n",
       "    <tr>\n",
       "      <th>0</th>\n",
       "      <td>1576</td>\n",
       "      <td>122</td>\n",
       "      <td>COVID Ontario</td>\n",
       "      <td>{'Row_ID': {'hash': False, 'type': 'Number', '...</td>\n",
       "      <td>1</td>\n",
       "      <td>9324</td>\n",
       "      <td>google sheet</td>\n",
       "      <td>COVID Ontario</td>\n",
       "      <td>2021-01-21T19:48:09.099Z</td>\n",
       "      <td>2021-01-21T19:52:42.148Z</td>\n",
       "      <td>2021-01-21T19:52:42.153Z</td>\n",
       "      <td>False</td>\n",
       "      <td>197152</td>\n",
       "    </tr>\n",
       "    <tr>\n",
       "      <th>1</th>\n",
       "      <td>1570</td>\n",
       "      <td>120</td>\n",
       "      <td>test gs2</td>\n",
       "      <td>{'col_1': {'hash': False, 'type': 'Number', 'd...</td>\n",
       "      <td>1</td>\n",
       "      <td>9324</td>\n",
       "      <td>google sheet</td>\n",
       "      <td>test gs2</td>\n",
       "      <td>2021-01-20T23:30:12.363Z</td>\n",
       "      <td>2021-01-20T23:30:32.727Z</td>\n",
       "      <td>2021-01-20T23:30:32.731Z</td>\n",
       "      <td>False</td>\n",
       "      <td>5</td>\n",
       "    </tr>\n",
       "    <tr>\n",
       "      <th>2</th>\n",
       "      <td>1585</td>\n",
       "      <td>123</td>\n",
       "      <td>test new branch</td>\n",
       "      <td>{'col_1': {'hash': False, 'type': 'Number', 'd...</td>\n",
       "      <td>1</td>\n",
       "      <td>9324</td>\n",
       "      <td>google sheet</td>\n",
       "      <td>test new branch</td>\n",
       "      <td>2021-01-22T15:18:57.636Z</td>\n",
       "      <td>2021-01-22T15:19:17.292Z</td>\n",
       "      <td>2021-01-22T15:19:17.297Z</td>\n",
       "      <td>False</td>\n",
       "      <td>5</td>\n",
       "    </tr>\n",
       "    <tr>\n",
       "      <th>3</th>\n",
       "      <td>1573</td>\n",
       "      <td>121</td>\n",
       "      <td>test gs string</td>\n",
       "      <td>{'col_1': {'hash': False, 'type': 'string', 'd...</td>\n",
       "      <td>1</td>\n",
       "      <td>9324</td>\n",
       "      <td>google sheet</td>\n",
       "      <td>test gs string</td>\n",
       "      <td>2021-01-21T15:30:02.203Z</td>\n",
       "      <td>2021-01-21T17:03:09.559Z</td>\n",
       "      <td>2021-01-21T17:03:09.564Z</td>\n",
       "      <td>False</td>\n",
       "      <td>5</td>\n",
       "    </tr>\n",
       "    <tr>\n",
       "      <th>4</th>\n",
       "      <td>1569</td>\n",
       "      <td>119</td>\n",
       "      <td>test gs</td>\n",
       "      <td>{'col_1': {'hash': False, 'type': 'Number', 'd...</td>\n",
       "      <td>1</td>\n",
       "      <td>9324</td>\n",
       "      <td>google sheet</td>\n",
       "      <td>test gs</td>\n",
       "      <td>2021-01-20T23:23:57.193Z</td>\n",
       "      <td>2021-01-20T23:24:25.218Z</td>\n",
       "      <td>2021-01-20T23:24:25.221Z</td>\n",
       "      <td>False</td>\n",
       "      <td>5</td>\n",
       "    </tr>\n",
       "  </tbody>\n",
       "</table>\n",
       "</div>"
      ],
      "text/plain": [
       "     id  set_id         set_name  \\\n",
       "0  1576     122    COVID Ontario   \n",
       "1  1570     120         test gs2   \n",
       "2  1585     123  test new branch   \n",
       "3  1573     121   test gs string   \n",
       "4  1569     119          test gs   \n",
       "\n",
       "                                             columns  whitelabel  customer  \\\n",
       "0  {'Row_ID': {'hash': False, 'type': 'Number', '...           1      9324   \n",
       "1  {'col_1': {'hash': False, 'type': 'Number', 'd...           1      9324   \n",
       "2  {'col_1': {'hash': False, 'type': 'Number', 'd...           1      9324   \n",
       "3  {'col_1': {'hash': False, 'type': 'string', 'd...           1      9324   \n",
       "4  {'col_1': {'hash': False, 'type': 'Number', 'd...           1      9324   \n",
       "\n",
       "           type             name                   created  \\\n",
       "0  google sheet    COVID Ontario  2021-01-21T19:48:09.099Z   \n",
       "1  google sheet         test gs2  2021-01-20T23:30:12.363Z   \n",
       "2  google sheet  test new branch  2021-01-22T15:18:57.636Z   \n",
       "3  google sheet   test gs string  2021-01-21T15:30:02.203Z   \n",
       "4  google sheet          test gs  2021-01-20T23:23:57.193Z   \n",
       "\n",
       "                    updated                 last_sync  is_syncing  records  \n",
       "0  2021-01-21T19:52:42.148Z  2021-01-21T19:52:42.153Z       False   197152  \n",
       "1  2021-01-20T23:30:32.727Z  2021-01-20T23:30:32.731Z       False        5  \n",
       "2  2021-01-22T15:19:17.292Z  2021-01-22T15:19:17.297Z       False        5  \n",
       "3  2021-01-21T17:03:09.559Z  2021-01-21T17:03:09.564Z       False        5  \n",
       "4  2021-01-20T23:24:25.218Z  2021-01-20T23:24:25.221Z       False        5  "
      ]
     },
     "execution_count": 5,
     "metadata": {},
     "output_type": "execute_result"
    }
   ],
   "source": [
    "pd.DataFrame(connections[0:5])"
   ]
  },
  {
   "cell_type": "markdown",
   "id": "cooked-spencer",
   "metadata": {},
   "source": [
    "To avoid spending lots of time waiting around, one way is to optimize the runtime of your code by using parallel processing. Parallel Processing is nothing new to us. Here's an example: Imagine you're an EQ data analyst and you find out there are 3 reports waiting to be done for a specific client. You can either do all 3 reports yourself one by one, or get 2 other data analysts to help you out perhaps by taking one part in each report or doing one report each. Parallel processing is the second option.\n",
    "\n",
    "![single vs parallel.png](../img/single-vs-parallel.png)\n",
    "\n",
    "Python offers this capability of parallel processing in 2 ways, through 2 modules: multiprocessing and threading! You'll see this example again later in multithreading."
   ]
  },
  {
   "cell_type": "markdown",
   "id": "prescription-status",
   "metadata": {},
   "source": [
    "# What is multiprocessing?"
   ]
  },
  {
   "cell_type": "markdown",
   "id": "recognized-german",
   "metadata": {},
   "source": [
    "Python was designed this in mind: computers would only have one core. One process to be run by the one core at a time. Process is an executable program (so running some code) with its own memory space. But nowadays, that's not the case- computers have multiple cores. Since Python was not designed to have multiple processes run at the same time so there was potential of memory getting mixed up between the processes. It's like suddenly being able to read someone else's thoughts all of a sudden which can get chaotic. So Python has a Global Interpreter Lock (GIL) in place to help manage memory management and run one process with one core at a time. But this means Python doesn't effectively use all of the cores that are at its disposal. That's where multiprocessing comes in: create multiple processes with its own memory space for each core.\n",
    "![Multiprocessing](../img/multiprocessing.png)\n",
    "[Source](https://levelup.gitconnected.com/multi-threading-and-multiprocessing-in-python-3d5662f4a528)\n",
    "\n",
    "Multiprocessing bypasses GIL and uses all cores (one process per core). You'll see the speed difference in a bit through an example with pandas and Modin. An analogy of this would be 3 data analysts working on 1 report as opposed to 1 data analyst working on 3 reports."
   ]
  },
  {
   "cell_type": "markdown",
   "id": "allied-bible",
   "metadata": {},
   "source": [
    "# When would you use multiprocessing?"
   ]
  },
  {
   "cell_type": "markdown",
   "id": "noted-genius",
   "metadata": {},
   "source": [
    "This method is great for CPU-intensive processes like deep analyses, heavy filtering and data manipulation. By having multiple processes, you lighten the load instead of one process doing all of the work, like in the data analyst scenario."
   ]
  },
  {
   "cell_type": "markdown",
   "id": "indirect-registrar",
   "metadata": {},
   "source": [
    "# Mulitprocessing in Python for Data Analysis\n",
    "## Introduction to Pandas Data Frames\n",
    "Pandas is a highly optimzed library written in C or Cython that provides data structures along with the neccessary tools to load and operate on them. It includes two principal data structures, `series` and `dataframes`. The dataframe is two-dimensional, size-mutable, potentially heterogeneous tabular data which resembles a standard spreadsheet. \n",
    "\n",
    "Python with pandas is in use in a wide variety of academic and commercial domains, including Finance, Neuroscience, Economics, Statistics, Advertising, Web Analytics, and more because it supports the following features and more: \n",
    "\n",
    "- A fast and efficient DataFrame object for data manipulation with integrated indexing\n",
    "\n",
    "- Tools for reading and writing data between in-memory data structures and different formats: CSV and text files, Microsoft Excel, SQL databases, and the fast HDF5 format\n",
    "\n",
    "- Flexible reshaping and pivoting of data sets\n",
    "\n",
    "- Columns can be inserted and deleted from data structures for size mutability\n",
    "\n",
    "- Aggregating or transforming data with a powerful group by engine allowing split-apply-combine operations on data sets;\n",
    "\n",
    "- High performance merging and joining of data sets;\n",
    "\n",
    "- Hierarchical axis indexing provides an intuitive way of working with high-dimensional data in a lower-dimensional data structure;    "
   ]
  },
  {
   "cell_type": "markdown",
   "id": "sublime-commonwealth",
   "metadata": {},
   "source": [
    "# If Pandas is so great why do we need anything else? \n",
    "The popularity of Pandas is largely due to it's maturity and time in use but, it was written to use a single processor and loads the entire dataframe into memory thus, severely lowering it's scalability and efficiency. In the last few years the open source community has developed modules built on top of Pandas like Dask, Ray, and Modin which run python code across compute clusters or parallelize code to run on several clusters. RAPIDs for example, is a partial Pandas replacement that runs code on GPUs. "
   ]
  },
  {
   "cell_type": "markdown",
   "id": "alternate-transsexual",
   "metadata": {},
   "source": [
    "![ModinVDataframe](../img/mostcommonpandas.png)"
   ]
  },
  {
   "cell_type": "markdown",
   "id": "compact-mailing",
   "metadata": {},
   "source": [
    "## Introduction to Modin\n",
    "\n",
    "Modin was designed for terrabyte sized data sets by splitting the dataframe into smaller more manageble units allowing it to be loaded into separate processors and memory thus, parallelizing your Python code. \n",
    "\n",
    "It covers 90% of the Pandas API with a focus on the most commonly used Pandas methods. Modin is a superset of Pandas which means the remaining falls back to native Pandas. "
   ]
  },
  {
   "cell_type": "markdown",
   "id": "increasing-greeting",
   "metadata": {},
   "source": [
    "![ModinVDataframe](../img/PandasVModin1.png)"
   ]
  },
  {
   "cell_type": "markdown",
   "id": "married-review",
   "metadata": {},
   "source": [
    "## Using Modin\n",
    "\n",
    "Modin includes a scheduler that abstracts the hardware from the interpreter so that you don't need to manage it within your code.\n",
    "\n",
    "You can learn more about how to install and use it at https://github.com/modin-project/modin."
   ]
  },
  {
   "cell_type": "markdown",
   "id": "lonely-people",
   "metadata": {},
   "source": [
    "![Modinarchitecture](../img/modin_architecture.png)"
   ]
  },
  {
   "cell_type": "markdown",
   "id": "caring-stack",
   "metadata": {},
   "source": [
    "Run the next few cells to see the runtime when using pandas. Once you're done, re-run these cells using Modin!"
   ]
  },
  {
   "cell_type": "code",
   "execution_count": 6,
   "id": "suburban-longitude",
   "metadata": {},
   "outputs": [],
   "source": [
    "import locussdk as locus\n",
    "import pandas as pd\n",
    "# import modin.pandas as pd"
   ]
  },
  {
   "cell_type": "code",
   "execution_count": 7,
   "id": "private-cliff",
   "metadata": {},
   "outputs": [
    {
     "data": {
      "text/plain": [
       "[{'date_range_type': 'week',\n",
       "  'date_range': {'date_type': 2,\n",
       "   'start_date': '2020-01-01T00:00:00.000Z',\n",
       "   'end_date': '2020-01-05T00:00:00.000Z'}},\n",
       " {'date_range_type': 'week',\n",
       "  'date_range': {'date_type': 2,\n",
       "   'start_date': '2020-01-06T00:00:00.000Z',\n",
       "   'end_date': '2020-01-12T00:00:00.000Z'}},\n",
       " {'date_range_type': 'week',\n",
       "  'date_range': {'date_type': 2,\n",
       "   'start_date': '2020-01-13T00:00:00.000Z',\n",
       "   'end_date': '2020-01-19T00:00:00.000Z'}},\n",
       " {'date_range_type': 'week',\n",
       "  'date_range': {'date_type': 2,\n",
       "   'start_date': '2020-01-20T00:00:00.000Z',\n",
       "   'end_date': '2020-01-26T00:00:00.000Z'}},\n",
       " {'date_range_type': 'week',\n",
       "  'date_range': {'date_type': 2,\n",
       "   'start_date': '2020-01-27T00:00:00.000Z',\n",
       "   'end_date': '2020-01-31T00:00:00.000Z'}},\n",
       " {'date_range_type': 'month',\n",
       "  'date_range': {'date_type': 3,\n",
       "   'start_date': '2020-01-01T00:00:00.000Z',\n",
       "   'end_date': '2020-01-31T00:00:00.000Z'}}]"
      ]
     },
     "execution_count": 7,
     "metadata": {},
     "output_type": "execute_result"
    }
   ],
   "source": [
    "report = 2163\n",
    "locus.get_aoi_frequencies(report)"
   ]
  },
  {
   "cell_type": "code",
   "execution_count": 8,
   "id": "organic-baseball",
   "metadata": {},
   "outputs": [],
   "source": [
    "date_range = locus.get_aoi_frequencies(report)[5]['date_range']"
   ]
  },
  {
   "cell_type": "code",
   "execution_count": 9,
   "id": "fancy-musician",
   "metadata": {},
   "outputs": [
    {
     "name": "stdout",
     "output_type": "stream",
     "text": [
      "CPU times: user 571 ms, sys: 44.1 ms, total: 615 ms\n",
      "Wall time: 657 ms\n"
     ]
    }
   ],
   "source": [
    "%%time\n",
    "df = locus.get_dataset('eq', report, enhancement = 'aoi', date_range=date_range, resolution='postalcode' )"
   ]
  },
  {
   "cell_type": "code",
   "execution_count": 10,
   "id": "rising-symphony",
   "metadata": {},
   "outputs": [
    {
     "name": "stdout",
     "output_type": "stream",
     "text": [
      "12514\n",
      "51\n",
      "CPU times: user 7.33 ms, sys: 0 ns, total: 7.33 ms\n",
      "Wall time: 6.17 ms\n"
     ]
    }
   ],
   "source": [
    "%%time\n",
    "df.head()\n",
    "print(len(df['geo_id'].unique())) \n",
    "print(len(df['poi_id'].unique()))"
   ]
  },
  {
   "cell_type": "code",
   "execution_count": 11,
   "id": "rational-organ",
   "metadata": {},
   "outputs": [
    {
     "name": "stdout",
     "output_type": "stream",
     "text": [
      "CPU times: user 22.2 ms, sys: 144 µs, total: 22.4 ms\n",
      "Wall time: 21.4 ms\n"
     ]
    }
   ],
   "source": [
    "%%time\n",
    "visit_per_pc = df.groupby('geo_id').sum()['visits']"
   ]
  },
  {
   "cell_type": "code",
   "execution_count": 12,
   "id": "legitimate-fifty",
   "metadata": {},
   "outputs": [
    {
     "name": "stdout",
     "output_type": "stream",
     "text": [
      "CPU times: user 9.46 ms, sys: 99 µs, total: 9.56 ms\n",
      "Wall time: 8.01 ms\n"
     ]
    },
    {
     "data": {
      "text/plain": [
       "63"
      ]
     },
     "execution_count": 12,
     "metadata": {},
     "output_type": "execute_result"
    }
   ],
   "source": [
    "%%time\n",
    "df_top = pd.DataFrame(visit_per_pc[visit_per_pc.gt(visit_per_pc.quantile(0.995))]).sort_values('visits',ascending=False).reset_index()\n",
    "len(df_top)"
   ]
  },
  {
   "cell_type": "code",
   "execution_count": 13,
   "id": "brutal-symposium",
   "metadata": {},
   "outputs": [
    {
     "name": "stdout",
     "output_type": "stream",
     "text": [
      "CPU times: user 117 ms, sys: 11.4 ms, total: 129 ms\n",
      "Wall time: 11.5 s\n"
     ]
    }
   ],
   "source": [
    "%%time\n",
    "top_geojson = locus.get_geojson_pc(list(df_top['geo_id']))"
   ]
  },
  {
   "cell_type": "code",
   "execution_count": 14,
   "id": "attended-certificate",
   "metadata": {},
   "outputs": [
    {
     "name": "stdout",
     "output_type": "stream",
     "text": [
      "CPU times: user 4.33 ms, sys: 21 µs, total: 4.35 ms\n",
      "Wall time: 3.21 ms\n"
     ]
    },
    {
     "data": {
      "text/html": [
       "<div>\n",
       "<style scoped>\n",
       "    .dataframe tbody tr th:only-of-type {\n",
       "        vertical-align: middle;\n",
       "    }\n",
       "\n",
       "    .dataframe tbody tr th {\n",
       "        vertical-align: top;\n",
       "    }\n",
       "\n",
       "    .dataframe thead th {\n",
       "        text-align: right;\n",
       "    }\n",
       "</style>\n",
       "<table border=\"1\" class=\"dataframe\">\n",
       "  <thead>\n",
       "    <tr style=\"text-align: right;\">\n",
       "      <th></th>\n",
       "      <th>geo_id</th>\n",
       "      <th>visits</th>\n",
       "    </tr>\n",
       "  </thead>\n",
       "  <tbody>\n",
       "    <tr>\n",
       "      <th>0</th>\n",
       "      <td>L0K1S0</td>\n",
       "      <td>562</td>\n",
       "    </tr>\n",
       "    <tr>\n",
       "      <th>1</th>\n",
       "      <td>L0S1N0</td>\n",
       "      <td>525</td>\n",
       "    </tr>\n",
       "    <tr>\n",
       "      <th>2</th>\n",
       "      <td>L4B4H6</td>\n",
       "      <td>475</td>\n",
       "    </tr>\n",
       "    <tr>\n",
       "      <th>3</th>\n",
       "      <td>L0S1J0</td>\n",
       "      <td>473</td>\n",
       "    </tr>\n",
       "    <tr>\n",
       "      <th>4</th>\n",
       "      <td>L0G1M0</td>\n",
       "      <td>471</td>\n",
       "    </tr>\n",
       "    <tr>\n",
       "      <th>...</th>\n",
       "      <td>...</td>\n",
       "      <td>...</td>\n",
       "    </tr>\n",
       "    <tr>\n",
       "      <th>342</th>\n",
       "      <td>L0L2L0</td>\n",
       "      <td>101</td>\n",
       "    </tr>\n",
       "    <tr>\n",
       "      <th>343</th>\n",
       "      <td>M1B3S3</td>\n",
       "      <td>101</td>\n",
       "    </tr>\n",
       "    <tr>\n",
       "      <th>344</th>\n",
       "      <td>L4B3P9</td>\n",
       "      <td>101</td>\n",
       "    </tr>\n",
       "    <tr>\n",
       "      <th>345</th>\n",
       "      <td>L6A1E9</td>\n",
       "      <td>101</td>\n",
       "    </tr>\n",
       "    <tr>\n",
       "      <th>346</th>\n",
       "      <td>L4B2G2</td>\n",
       "      <td>101</td>\n",
       "    </tr>\n",
       "  </tbody>\n",
       "</table>\n",
       "<p>347 rows × 2 columns</p>\n",
       "</div>"
      ],
      "text/plain": [
       "     geo_id  visits\n",
       "0    L0K1S0     562\n",
       "1    L0S1N0     525\n",
       "2    L4B4H6     475\n",
       "3    L0S1J0     473\n",
       "4    L0G1M0     471\n",
       "..      ...     ...\n",
       "342  L0L2L0     101\n",
       "343  M1B3S3     101\n",
       "344  L4B3P9     101\n",
       "345  L6A1E9     101\n",
       "346  L4B2G2     101\n",
       "\n",
       "[347 rows x 2 columns]"
      ]
     },
     "execution_count": 14,
     "metadata": {},
     "output_type": "execute_result"
    }
   ],
   "source": [
    "%%time\n",
    "df_demo = pd.DataFrame(visit_per_pc[visit_per_pc>100]).sort_values('visits',ascending=False).reset_index()\n",
    "df_demo"
   ]
  },
  {
   "cell_type": "code",
   "execution_count": 15,
   "id": "spiritual-negative",
   "metadata": {},
   "outputs": [],
   "source": [
    "# locus.list_enrichment('demographic')"
   ]
  },
  {
   "cell_type": "code",
   "execution_count": 16,
   "id": "changed-compound",
   "metadata": {},
   "outputs": [],
   "source": [
    "# %%time\n",
    "# df_enrich_income = locus.enrich(df_demo, 'demographic', 'Household Income')"
   ]
  },
  {
   "cell_type": "code",
   "execution_count": 17,
   "id": "competitive-working",
   "metadata": {},
   "outputs": [],
   "source": [
    "# %%time\n",
    "# df_enrich_income"
   ]
  },
  {
   "cell_type": "code",
   "execution_count": 18,
   "id": "spoken-hamilton",
   "metadata": {},
   "outputs": [],
   "source": [
    "# %%time\n",
    "# df_enrich_education = locus.enrich(df_demo, 'demographic', 'Education Breakdown')"
   ]
  },
  {
   "cell_type": "code",
   "execution_count": 19,
   "id": "historic-breakdown",
   "metadata": {},
   "outputs": [],
   "source": [
    "# %%time\n",
    "# df_enrich_education"
   ]
  },
  {
   "cell_type": "code",
   "execution_count": 20,
   "id": "equal-hunger",
   "metadata": {},
   "outputs": [],
   "source": [
    "# %%time\n",
    "# pd.DataFrame(df_enrich_education.drop('visits',axis=1).mean().reset_index())"
   ]
  },
  {
   "cell_type": "code",
   "execution_count": 21,
   "id": "annual-gravity",
   "metadata": {},
   "outputs": [],
   "source": [
    "# %%time\n",
    "# df_enrich_age = locus.enrich(df_demo, 'demographic', 'Resident Age Breakdown')"
   ]
  },
  {
   "cell_type": "code",
   "execution_count": 22,
   "id": "behavioral-petite",
   "metadata": {},
   "outputs": [],
   "source": [
    "# %%time\n",
    "# df_enrich_age"
   ]
  },
  {
   "attachments": {
    "74afa294-970b-4f0f-ae35-64486699a156.png": {
     "image/png": "[encoded data removed]"
    },
    "bb47b161-8add-46ac-97bb-bc52626e30c0.png": {
     "image/png": "[encoded data removed]"
    }
   },
   "cell_type": "markdown",
   "id": "aware-halifax",
   "metadata": {},
   "source": [
    "Now go back to the first cell below the Modin image and comment out `import pandas as pd`. Comment back in `import modin.pandas as pd` and see how much faster it runs! You should see a drop in runtime like this:\n",
    "\n",
    "### Pandas\n",
    "![pandas geojson method 11.5s](../img/run-pandas.png)\n",
    "\n",
    "### Modin.pandas\n",
    "![pandas geojson method 1.5s](../img/run-modin.png)"
   ]
  },
  {
   "cell_type": "markdown",
   "id": "respiratory-plaza",
   "metadata": {},
   "source": [
    "# You mentioned threading, what is multithreading?"
   ]
  },
  {
   "cell_type": "markdown",
   "id": "invisible-specialist",
   "metadata": {},
   "source": [
    "If the tasks aren't CPU-intensive such as data fetching and other I/O operations like web scraping or reading files, we can leverage threading. Threads are components of a process that work in parallel and share the same memory space. As mentioned earlier, a process is executable code with its own memory space. When data fetching, one process is enough (instead of multiple processes) since the processor will be waiting around for data to come back so we can fetch data in parallel by using threads. Python will execute one thread at a time utilizing the one process.\n",
    "\n",
    "An example is: think about multiple people editing a google document in real-time. The google document is one memory space and multiple people are adding text to this document. Think of each person as a thread. In our data analyst example, it's like 3 analysts working on one report to speed up the process. In multiprocessing, it'd be like multiple google documents being edited by 1 person each or in our data analyst example, 1 data analyst doing 1 report each.\n",
    "\n",
    "### Multithreading\n",
    "![Multithreading](../img/multithreading-analogy.png)\n",
    "\n",
    "### Multiprocessing\n",
    "![Multiprocessing](../img/multiprocessing-analogy.png)"
   ]
  },
  {
   "cell_type": "markdown",
   "id": "after-perfume",
   "metadata": {},
   "source": [
    "# So when would we use threading?"
   ]
  },
  {
   "cell_type": "markdown",
   "id": "angry-leave",
   "metadata": {},
   "source": [
    "1. Creating processes can be a bit slow so if the code that you are running is not CPU-intensive such as data fetching, threading is a great option. Creating threads is much more lightweight than creating processes. \n",
    "2. Sharing objects is easier between threads since they share the same memory space so if you're fetching from many different areas and combining the data, threading is good.\n",
    "![Multithreading diagram](../img/threading-diagram.jpeg)\n",
    "[Source](https://timber.io/blog/multiprocessing-vs-multithreading-in-python-what-you-need-to-know/)"
   ]
  },
  {
   "cell_type": "markdown",
   "id": "bottom-assurance",
   "metadata": {},
   "source": [
    "# When should we not use threading?"
   ]
  },
  {
   "cell_type": "markdown",
   "id": "acute-habitat",
   "metadata": {},
   "source": [
    "1. There is overhead associated with managing threads\n",
    "2. Increases the complexity of the program, which can make debugging more difficult"
   ]
  },
  {
   "cell_type": "markdown",
   "id": "sustained-roman",
   "metadata": {},
   "source": [
    "# An example of multithreading using ThreadPoolExecutor"
   ]
  },
  {
   "cell_type": "markdown",
   "id": "ancient-nirvana",
   "metadata": {},
   "source": [
    "We use multithreading quite a bit in locussdk as well as the backend providing the data into locussdk for LOCUS Notebook. \n",
    "\n",
    "`ThreadPoolExecutor` from the in-built library, `concurrent.futures` is one way to use multithreading. What it does is it creates threads and groups them altogether in one pool of memory. Based on the number of threads, each thread simultaneously takes on a task. Once it's done, if there is information sent back, the information is stored in `as_completed`. One example is getting a list of all external datasets a.k.a the connections made in Connection Hub in locussdk.\n",
    "\n",
    "Let's first create a helper function for fetching connections for a single whitelabel."
   ]
  },
  {
   "cell_type": "code",
   "execution_count": 23,
   "id": "fifth-report",
   "metadata": {},
   "outputs": [],
   "source": [
    "route = 'https://api.locus.place/prod'\n",
    "def get_connections_per_whitelabel(wl):\n",
    "    params = {'whitelabel': wl['whitelabelid']}\n",
    "    r = requests.get(f\"{route}/connections\", params=params, headers=headers)\n",
    "    return r.json()"
   ]
  },
  {
   "cell_type": "markdown",
   "id": "abroad-entrance",
   "metadata": {},
   "source": [
    "Now we'll use ThreadPoolExecutor to do the same thing that we did in the beginning with the for loop, except there's a few things to note:\n",
    "- we need to create a variable for collecting all of the tasks a.k.a the queue called `conn_tasks`'\n",
    "- we need to specify how many threads can be created based on the workload provided (the queue)\n",
    "- `executor.submit` will execute our helper function which is provided as the first argument. The rest of the arguments are for our helper function (which requires one). So if our helper function required 2 arguments, `executor.submit` would have 3 arguments, not 2.\n",
    "- as_completed will contain all of the results from each thread that's done their task from the queue (which we provide as an argument)"
   ]
  },
  {
   "cell_type": "code",
   "execution_count": 24,
   "id": "answering-sydney",
   "metadata": {},
   "outputs": [
    {
     "name": "stdout",
     "output_type": "stream",
     "text": [
      "CPU times: user 2.47 s, sys: 171 ms, total: 2.64 s\n",
      "Wall time: 5.92 s\n"
     ]
    }
   ],
   "source": [
    "%%time\n",
    "\n",
    "from concurrent.futures import ThreadPoolExecutor, as_completed\n",
    "\n",
    "import requests\n",
    "\n",
    "headers = {'eq-api-jwt': API_TOKEN}\n",
    "threads = 8\n",
    "connections_pp = []\n",
    "conn_tasks = []\n",
    "\n",
    "with ThreadPoolExecutor(max_workers=threads) as executor:\n",
    "    for wl in whitelabels:\n",
    "        conn_tasks.append(executor.submit(get_connections_per_whitelabel, wl))\n",
    "    \n",
    "    for future in as_completed(conn_tasks):\n",
    "        connections_pp.extend(future.result())"
   ]
  },
  {
   "cell_type": "markdown",
   "id": "listed-child",
   "metadata": {},
   "source": [
    "Wow, that was fast! If you don't believe it's the same result from the beginning, run the next cell."
   ]
  },
  {
   "cell_type": "code",
   "execution_count": 25,
   "id": "central-disaster",
   "metadata": {},
   "outputs": [
    {
     "data": {
      "text/html": [
       "<div>\n",
       "<style scoped>\n",
       "    .dataframe tbody tr th:only-of-type {\n",
       "        vertical-align: middle;\n",
       "    }\n",
       "\n",
       "    .dataframe tbody tr th {\n",
       "        vertical-align: top;\n",
       "    }\n",
       "\n",
       "    .dataframe thead th {\n",
       "        text-align: right;\n",
       "    }\n",
       "</style>\n",
       "<table border=\"1\" class=\"dataframe\">\n",
       "  <thead>\n",
       "    <tr style=\"text-align: right;\">\n",
       "      <th></th>\n",
       "      <th>id</th>\n",
       "      <th>set_id</th>\n",
       "      <th>set_name</th>\n",
       "      <th>columns</th>\n",
       "      <th>whitelabel</th>\n",
       "      <th>customer</th>\n",
       "      <th>type</th>\n",
       "      <th>name</th>\n",
       "      <th>created</th>\n",
       "      <th>updated</th>\n",
       "      <th>last_sync</th>\n",
       "      <th>is_syncing</th>\n",
       "      <th>records</th>\n",
       "    </tr>\n",
       "  </thead>\n",
       "  <tbody>\n",
       "    <tr>\n",
       "      <th>0</th>\n",
       "      <td>1576</td>\n",
       "      <td>122</td>\n",
       "      <td>COVID Ontario</td>\n",
       "      <td>{'Row_ID': {'hash': False, 'type': 'Number', '...</td>\n",
       "      <td>1</td>\n",
       "      <td>9324</td>\n",
       "      <td>google sheet</td>\n",
       "      <td>COVID Ontario</td>\n",
       "      <td>2021-01-21T19:48:09.099Z</td>\n",
       "      <td>2021-01-21T19:52:42.148Z</td>\n",
       "      <td>2021-01-21T19:52:42.153Z</td>\n",
       "      <td>False</td>\n",
       "      <td>197152</td>\n",
       "    </tr>\n",
       "    <tr>\n",
       "      <th>1</th>\n",
       "      <td>1570</td>\n",
       "      <td>120</td>\n",
       "      <td>test gs2</td>\n",
       "      <td>{'col_1': {'hash': False, 'type': 'Number', 'd...</td>\n",
       "      <td>1</td>\n",
       "      <td>9324</td>\n",
       "      <td>google sheet</td>\n",
       "      <td>test gs2</td>\n",
       "      <td>2021-01-20T23:30:12.363Z</td>\n",
       "      <td>2021-01-20T23:30:32.727Z</td>\n",
       "      <td>2021-01-20T23:30:32.731Z</td>\n",
       "      <td>False</td>\n",
       "      <td>5</td>\n",
       "    </tr>\n",
       "    <tr>\n",
       "      <th>2</th>\n",
       "      <td>1585</td>\n",
       "      <td>123</td>\n",
       "      <td>test new branch</td>\n",
       "      <td>{'col_1': {'hash': False, 'type': 'Number', 'd...</td>\n",
       "      <td>1</td>\n",
       "      <td>9324</td>\n",
       "      <td>google sheet</td>\n",
       "      <td>test new branch</td>\n",
       "      <td>2021-01-22T15:18:57.636Z</td>\n",
       "      <td>2021-01-22T15:19:17.292Z</td>\n",
       "      <td>2021-01-22T15:19:17.297Z</td>\n",
       "      <td>False</td>\n",
       "      <td>5</td>\n",
       "    </tr>\n",
       "    <tr>\n",
       "      <th>3</th>\n",
       "      <td>1573</td>\n",
       "      <td>121</td>\n",
       "      <td>test gs string</td>\n",
       "      <td>{'col_1': {'hash': False, 'type': 'string', 'd...</td>\n",
       "      <td>1</td>\n",
       "      <td>9324</td>\n",
       "      <td>google sheet</td>\n",
       "      <td>test gs string</td>\n",
       "      <td>2021-01-21T15:30:02.203Z</td>\n",
       "      <td>2021-01-21T17:03:09.559Z</td>\n",
       "      <td>2021-01-21T17:03:09.564Z</td>\n",
       "      <td>False</td>\n",
       "      <td>5</td>\n",
       "    </tr>\n",
       "    <tr>\n",
       "      <th>4</th>\n",
       "      <td>1569</td>\n",
       "      <td>119</td>\n",
       "      <td>test gs</td>\n",
       "      <td>{'col_1': {'hash': False, 'type': 'Number', 'd...</td>\n",
       "      <td>1</td>\n",
       "      <td>9324</td>\n",
       "      <td>google sheet</td>\n",
       "      <td>test gs</td>\n",
       "      <td>2021-01-20T23:23:57.193Z</td>\n",
       "      <td>2021-01-20T23:24:25.218Z</td>\n",
       "      <td>2021-01-20T23:24:25.221Z</td>\n",
       "      <td>False</td>\n",
       "      <td>5</td>\n",
       "    </tr>\n",
       "  </tbody>\n",
       "</table>\n",
       "</div>"
      ],
      "text/plain": [
       "     id  set_id         set_name  \\\n",
       "0  1576     122    COVID Ontario   \n",
       "1  1570     120         test gs2   \n",
       "2  1585     123  test new branch   \n",
       "3  1573     121   test gs string   \n",
       "4  1569     119          test gs   \n",
       "\n",
       "                                             columns  whitelabel  customer  \\\n",
       "0  {'Row_ID': {'hash': False, 'type': 'Number', '...           1      9324   \n",
       "1  {'col_1': {'hash': False, 'type': 'Number', 'd...           1      9324   \n",
       "2  {'col_1': {'hash': False, 'type': 'Number', 'd...           1      9324   \n",
       "3  {'col_1': {'hash': False, 'type': 'string', 'd...           1      9324   \n",
       "4  {'col_1': {'hash': False, 'type': 'Number', 'd...           1      9324   \n",
       "\n",
       "           type             name                   created  \\\n",
       "0  google sheet    COVID Ontario  2021-01-21T19:48:09.099Z   \n",
       "1  google sheet         test gs2  2021-01-20T23:30:12.363Z   \n",
       "2  google sheet  test new branch  2021-01-22T15:18:57.636Z   \n",
       "3  google sheet   test gs string  2021-01-21T15:30:02.203Z   \n",
       "4  google sheet          test gs  2021-01-20T23:23:57.193Z   \n",
       "\n",
       "                    updated                 last_sync  is_syncing  records  \n",
       "0  2021-01-21T19:52:42.148Z  2021-01-21T19:52:42.153Z       False   197152  \n",
       "1  2021-01-20T23:30:32.727Z  2021-01-20T23:30:32.731Z       False        5  \n",
       "2  2021-01-22T15:19:17.292Z  2021-01-22T15:19:17.297Z       False        5  \n",
       "3  2021-01-21T17:03:09.559Z  2021-01-21T17:03:09.564Z       False        5  \n",
       "4  2021-01-20T23:24:25.218Z  2021-01-20T23:24:25.221Z       False        5  "
      ]
     },
     "execution_count": 25,
     "metadata": {},
     "output_type": "execute_result"
    }
   ],
   "source": [
    "pd.DataFrame(connections_pp[0:5])"
   ]
  },
  {
   "cell_type": "markdown",
   "id": "alleged-guide",
   "metadata": {},
   "source": [
    "### Summary"
   ]
  },
  {
   "cell_type": "markdown",
   "id": "marine-enemy",
   "metadata": {},
   "source": [
    "Parallel processing is powerful when dealing with large datasets whether it's coming from APIs or internally as it can significantly speed up the processing of them. Multiprocessing is useful when running complex logic or loading a large dataset whereas multithreading shines when data fetching from an API. It may not always be necessary to utilize parallel processing but when the going gets tough, the tough get going... to doing things in parallel!"
   ]
  },
  {
   "cell_type": "markdown",
   "id": "diverse-damage",
   "metadata": {},
   "source": [
    "# Sources"
   ]
  },
  {
   "cell_type": "markdown",
   "id": "white-potential",
   "metadata": {},
   "source": [
    "- [https://blog.floydhub.com/multiprocessing-vs-threading-in-python-what-every-data-scientist-needs-to-know/](https://blog.floydhub.com/multiprocessing-vs-threading-in-python-what-every-data-scientist-needs-to-know/)\n",
    "- [https://timber.io/blog/multiprocessing-vs-multithreading-in-python-what-you-need-to-know/](https://timber.io/blog/multiprocessing-vs-multithreading-in-python-what-you-need-to-know/)\n",
    "- [https://www.educative.io/edpresso/what-is-multithreading-in-python](https://www.educative.io/edpresso/what-is-multithreading-in-python)\n",
    "- [Modin official repository](https://github.com/modin-project/modin)"
   ]
  }
 ],
 "metadata": {
  "kernelspec": {
   "display_name": "Python 3",
   "language": "python",
   "name": "python3"
  },
  "language_info": {
   "codemirror_mode": {
    "name": "ipython",
    "version": 3
   },
   "file_extension": ".py",
   "mimetype": "text/x-python",
   "name": "python",
   "nbconvert_exporter": "python",
   "pygments_lexer": "ipython3",
   "version": "3.8.5"
  }
 },
 "nbformat": 4,
 "nbformat_minor": 5
}